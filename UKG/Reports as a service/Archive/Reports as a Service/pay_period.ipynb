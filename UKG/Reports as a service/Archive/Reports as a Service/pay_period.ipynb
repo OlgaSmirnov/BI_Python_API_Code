{
 "cells": [
  {
   "cell_type": "code",
   "execution_count": 1,
   "id": "517a86e6",
   "metadata": {},
   "outputs": [],
   "source": [
    "#Import our libraries\n",
    "import time\n",
    "import requests\n",
    "import json\n",
    "import xml.etree.ElementTree as ET  # for parsing XML\n",
    "import xmltodict\n",
    "import pandas as pd\n",
    "import csv\n",
    "import base64 \n",
    "import sqlalchemy\n",
    "\n",
    "#Import our helper functions\n",
    "import helper_functions"
   ]
  },
  {
   "cell_type": "markdown",
   "id": "6a6b3155",
   "metadata": {},
   "source": [
    "# Step 1: View the list of reports available"
   ]
  },
  {
   "cell_type": "code",
   "execution_count": 2,
   "metadata": {},
   "outputs": [
    {
     "data": {
      "text/html": [
       "<div>\n",
       "<style scoped>\n",
       "    .dataframe tbody tr th:only-of-type {\n",
       "        vertical-align: middle;\n",
       "    }\n",
       "\n",
       "    .dataframe tbody tr th {\n",
       "        vertical-align: top;\n",
       "    }\n",
       "\n",
       "    .dataframe thead th {\n",
       "        text-align: right;\n",
       "    }\n",
       "</style>\n",
       "<table border=\"1\" class=\"dataframe\">\n",
       "  <thead>\n",
       "    <tr style=\"text-align: right;\">\n",
       "      <th></th>\n",
       "      <th>ReportName</th>\n",
       "      <th>ReportPath</th>\n",
       "    </tr>\n",
       "  </thead>\n",
       "  <tbody>\n",
       "    <tr>\n",
       "      <th>61</th>\n",
       "      <td>Pre-Check Deduction</td>\n",
       "      <td>/content/folder[@name='zzzCompany Folders']/fo...</td>\n",
       "    </tr>\n",
       "    <tr>\n",
       "      <th>62</th>\n",
       "      <td>Pre-Check Earnings</td>\n",
       "      <td>/content/folder[@name='zzzCompany Folders']/fo...</td>\n",
       "    </tr>\n",
       "    <tr>\n",
       "      <th>63</th>\n",
       "      <td>Pre-Check Master</td>\n",
       "      <td>/content/folder[@name='zzzCompany Folders']/fo...</td>\n",
       "    </tr>\n",
       "    <tr>\n",
       "      <th>64</th>\n",
       "      <td>Pre-Check Payroll Register</td>\n",
       "      <td>/content/folder[@name='zzzCompany Folders']/fo...</td>\n",
       "    </tr>\n",
       "    <tr>\n",
       "      <th>65</th>\n",
       "      <td>Pre-Check Tax</td>\n",
       "      <td>/content/folder[@name='zzzCompany Folders']/fo...</td>\n",
       "    </tr>\n",
       "    <tr>\n",
       "      <th>66</th>\n",
       "      <td>Prenote</td>\n",
       "      <td>/content/folder[@name='zzzCompany Folders']/fo...</td>\n",
       "    </tr>\n",
       "  </tbody>\n",
       "</table>\n",
       "</div>"
      ],
      "text/plain": [
       "                    ReportName  \\\n",
       "61         Pre-Check Deduction   \n",
       "62          Pre-Check Earnings   \n",
       "63            Pre-Check Master   \n",
       "64  Pre-Check Payroll Register   \n",
       "65               Pre-Check Tax   \n",
       "66                     Prenote   \n",
       "\n",
       "                                           ReportPath  \n",
       "61  /content/folder[@name='zzzCompany Folders']/fo...  \n",
       "62  /content/folder[@name='zzzCompany Folders']/fo...  \n",
       "63  /content/folder[@name='zzzCompany Folders']/fo...  \n",
       "64  /content/folder[@name='zzzCompany Folders']/fo...  \n",
       "65  /content/folder[@name='zzzCompany Folders']/fo...  \n",
       "66  /content/folder[@name='zzzCompany Folders']/fo...  "
      ]
     },
     "execution_count": 2,
     "metadata": {},
     "output_type": "execute_result"
    }
   ],
   "source": [
    "#View the list of precheck reports\n",
    "report_lst = helper_functions.get_available_precheck_reports()\n",
    "\n",
    "report_lst"
   ]
  },
  {
   "cell_type": "code",
   "execution_count": 3,
   "metadata": {},
   "outputs": [],
   "source": [
    "report_path = report_lst[report_lst['ReportName'] == 'Pre-Check Deduction']['ReportPath'].loc[61]"
   ]
  },
  {
   "cell_type": "markdown",
   "id": "f12e2826",
   "metadata": {},
   "source": [
    "## Step 2: Retrieve the report and export as a CSV"
   ]
  },
  {
   "cell_type": "code",
   "execution_count": 4,
   "metadata": {},
   "outputs": [
    {
     "name": "stderr",
     "output_type": "stream",
     "text": [
      "c:\\UKG\\Reports as a service\\helper_functions.py:367: FutureWarning: The default value of regex will change from True to False in a future version. In addition, single character regular expressions will *not* be treated as literal strings when regex=True.\n",
      "  df[col] = df[col].astype(str).str.replace('{', '')\n",
      "c:\\UKG\\Reports as a service\\helper_functions.py:368: FutureWarning: The default value of regex will change from True to False in a future version. In addition, single character regular expressions will *not* be treated as literal strings when regex=True.\n",
      "  df[col] = df[col].astype(str).str.replace('}', '')\n",
      "c:\\UKG\\Reports as a service\\helper_functions.py:369: FutureWarning: The default value of regex will change from True to False in a future version. In addition, single character regular expressions will *not* be treated as literal strings when regex=True.\n",
      "  df[col] = df[col].astype(str).str.replace('[', '')\n",
      "c:\\UKG\\Reports as a service\\helper_functions.py:370: FutureWarning: The default value of regex will change from True to False in a future version. In addition, single character regular expressions will *not* be treated as literal strings when regex=True.\n",
      "  df[col] = df[col].astype(str).str.replace(']', '')\n"
     ]
    },
    {
     "data": {
      "text/html": [
       "<div>\n",
       "<style scoped>\n",
       "    .dataframe tbody tr th:only-of-type {\n",
       "        vertical-align: middle;\n",
       "    }\n",
       "\n",
       "    .dataframe tbody tr th {\n",
       "        vertical-align: top;\n",
       "    }\n",
       "\n",
       "    .dataframe thead th {\n",
       "        text-align: right;\n",
       "    }\n",
       "</style>\n",
       "<table border=\"1\" class=\"dataframe\">\n",
       "  <thead>\n",
       "    <tr style=\"text-align: right;\">\n",
       "      <th></th>\n",
       "      <th>period_control_date</th>\n",
       "      <th>employee_number</th>\n",
       "      <th>deduction/benefit_code</th>\n",
       "      <th>deduction/benefit_(stub)</th>\n",
       "      <th>current_amount_(employee)</th>\n",
       "      <th>current_amount_(employer)</th>\n",
       "    </tr>\n",
       "  </thead>\n",
       "  <tbody>\n",
       "    <tr>\n",
       "      <th>0</th>\n",
       "      <td>2022-12-09T00:00:00</td>\n",
       "      <td>001008339</td>\n",
       "      <td>OFFC</td>\n",
       "      <td>Off-Cycle Check</td>\n",
       "      <td>-1928.71</td>\n",
       "      <td>0</td>\n",
       "    </tr>\n",
       "    <tr>\n",
       "      <th>1</th>\n",
       "      <td>2022-12-09T00:00:00</td>\n",
       "      <td>001008584</td>\n",
       "      <td>OFFC</td>\n",
       "      <td>Off-Cycle Check</td>\n",
       "      <td>-344.75</td>\n",
       "      <td>0</td>\n",
       "    </tr>\n",
       "    <tr>\n",
       "      <th>2</th>\n",
       "      <td>2022-12-09T00:00:00</td>\n",
       "      <td>001008586</td>\n",
       "      <td>OFFC</td>\n",
       "      <td>Off-Cycle Check</td>\n",
       "      <td>-693.27</td>\n",
       "      <td>0</td>\n",
       "    </tr>\n",
       "  </tbody>\n",
       "</table>\n",
       "</div>"
      ],
      "text/plain": [
       "   period_control_date employee_number deduction/benefit_code  \\\n",
       "0  2022-12-09T00:00:00       001008339                   OFFC   \n",
       "1  2022-12-09T00:00:00       001008584                   OFFC   \n",
       "2  2022-12-09T00:00:00       001008586                   OFFC   \n",
       "\n",
       "  deduction/benefit_(stub) current_amount_(employee) current_amount_(employer)  \n",
       "0          Off-Cycle Check                  -1928.71                         0  \n",
       "1          Off-Cycle Check                   -344.75                         0  \n",
       "2          Off-Cycle Check                   -693.27                         0  "
      ]
     },
     "execution_count": 4,
     "metadata": {},
     "output_type": "execute_result"
    }
   ],
   "source": [
    "df = helper_functions.retrieve_report(report_path) \n",
    "df "
   ]
  },
  {
   "cell_type": "code",
   "execution_count": 5,
   "metadata": {},
   "outputs": [
    {
     "data": {
      "text/html": [
       "<div>\n",
       "<style scoped>\n",
       "    .dataframe tbody tr th:only-of-type {\n",
       "        vertical-align: middle;\n",
       "    }\n",
       "\n",
       "    .dataframe tbody tr th {\n",
       "        vertical-align: top;\n",
       "    }\n",
       "\n",
       "    .dataframe thead th {\n",
       "        text-align: right;\n",
       "    }\n",
       "</style>\n",
       "<table border=\"1\" class=\"dataframe\">\n",
       "  <thead>\n",
       "    <tr style=\"text-align: right;\">\n",
       "      <th></th>\n",
       "      <th>period_control_date</th>\n",
       "      <th>employee_number</th>\n",
       "      <th>deduction/benefit_code</th>\n",
       "      <th>deduction/benefit_(stub)</th>\n",
       "      <th>current_amount_(employee)</th>\n",
       "      <th>current_amount_(employer)</th>\n",
       "    </tr>\n",
       "  </thead>\n",
       "  <tbody>\n",
       "    <tr>\n",
       "      <th>0</th>\n",
       "      <td>2022-12-09 00:00:00</td>\n",
       "      <td>001008339</td>\n",
       "      <td>OFFC</td>\n",
       "      <td>Off-Cycle Check</td>\n",
       "      <td>-1928.71</td>\n",
       "      <td>0</td>\n",
       "    </tr>\n",
       "    <tr>\n",
       "      <th>1</th>\n",
       "      <td>2022-12-09 00:00:00</td>\n",
       "      <td>001008584</td>\n",
       "      <td>OFFC</td>\n",
       "      <td>Off-Cycle Check</td>\n",
       "      <td>-344.75</td>\n",
       "      <td>0</td>\n",
       "    </tr>\n",
       "    <tr>\n",
       "      <th>2</th>\n",
       "      <td>2022-12-09 00:00:00</td>\n",
       "      <td>001008586</td>\n",
       "      <td>OFFC</td>\n",
       "      <td>Off-Cycle Check</td>\n",
       "      <td>-693.27</td>\n",
       "      <td>0</td>\n",
       "    </tr>\n",
       "  </tbody>\n",
       "</table>\n",
       "</div>"
      ],
      "text/plain": [
       "   period_control_date employee_number deduction/benefit_code  \\\n",
       "0  2022-12-09 00:00:00       001008339                   OFFC   \n",
       "1  2022-12-09 00:00:00       001008584                   OFFC   \n",
       "2  2022-12-09 00:00:00       001008586                   OFFC   \n",
       "\n",
       "  deduction/benefit_(stub) current_amount_(employee) current_amount_(employer)  \n",
       "0          Off-Cycle Check                  -1928.71                         0  \n",
       "1          Off-Cycle Check                   -344.75                         0  \n",
       "2          Off-Cycle Check                   -693.27                         0  "
      ]
     },
     "execution_count": 5,
     "metadata": {},
     "output_type": "execute_result"
    }
   ],
   "source": [
    "#Remove the T's from the column names\n",
    "df['period_control_date'] = df['period_control_date'].str.replace('T', ' ')\n",
    "\n",
    "df"
   ]
  },
  {
   "cell_type": "markdown",
   "metadata": {},
   "source": [
    "# Step 3: Export the report as a CSV"
   ]
  },
  {
   "cell_type": "code",
   "execution_count": 6,
   "metadata": {},
   "outputs": [],
   "source": [
    "df.to_csv('ukg_bulk_insert.csv', index=False)"
   ]
  },
  {
   "cell_type": "markdown",
   "id": "7c016dbb",
   "metadata": {},
   "source": [
    "# Step 4: Insert the report into BiData2 as a table"
   ]
  },
  {
   "cell_type": "code",
   "execution_count": 7,
   "metadata": {},
   "outputs": [],
   "source": [
    "helper_functions.create_sql_table_v2('STG_PreCheck_Deduction')"
   ]
  },
  {
   "cell_type": "markdown",
   "metadata": {},
   "source": [
    "# Step 5: Close the API connection"
   ]
  },
  {
   "cell_type": "code",
   "execution_count": 8,
   "metadata": {},
   "outputs": [
    {
     "data": {
      "text/plain": [
       "'<s:Envelope xmlns:s=\"http://www.w3.org/2003/05/soap-envelope\" xmlns:a=\"http://www.w3.org/2005/08/addressing\"><s:Header><a:Action s:mustUnderstand=\"1\">http://www.ultipro.com/dataservices/bidata/2/IBIDataService/LogOffResponse</a:Action></s:Header><s:Body><LogOffResponse xmlns=\"http://www.ultipro.com/dataservices/bidata/2\"><LogOffResult xmlns:i=\"http://www.w3.org/2001/XMLSchema-instance\"><ServiceId i:nil=\"true\"/><ClientAccessKey>PLAB4</ClientAccessKey><Token i:nil=\"true\"/><Status>LoggedOff</Status><StatusMessage i:nil=\"true\"/><InstanceKey i:nil=\"true\"/></LogOffResult></LogOffResponse></s:Body></s:Envelope>'"
      ]
     },
     "execution_count": 8,
     "metadata": {},
     "output_type": "execute_result"
    }
   ],
   "source": [
    "helper_functions.close_api_connection()"
   ]
  },
  {
   "cell_type": "code",
   "execution_count": null,
   "metadata": {},
   "outputs": [],
   "source": []
  }
 ],
 "metadata": {
  "kernelspec": {
   "display_name": "Python 3.9.13 ('base')",
   "language": "python",
   "name": "python3"
  },
  "language_info": {
   "codemirror_mode": {
    "name": "ipython",
    "version": 3
   },
   "file_extension": ".py",
   "mimetype": "text/x-python",
   "name": "python",
   "nbconvert_exporter": "python",
   "pygments_lexer": "ipython3",
   "version": "3.9.13"
  },
  "orig_nbformat": 4,
  "vscode": {
   "interpreter": {
    "hash": "ad2bdc8ecc057115af97d19610ffacc2b4e99fae6737bb82f5d7fb13d2f2c186"
   }
  }
 },
 "nbformat": 4,
 "nbformat_minor": 2
}
