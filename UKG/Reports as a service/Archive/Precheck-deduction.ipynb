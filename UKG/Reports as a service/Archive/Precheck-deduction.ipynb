{
 "cells": [
  {
   "cell_type": "code",
   "execution_count": 115,
   "id": "517a86e6",
   "metadata": {},
   "outputs": [],
   "source": [
    "#Import our libraries\n",
    "import time\n",
    "import requests\n",
    "import json\n",
    "import xml.etree.ElementTree as ET  # for parsing XML\n",
    "import xmltodict\n",
    "import pandas as pd\n",
    "import csv\n",
    "import base64 \n",
    "import sqlalchemy"
   ]
  },
  {
   "cell_type": "markdown",
   "id": "0ef2c5db",
   "metadata": {},
   "source": [
    "# Step 1: Get the authentication token and instance key "
   ]
  },
  {
   "cell_type": "code",
   "execution_count": 116,
   "id": "a9f8c0fa",
   "metadata": {},
   "outputs": [],
   "source": [
    "#Our endpoint\n",
    "url=\"https://service5.ultipro.com/services/BIDataService\"\n",
    "\n",
    "#The below headers variable specifies that we are sending the request to a SOAP API\n",
    "headers = {\"content-type\": \"application/soap+xml\"}"
   ]
  },
  {
   "cell_type": "code",
   "execution_count": 117,
   "id": "82f78c83",
   "metadata": {},
   "outputs": [],
   "source": [
    "body = \"\"\" <s:Envelope xmlns:s=\"http://www.w3.org/2003/05/soap-envelope\" xmlns:a=\"http://www.w3.org/2005/08/addressing\">\n",
    "\n",
    "  <s:Header>\n",
    "\n",
    "<a:Action s:mustUnderstand=\"1\">http://www.ultipro.com/dataservices/bidata/2/IBIDataService/LogOn</a:Action>\n",
    "\n",
    "<a:To s:mustUnderstand=\"1\">https://servicehost/services/BiDataService</a:To>\n",
    "\n",
    "</s:Header>\n",
    "\n",
    "  <s:Body>\n",
    "\n",
    "  <LogOn xmlns=\"http://www.ultipro.com/dataservices/bidata/2\">\n",
    "\n",
    "  <logOnRequest xmlns:i=\"http://www.w3.org/2001/XMLSchema-instance\">\n",
    "\n",
    "<UserName>BI_Data</UserName>\n",
    "\n",
    "<Password>SG]xJZ4}/^G!lX!G!#pk5==$HoKo@M|4;O?=$?x3k(|1gd6g_N</Password>\n",
    "\n",
    "<ClientAccessKey>PLAB4</ClientAccessKey>\n",
    "\n",
    "<UserAccessKey>ED5P34000010</UserAccessKey>\n",
    "\n",
    "</logOnRequest>\n",
    "\n",
    "</LogOn>\n",
    "\n",
    "</s:Body>\n",
    "\n",
    "</s:Envelope> \"\"\""
   ]
  },
  {
   "cell_type": "code",
   "execution_count": 118,
   "id": "b3eac60c",
   "metadata": {},
   "outputs": [
    {
     "name": "stdout",
     "output_type": "stream",
     "text": [
      "<Response [200]>\n",
      "<s:Envelope xmlns:s=\"http://www.w3.org/2003/05/soap-envelope\" xmlns:a=\"http://www.w3.org/2005/08/addressing\"><s:Header><a:Action s:mustUnderstand=\"1\">http://www.ultipro.com/dataservices/bidata/2/IBIDataService/LogOnResponse</a:Action></s:Header><s:Body><LogOnResponse xmlns=\"http://www.ultipro.com/dataservices/bidata/2\"><LogOnResult xmlns:i=\"http://www.w3.org/2001/XMLSchema-instance\"><ServiceId>f0529fed-4f9f-4b5c-b8f8-406268857b3b</ServiceId><ClientAccessKey>PLAB4</ClientAccessKey><Token>3c7c0cf5-9e07-4a60-93cc-5da0ff62c368</Token><Status>Ok</Status><StatusMessage i:nil=\"true\"/><InstanceKey>5e5a22a0-022e-43a8-9f60-eb3d5dfbd4b2</InstanceKey></LogOnResult></LogOnResponse></s:Body></s:Envelope>\n"
     ]
    }
   ],
   "source": [
    "#View the response\n",
    "response = requests.post(url, headers=headers, data=body)\n",
    "print (response)\n",
    "print (response.text)"
   ]
  },
  {
   "cell_type": "markdown",
   "id": "b8cbdb52",
   "metadata": {},
   "source": [
    "Now, iterate through the response to get the token, service_id, and instance key"
   ]
  },
  {
   "cell_type": "code",
   "execution_count": 119,
   "id": "bbdaff2a",
   "metadata": {},
   "outputs": [
    {
     "data": {
      "text/plain": [
       "699"
      ]
     },
     "execution_count": 119,
     "metadata": {},
     "output_type": "execute_result"
    }
   ],
   "source": [
    "#Write the response to a file\n",
    "open(\"file.xml\", \"w\").write(response.text)"
   ]
  },
  {
   "cell_type": "code",
   "execution_count": 120,
   "id": "fddd6577",
   "metadata": {},
   "outputs": [],
   "source": [
    "#Open the file as an ElementTree object\n",
    "tree = ET.parse('file.xml')\n",
    "root = tree.getroot()"
   ]
  },
  {
   "cell_type": "code",
   "execution_count": 121,
   "id": "d9dc197b",
   "metadata": {},
   "outputs": [
    {
     "data": {
      "text/plain": [
       "['{http://www.w3.org/2003/05/soap-envelope}Envelope',\n",
       " '{http://www.w3.org/2003/05/soap-envelope}Header',\n",
       " '{http://www.w3.org/2005/08/addressing}Action',\n",
       " '{http://www.w3.org/2003/05/soap-envelope}Body',\n",
       " '{http://www.ultipro.com/dataservices/bidata/2}LogOnResponse',\n",
       " '{http://www.ultipro.com/dataservices/bidata/2}LogOnResult',\n",
       " '{http://www.ultipro.com/dataservices/bidata/2}ServiceId',\n",
       " '{http://www.ultipro.com/dataservices/bidata/2}ClientAccessKey',\n",
       " '{http://www.ultipro.com/dataservices/bidata/2}Token',\n",
       " '{http://www.ultipro.com/dataservices/bidata/2}Status',\n",
       " '{http://www.ultipro.com/dataservices/bidata/2}StatusMessage',\n",
       " '{http://www.ultipro.com/dataservices/bidata/2}InstanceKey']"
      ]
     },
     "execution_count": 121,
     "metadata": {},
     "output_type": "execute_result"
    }
   ],
   "source": [
    "#Show all the elements in the tree\n",
    "[elem.tag for elem in root.iter()]"
   ]
  },
  {
   "cell_type": "code",
   "execution_count": 122,
   "id": "4e177335",
   "metadata": {},
   "outputs": [],
   "source": [
    "#Get the token from the \"Token\" element in the tree\n",
    "for each in root.iter('{http://www.ultipro.com/dataservices/bidata/2}Token'):\n",
    "    token = each.text"
   ]
  },
  {
   "cell_type": "code",
   "execution_count": 123,
   "id": "f83f5582",
   "metadata": {},
   "outputs": [],
   "source": [
    "#Get the service id\n",
    "for each in root.iter('{http://www.ultipro.com/dataservices/bidata/2}ServiceId'):\n",
    "    service_id = each.text"
   ]
  },
  {
   "cell_type": "code",
   "execution_count": 124,
   "id": "542f2b28",
   "metadata": {},
   "outputs": [],
   "source": [
    "#Get the instance key\n",
    "for each in root.iter('{http://www.ultipro.com/dataservices/bidata/2}InstanceKey'):\n",
    "    instance_key = each.text"
   ]
  },
  {
   "cell_type": "code",
   "execution_count": 125,
   "id": "9fe31a06",
   "metadata": {},
   "outputs": [
    {
     "name": "stdout",
     "output_type": "stream",
     "text": [
      "3c7c0cf5-9e07-4a60-93cc-5da0ff62c368\n"
     ]
    }
   ],
   "source": [
    "#Print the token\n",
    "print(token)"
   ]
  },
  {
   "cell_type": "code",
   "execution_count": 126,
   "id": "e3c94fde",
   "metadata": {},
   "outputs": [
    {
     "name": "stdout",
     "output_type": "stream",
     "text": [
      "f0529fed-4f9f-4b5c-b8f8-406268857b3b\n"
     ]
    }
   ],
   "source": [
    "#Print the service id\n",
    "print(service_id)"
   ]
  },
  {
   "cell_type": "code",
   "execution_count": 127,
   "id": "e0ee672e",
   "metadata": {},
   "outputs": [
    {
     "name": "stdout",
     "output_type": "stream",
     "text": [
      "5e5a22a0-022e-43a8-9f60-eb3d5dfbd4b2\n"
     ]
    }
   ],
   "source": [
    "#Print the instance key\n",
    "print(instance_key)"
   ]
  },
  {
   "cell_type": "markdown",
   "id": "6a6b3155",
   "metadata": {},
   "source": [
    "# Step 2: View the list of reports available"
   ]
  },
  {
   "cell_type": "markdown",
   "id": "4fddb18f",
   "metadata": {},
   "source": [
    "Now we will connect to the GetReportList endpoint, so that we can see the filepaths for all available reports"
   ]
  },
  {
   "cell_type": "code",
   "execution_count": 128,
   "id": "685758a7",
   "metadata": {},
   "outputs": [],
   "source": [
    "#Our endpoint\n",
    "url=\"https://service5.ultipro.com/services/BIDataService\"\n",
    "\n",
    "#The below headers variable specifies that we are sending the request to a SOAP API\n",
    "headers = {\"content-type\": \"application/soap+xml\"}"
   ]
  },
  {
   "cell_type": "code",
   "execution_count": 129,
   "id": "2627e9fd",
   "metadata": {},
   "outputs": [],
   "source": [
    "body = \"\"\"   \n",
    "<s:Envelope xmlns:s=\"http://www.w3.org/2003/05/soap-envelope\" xmlns:a=\"http://www.w3.org/2005/08/addressing\">\n",
    "\n",
    "  <s:Header>\n",
    "\n",
    "<a:Action s:mustUnderstand=\"1\">http://www.ultipro.com/dataservices/bidata/2/IBIDataService/GetReportList</a:Action>\n",
    "\n",
    "<a:To s:mustUnderstand=\"1\">https://servicehost/services/BiDataService</a:To>\n",
    "\n",
    "</s:Header>\n",
    "\n",
    "  <s:Body>\n",
    "\n",
    "  <GetReportList xmlns=\"http://www.ultipro.com/dataservices/bidata/2\">\n",
    "\n",
    "  <context xmlns:i=\"http://www.w3.org/2001/XMLSchema-instance\">\n",
    "\n",
    "<ServiceId>\"\"\" + service_id + \"\"\"</ServiceId>\n",
    "\n",
    "<ClientAccessKey>PLAB4</ClientAccessKey>\n",
    "\n",
    "  <!-- GUID, unique per user session -->\n",
    "\n",
    "<Token>\"\"\" + token + \"\"\"</Token>\n",
    "\n",
    "<Status>Ok</Status>\n",
    "\n",
    "<StatusMessage i:nil=\"true\" />\n",
    "\n",
    "  <!-- GUID, unique per user session -->\n",
    "\n",
    "<InstanceKey>\"\"\" + instance_key + \"\"\"</InstanceKey>\n",
    "\n",
    "</context>\n",
    "\n",
    "</GetReportList>\n",
    "\n",
    "</s:Body>\n",
    "\n",
    "</s:Envelope> \"\"\""
   ]
  },
  {
   "cell_type": "code",
   "execution_count": 130,
   "id": "42e40737",
   "metadata": {},
   "outputs": [
    {
     "name": "stdout",
     "output_type": "stream",
     "text": [
      "<Response [200]>\n",
      "<s:Envelope xmlns:s=\"http://www.w3.org/2003/05/soap-envelope\" xmlns:a=\"http://www.w3.org/2005/08/addressing\"><s:Header><a:Action s:mustUnderstand=\"1\">http://www.ultipro.com/dataservices/bidata/2/IBIDataService/GetReportListResponse</a:Action></s:Header><s:Body><GetReportListResponse xmlns=\"http://www.ultipro.com/dataservices/bidata/2\"><GetReportListResult xmlns:i=\"http://www.w3.org/2001/XMLSchema-instance\"><Reports><Report><ReportName>_Current Employee Deductions and Benefits</ReportName><ReportPath>/content/folder[@name='zzzCompany Folders']/folder[@name='Proliance Surgeons, Inc., P.S.']/folder[@name='UltiPro']/report[@name='_Current Employee Deductions and Benefits']</ReportPath></Report><Report><ReportName>2013-03-05T21:47:40.188Z</ReportName><ReportPath>/content/folder[@name='UltiPro BI Content']/folder[@name='UltiPro BI for Core HR and Payroll']/folder[@name='_UltiPro Delivered Packages']/package[@name='Open Enrollment Reporting Package']/agentDefinition[@name='Open Enrollment Session Available - NEW']/report[@name='2013-03-05T21:47:40.188Z']</ReportPath></Report><Report><ReportName>2020-10-26T18:25:32.678Z</ReportName><ReportPath>/content/folder[@name='zzzCompany Folders']/folder[@name='Proliance Surgeons, Inc., P.S.']/folder[@name='UltiPro']/folder[@name='Customs']/agentDefinition[@name='Benefit Eligibility Alert']/report[@name='2020-10-26T18:25:32.678Z']</ReportPath></Report><Report><ReportName>2021 Allocation Report (1)</ReportName><ReportPath>/content/folder[@name='zzzCompany Folders']/folder[@name='Proliance Surgeons, Inc., P.S.']/folder[@name='UltiPro']/folder[@name='HRIS Admin']/report[@name='2021 Allocation Report (1)']</ReportPath></Report><Report><ReportName>401k Allocation Report V1</ReportName><ReportPath>/content/folder[@name='zzzCompany Folders']/folder[@name='Proliance Surgeons, Inc., P.S.']/folder[@name='UltiPro']/folder[@name='HRIS Admin']/report[@name='401k Allocation Report V1']</ReportPath></Report><Report><ReportName>401k Allocation Report V2</ReportName><ReportPath>/content/folder[@name='zzzCompany Folders']/folder[@name='Proliance Surgeons, Inc., P.S.']/folder[@name='UltiPro']/folder[@name='HRIS Admin']/report[@name='401k Allocation Report V2']</ReportPath></Report><Report><ReportName>401k Allocation Report V2_UKG</ReportName><ReportPath>/content/folder[@name='zzzCompany Folders']/folder[@name='Proliance Surgeons, Inc., P.S.']/folder[@name='UltiPro']/folder[@name='HRIS Admin']/report[@name='401k Allocation Report V2_UKG']</ReportPath></Report><Report><ReportName>401k Allocation Report V3_UKG</ReportName><ReportPath>/content/folder[@name='zzzCompany Folders']/folder[@name='Proliance Surgeons, Inc., P.S.']/folder[@name='UltiPro']/folder[@name='HRIS Admin']/report[@name='401k Allocation Report V3_UKG']</ReportPath></Report><Report><ReportName>401k Allocation Report V3_UKG v2</ReportName><ReportPath>/content/folder[@name='zzzCompany Folders']/folder[@name='Proliance Surgeons, Inc., P.S.']/folder[@name='UltiPro']/folder[@name='HRIS Admin']/report[@name='401k Allocation Report V3_UKG v2']</ReportPath></Report><Report><ReportName>401k Allocation Report V3_UKG v4</ReportName><ReportPath>/content/folder[@name='zzzCompany Folders']/folder[@name='Proliance Surgeons, Inc., P.S.']/folder[@name='UltiPro']/folder[@name='HRIS Admin']/report[@name='401k Allocation Report V3_UKG v4']</ReportPath></Report><Report><ReportName>5 Level Supervisors</ReportName><ReportPath>/content/folder[@name='zzzCompany Folders']/folder[@name='Proliance Surgeons, Inc., P.S.']/folder[@name='UltiPro']/folder[@name='TEST Reports']/report[@name='5 Level Supervisors']</ReportPath></Report><Report><ReportName>Active EE_DD List</ReportName><ReportPath>/content/folder[@name='zzzCompany Folders']/folder[@name='Proliance Surgeons, Inc., P.S.']/folder[@name='UltiPro']/folder[@name='Payroll Coordinator']/folder[@name='Pay Period']/report[@name='Active EE_DD List']</ReportPath></Report><Report><ReportName>Allocated Hours FTE by Date</ReportName><ReportPath>/content/folder[@name='zzzCompany Folders']/folder[@name='Proliance Surgeons, Inc., P.S.']/folder[@name='UltiPro']/folder[@name='HRIS Admin']/report[@name='Allocated Hours FTE by Date']</ReportPath></Report><Report><ReportName>Allocated Hours FTE by Month</ReportName><ReportPath>/content/folder[@name='zzzCompany Folders']/folder[@name='Proliance Surgeons, Inc., P.S.']/folder[@name='UltiPro']/folder[@name='HRIS Admin']/report[@name='Allocated Hours FTE by Month']</ReportPath></Report><Report><ReportName>Annual Earnings</ReportName><ReportPath>/content/folder[@name='zzzCompany Folders']/folder[@name='Proliance Surgeons, Inc., P.S.']/folder[@name='UltiPro']/report[@name='Annual Earnings']</ReportPath></Report><Report><ReportName>Audit Report with Time vs Pay Matrix Tables</ReportName><ReportPath>/content/folder[@name='zzzCompany Folders']/folder[@name='Proliance Surgeons, Inc., P.S.']/folder[@name='UltiPro']/folder[@name='TEST Reports']/folder[@name='Time Management Reports']/report[@name='Audit Report with Time vs Pay Matrix Tables']</ReportPath></Report><Report><ReportName>Comp Project V3</ReportName><ReportPath>/content/folder[@name='zzzCompany Folders']/folder[@name='Proliance Surgeons, Inc., P.S.']/folder[@name='UltiPro']/folder[@name='HRIS Admin']/report[@name='Comp Project V3']</ReportPath></Report><Report><ReportName>Configuration Validation</ReportName><ReportPath>/content/folder[@name='zzzCompany Folders']/folder[@name='Proliance Surgeons, Inc., P.S.']/folder[@name='UltiPro']/report[@name='Configuration Validation']</ReportPath></Report><Report><ReportName>Counts by Location</ReportName><ReportPath>/content/folder[@name='zzzCompany Folders']/folder[@name='Proliance Surgeons, Inc., P.S.']/folder[@name='UltiPro']/folder[@name='HRIS Admin']/report[@name='Counts by Location']</ReportPath></Report><Report><ReportName>Current Employee Deductions and Benefits</ReportName><ReportPath>/content/folder[@name='zzzCompany Folders']/folder[@name='Proliance Surgeons, Inc., P.S.']/folder[@name='UltiPro']/folder[@name='TEST Reports']/report[@name='Current Employee Deductions and Benefits']</ReportPath></Report><Report><ReportName>David's Report</ReportName><ReportPath>/content/folder[@name='zzzCompany Folders']/folder[@name='Proliance Surgeons, Inc., P.S.']/folder[@name='UltiPro']/folder[@name='HRIS Admin']/report[@name=\"David's Report\"]</ReportPath></Report><Report><ReportName>David's Report V2</ReportName><ReportPath>/content/folder[@name='zzzCompany Folders']/folder[@name='Proliance Surgeons, Inc., P.S.']/folder[@name='UltiPro']/folder[@name='HRIS Admin']/report[@name=\"David's Report V2\"]</ReportPath></Report><Report><ReportName>Deduction list</ReportName><ReportPath>/content/folder[@name='zzzCompany Folders']/folder[@name='Proliance Surgeons, Inc., P.S.']/folder[@name='UltiPro']/folder[@name='TEST Reports']/report[@name='Deduction list']</ReportPath></Report><Report><ReportName>Deduction Pay History By Deduction For EmployeesUKG</ReportName><ReportPath>/content/folder[@name='zzzCompany Folders']/folder[@name='Proliance Surgeons, Inc., P.S.']/folder[@name='UltiPro']/report[@name='Deduction Pay History By Deduction For EmployeesUKG']</ReportPath></Report><Report><ReportName>Deductions in Arrears V2</ReportName><ReportPath>/content/folder[@name='zzzCompany Folders']/folder[@name='Proliance Surgeons, Inc., P.S.']/folder[@name='UltiPro']/folder[@name='TEST Reports']/report[@name='Deductions in Arrears V2']</ReportPath></Report><Report><ReportName>Deferred Comp Wages and Hours_UKG</ReportName><ReportPath>/content/folder[@name='zzzCompany Folders']/folder[@name='Proliance Surgeons, Inc., P.S.']/folder[@name='UltiPro']/report[@name='Deferred Comp Wages and Hours_UKG']</ReportPath></Report><Report><ReportName>Dependents by Employee and Plan test</ReportName><ReportPath>/content/folder[@name='zzzCompany Folders']/folder[@name='Proliance Surgeons, Inc., P.S.']/folder[@name='UltiPro']/folder[@name='Customs']/report[@name='Dependents by Employee and Plan test']</ReportPath></Report><Report><ReportName>Document Category Report</ReportName><ReportPath>/content/folder[@name='zzzCompany Folders']/folder[@name='Proliance Surgeons, Inc., P.S.']/folder[@name='UltiPro']/report[@name='Document Category Report']</ReportPath></Report><Report><ReportName>DSHS_New Hires</ReportName><ReportPath>/content/folder[@name='zzzCompany Folders']/folder[@name='Proliance Surgeons, Inc., P.S.']/folder[@name='UltiPro']/folder[@name='Payroll Coordinator']/folder[@name='Pay Period']/report[@name='DSHS_New Hires']</ReportPath></Report><Report><ReportName>Earning Codes Table</ReportName><ReportPath>/content/folder[@name='zzzCompany Folders']/folder[@name='Proliance Surgeons, Inc., P.S.']/folder[@name='UltiPro']/folder[@name='Export to SQL']/report[@name='Earning Codes Table']</ReportPath></Report><Report><ReportName>Earnings Pay History By Earning Code For Employees_ULTI</ReportName><ReportPath>/content/folder[@name='zzzCompany Folders']/folder[@name='Proliance Surgeons, Inc., P.S.']/folder[@name='UltiPro']/report[@name='Earnings Pay History By Earning Code For Employees_ULTI']</ReportPath></Report><Report><ReportName>Earnings_by_Code</ReportName><ReportPath>/content/folder[@name='zzzCompany Folders']/folder[@name='Proliance Surgeons, Inc., P.S.']/folder[@name='UltiPro']/folder[@name='Export to SQL']/report[@name='Earnings_by_Code']</ReportPath></Report><Report><ReportName>Earnings_with_PayPeriodID_TEST</ReportName><ReportPath>/content/folder[@name='zzzCompany Folders']/folder[@name='Proliance Surgeons, Inc., P.S.']/folder[@name='UltiPro']/folder[@name='Customs']/report[@name='Earnings_with_PayPeriodID_TEST']</ReportPath></Report><Report><ReportName>EE Holiday List</ReportName><ReportPath>/content/folder[@name='zzzCompany Folders']/folder[@name='Proliance Surgeons, Inc., P.S.']/folder[@name='UltiPro']/folder[@name='Payroll Coordinator']/report[@name='EE Holiday List']</ReportPath></Report><Report><ReportName>EE Location List</ReportName><ReportPath>/content/folder[@name='zzzCompany Folders']/folder[@name='Proliance Surgeons, Inc., P.S.']/folder[@name='UltiPro']/folder[@name='Payroll Coordinator']/report[@name='EE Location List']</ReportPath></Report><Report><ReportName>Employee job history report</ReportName><ReportPath>/content/folder[@name='zzzCompany Folders']/folder[@name='Proliance Surgeons, Inc., P.S.']/folder[@name='UltiPro']/folder[@name='TEST Reports']/report[@name='Employee job history report']</ReportPath></Report><Report><ReportName>Employee List</ReportName><ReportPath>/content/folder[@name='zzzCompany Folders']/folder[@name='Proliance Surgeons, Inc., P.S.']/folder[@name='UltiPro']/folder[@name='Export to SQL']/report[@name='Employee List']</ReportPath></Report><Report><ReportName>Employee Location Changes v2</ReportName><ReportPath>/content/folder[@name='zzzCompany Folders']/folder[@name='Proliance Surgeons, Inc., P.S.']/folder[@name='UltiPro']/folder[@name='HRIS Admin']/report[@name='Employee Location Changes v2']</ReportPath></Report><Report><ReportName>Employee PTO History - Balances - Updated 2</ReportName><ReportPath>/content/folder[@name='zzzCompany Folders']/folder[@name='Proliance Surgeons, Inc., P.S.']/folder[@name='UltiPro']/folder[@name='HRIS Admin']/report[@name='Employee PTO History - Balances - Updated 2']</ReportPath></Report><Report><ReportName>Employee Waived Deductions</ReportName><ReportPath>/content/folder[@name='zzzCompany Folders']/folder[@name='Proliance Surgeons, Inc., P.S.']/folder[@name='UltiPro']/report[@name='Employee Waived Deductions']</ReportPath></Report><Report><ReportName>EmployeeAllocation</ReportName><ReportPath>/content/folder[@name='zzzCompany Folders']/folder[@name='Proliance Surgeons, Inc., P.S.']/folder[@name='UltiPro']/folder[@name='Export to SQL']/report[@name='EmployeeAllocation']</ReportPath></Report><Report><ReportName>Employees Not Clocked In for the Day</ReportName><ReportPath>/content/folder[@name='zzzCompany Folders']/folder[@name='Proliance Surgeons, Inc., P.S.']/folder[@name='UltiPro']/folder[@name='TEST Reports']/folder[@name='Time Management Reports']/report[@name='Employees Not Clocked In for the Day']</ReportPath></Report><Report><ReportName>FSA EE Contribution Report - ded-payroll stop utility</ReportName><ReportPath>/content/folder[@name='zzzCompany Folders']/folder[@name='Proliance Surgeons, Inc., P.S.']/folder[@name='UltiPro']/folder[@name='TEST Reports']/report[@name='FSA EE Contribution Report - ded-payroll stop utility']</ReportPath></Report><Report><ReportName>HASER Contributions v2</ReportName><ReportPath>/content/folder[@name='zzzCompany Folders']/folder[@name='Proliance Surgeons, Inc., P.S.']/folder[@name='UltiPro']/folder[@name='HRIS Admin']/report[@name='HASER Contributions v2']</ReportPath></Report><Report><ReportName>Job Code</ReportName><ReportPath>/content/folder[@name='zzzCompany Folders']/folder[@name='Proliance Surgeons, Inc., P.S.']/folder[@name='UltiPro']/folder[@name='Export to SQL']/report[@name='Job Code']</ReportPath></Report><Report><ReportName>Joel Report</ReportName><ReportPath>/content/folder[@name='zzzCompany Folders']/folder[@name='Proliance Surgeons, Inc., P.S.']/folder[@name='UltiPro']/report[@name='Joel Report']</ReportPath></Report><Report><ReportName>Labels - New Hires</ReportName><ReportPath>/content/folder[@name='zzzCompany Folders']/folder[@name='Proliance Surgeons, Inc., P.S.']/folder[@name='UltiPro']/folder[@name='Payroll Coordinator']/folder[@name='Pay Period']/report[@name='Labels - New Hires']</ReportPath></Report><Report><ReportName>Labor Distribution</ReportName><ReportPath>/content/folder[@name='zzzCompany Folders']/folder[@name='Proliance Surgeons, Inc., P.S.']/folder[@name='UltiPro']/folder[@name='Payroll Coordinator']/folder[@name='Pay Period']/report[@name='Labor Distribution']</ReportPath></Report><Report><ReportName>Labor Distribution by EE</ReportName><ReportPath>/content/folder[@name='zzzCompany Folders']/folder[@name='Proliance Surgeons, Inc., P.S.']/folder[@name='UltiPro']/folder[@name='Payroll Coordinator']/folder[@name='Pay Period']/report[@name='Labor Distribution by EE']</ReportPath></Report><Report><ReportName>Locations</ReportName><ReportPath>/content/folder[@name='zzzCompany Folders']/folder[@name='Proliance Surgeons, Inc., P.S.']/folder[@name='UltiPro']/folder[@name='TEST Reports']/report[@name='Locations']</ReportPath></Report><Report><ReportName>Locations</ReportName><ReportPath>/content/folder[@name='zzzCompany Folders']/folder[@name='Proliance Surgeons, Inc., P.S.']/folder[@name='UltiPro']/folder[@name='TEST Reports']/folder[@name='PS']/report[@name='Locations']</ReportPath></Report><Report><ReportName>Locations</ReportName><ReportPath>/content/folder[@name='zzzCompany Folders']/folder[@name='Proliance Surgeons, Inc., P.S.']/folder[@name='UltiPro']/folder[@name='Export to SQL']/report[@name='Locations']</ReportPath></Report><Report><ReportName>Locations Address</ReportName><ReportPath>/content/folder[@name='zzzCompany Folders']/folder[@name='Proliance Surgeons, Inc., P.S.']/folder[@name='UltiPro']/folder[@name='Export to SQL']/report[@name='Locations Address']</ReportPath></Report><Report><ReportName>Org levels (business units)</ReportName><ReportPath>/content/folder[@name='zzzCompany Folders']/folder[@name='Proliance Surgeons, Inc., P.S.']/folder[@name='UltiPro']/report[@name='Org levels (business units)']</ReportPath></Report><Report><ReportName>Organizational Levels</ReportName><ReportPath>/content/folder[@name='zzzCompany Folders']/folder[@name='Proliance Surgeons, Inc., P.S.']/folder[@name='UltiPro']/folder[@name='Export to SQL']/report[@name='Organizational Levels']</ReportPath></Report><Report><ReportName>Overtime Report</ReportName><ReportPath>/content/folder[@name='zzzCompany Folders']/folder[@name='Proliance Surgeons, Inc., P.S.']/folder[@name='UltiPro']/folder[@name='Payroll Coordinator']/folder[@name='Pay Period']/report[@name='Overtime Report']</ReportPath></Report><Report><ReportName>Pay Period</ReportName><ReportPath>/content/folder[@name='zzzCompany Folders']/folder[@name='Proliance Surgeons, Inc., P.S.']/folder[@name='UltiPro']/folder[@name='Export to SQL']/report[@name='Pay Period']</ReportPath></Report><Report><ReportName>Pay Period (1)</ReportName><ReportPath>/content/folder[@name='zzzCompany Folders']/folder[@name='Proliance Surgeons, Inc., P.S.']/folder[@name='UltiPro']/folder[@name='Export to SQL']/report[@name='Pay Period (1)']</ReportPath></Report><Report><ReportName>PayCheck summary TEST</ReportName><ReportPath>/content/folder[@name='zzzCompany Folders']/folder[@name='Proliance Surgeons, Inc., P.S.']/folder[@name='UltiPro']/folder[@name='TEST Reports']/report[@name='PayCheck summary TEST']</ReportPath></Report><Report><ReportName>Pending Requests</ReportName><ReportPath>/content/folder[@name='zzzCompany Folders']/folder[@name='Proliance Surgeons, Inc., P.S.']/folder[@name='UltiPro']/folder[@name='HRIS Admin']/report[@name='Pending Requests']</ReportPath></Report><Report><ReportName>Point In TimeUKG</ReportName><ReportPath>/content/folder[@name='zzzCompany Folders']/folder[@name='Proliance Surgeons, Inc., P.S.']/folder[@name='UltiPro']/report[@name='Point In TimeUKG']</ReportPath></Report><Report><ReportName>Pre-Check Deduction</ReportName><ReportPath>/content/folder[@name='zzzCompany Folders']/folder[@name='Proliance Surgeons, Inc., P.S.']/folder[@name='UltiPro']/folder[@name='Export to SQL']/report[@name='Pre-Check Deduction']</ReportPath></Report><Report><ReportName>Pre-Check Earnings</ReportName><ReportPath>/content/folder[@name='zzzCompany Folders']/folder[@name='Proliance Surgeons, Inc., P.S.']/folder[@name='UltiPro']/folder[@name='Export to SQL']/report[@name='Pre-Check Earnings']</ReportPath></Report><Report><ReportName>Pre-Check Master</ReportName><ReportPath>/content/folder[@name='zzzCompany Folders']/folder[@name='Proliance Surgeons, Inc., P.S.']/folder[@name='UltiPro']/folder[@name='Export to SQL']/report[@name='Pre-Check Master']</ReportPath></Report><Report><ReportName>Pre-Check Payroll Register</ReportName><ReportPath>/content/folder[@name='zzzCompany Folders']/folder[@name='Proliance Surgeons, Inc., P.S.']/folder[@name='UltiPro']/folder[@name='TEST Reports']/report[@name='Pre-Check Payroll Register']</ReportPath></Report><Report><ReportName>Pre-Check Tax</ReportName><ReportPath>/content/folder[@name='zzzCompany Folders']/folder[@name='Proliance Surgeons, Inc., P.S.']/folder[@name='UltiPro']/folder[@name='Export to SQL']/report[@name='Pre-Check Tax']</ReportPath></Report><Report><ReportName>Prenote</ReportName><ReportPath>/content/folder[@name='zzzCompany Folders']/folder[@name='Proliance Surgeons, Inc., P.S.']/folder[@name='UltiPro']/folder[@name='Payroll Coordinator']/folder[@name='Pay Period']/report[@name='Prenote']</ReportPath></Report><Report><ReportName>Pro-rate for Salaried New</ReportName><ReportPath>/content/folder[@name='zzzCompany Folders']/folder[@name='Proliance Surgeons, Inc., P.S.']/folder[@name='UltiPro']/folder[@name='Payroll Coordinator']/folder[@name='Pay Period']/report[@name='Pro-rate for Salaried New']</ReportPath></Report><Report><ReportName>Pro-rate for Salaried Term</ReportName><ReportPath>/content/folder[@name='zzzCompany Folders']/folder[@name='Proliance Surgeons, Inc., P.S.']/folder[@name='UltiPro']/folder[@name='Payroll Coordinator']/folder[@name='Pay Period']/report[@name='Pro-rate for Salaried Term']</ReportPath></Report><Report><ReportName>Report with Declined Coverage Reason</ReportName><ReportPath>/content/folder[@name='zzzCompany Folders']/folder[@name='Proliance Surgeons, Inc., P.S.']/folder[@name='UltiPro']/report[@name='Report with Declined Coverage Reason']</ReportPath></Report><Report><ReportName>Report with Declined Coverage Reason with Term</ReportName><ReportPath>/content/folder[@name='zzzCompany Folders']/folder[@name='Proliance Surgeons, Inc., P.S.']/folder[@name='UltiPro']/report[@name='Report with Declined Coverage Reason with Term']</ReportPath></Report><Report><ReportName>SSN Verification</ReportName><ReportPath>/content/folder[@name='zzzCompany Folders']/folder[@name='Proliance Surgeons, Inc., P.S.']/folder[@name='UltiPro']/folder[@name='Payroll Coordinator']/folder[@name='Monthly']/report[@name='SSN Verification']</ReportPath></Report><Report><ReportName>Test didactions</ReportName><ReportPath>/content/folder[@name='zzzCompany Folders']/folder[@name='Proliance Surgeons, Inc., P.S.']/folder[@name='UltiPro']/folder[@name='TEST Reports']/report[@name='Test didactions']</ReportPath></Report><Report><ReportName>Test enrollments</ReportName><ReportPath>/content/folder[@name='zzzCompany Folders']/folder[@name='Proliance Surgeons, Inc., P.S.']/folder[@name='UltiPro']/folder[@name='TEST Reports']/report[@name='Test enrollments']</ReportPath></Report><Report><ReportName>UNUM Benefit Billing By Provider Report</ReportName><ReportPath>/content/folder[@name='zzzCompany Folders']/folder[@name='Proliance Surgeons, Inc., P.S.']/folder[@name='UltiPro']/folder[@name='Customs']/report[@name='UNUM Benefit Billing By Provider Report']</ReportPath></Report><Report><ReportName>Active Benefits (1)</ReportName><ReportPath>/content/folder[@name='zzzCompany Folders']/folder[@name='Proliance Surgeons, Inc., P.S.']/folder[@name='UltiPro']/folder[@name='TEST Reports']/query[@name='Active Benefits (1)']</ReportPath></Report><Report><ReportName>HSA Contribution Report</ReportName><ReportPath>/content/folder[@name='zzzCompany Folders']/folder[@name='Proliance Surgeons, Inc., P.S.']/folder[@name='UltiPro']/folder[@name='TEST Reports']/query[@name='HSA Contribution Report']</ReportPath></Report></Reports><Status>Success</Status><StatusMessage/></GetReportListResult></GetReportListResponse></s:Body></s:Envelope>\n"
     ]
    }
   ],
   "source": [
    "#\n",
    "response = requests.post(url, headers=headers, data=body)\n",
    "print (response)\n",
    "print (response.text)"
   ]
  },
  {
   "cell_type": "code",
   "execution_count": 131,
   "id": "9458fb4d",
   "metadata": {},
   "outputs": [],
   "source": [
    "#Convert XML results to JSON\n",
    "o = xmltodict.parse(response.text)\n",
    "json_data = json.dumps(o)"
   ]
  },
  {
   "cell_type": "code",
   "execution_count": 132,
   "id": "cc2979e1",
   "metadata": {},
   "outputs": [
    {
     "data": {
      "text/plain": [
       "{'s:Envelope': {'@xmlns:s': 'http://www.w3.org/2003/05/soap-envelope',\n",
       "  '@xmlns:a': 'http://www.w3.org/2005/08/addressing',\n",
       "  's:Header': {'a:Action': {'@s:mustUnderstand': '1',\n",
       "    '#text': 'http://www.ultipro.com/dataservices/bidata/2/IBIDataService/GetReportListResponse'}},\n",
       "  's:Body': {'GetReportListResponse': {'@xmlns': 'http://www.ultipro.com/dataservices/bidata/2',\n",
       "    'GetReportListResult': {'@xmlns:i': 'http://www.w3.org/2001/XMLSchema-instance',\n",
       "     'Reports': {'Report': [{'ReportName': '_Current Employee Deductions and Benefits',\n",
       "        'ReportPath': \"/content/folder[@name='zzzCompany Folders']/folder[@name='Proliance Surgeons, Inc., P.S.']/folder[@name='UltiPro']/report[@name='_Current Employee Deductions and Benefits']\"},\n",
       "       {'ReportName': '2013-03-05T21:47:40.188Z',\n",
       "        'ReportPath': \"/content/folder[@name='UltiPro BI Content']/folder[@name='UltiPro BI for Core HR and Payroll']/folder[@name='_UltiPro Delivered Packages']/package[@name='Open Enrollment Reporting Package']/agentDefinition[@name='Open Enrollment Session Available - NEW']/report[@name='2013-03-05T21:47:40.188Z']\"},\n",
       "       {'ReportName': '2020-10-26T18:25:32.678Z',\n",
       "        'ReportPath': \"/content/folder[@name='zzzCompany Folders']/folder[@name='Proliance Surgeons, Inc., P.S.']/folder[@name='UltiPro']/folder[@name='Customs']/agentDefinition[@name='Benefit Eligibility Alert']/report[@name='2020-10-26T18:25:32.678Z']\"},\n",
       "       {'ReportName': '2021 Allocation Report (1)',\n",
       "        'ReportPath': \"/content/folder[@name='zzzCompany Folders']/folder[@name='Proliance Surgeons, Inc., P.S.']/folder[@name='UltiPro']/folder[@name='HRIS Admin']/report[@name='2021 Allocation Report (1)']\"},\n",
       "       {'ReportName': '401k Allocation Report V1',\n",
       "        'ReportPath': \"/content/folder[@name='zzzCompany Folders']/folder[@name='Proliance Surgeons, Inc., P.S.']/folder[@name='UltiPro']/folder[@name='HRIS Admin']/report[@name='401k Allocation Report V1']\"},\n",
       "       {'ReportName': '401k Allocation Report V2',\n",
       "        'ReportPath': \"/content/folder[@name='zzzCompany Folders']/folder[@name='Proliance Surgeons, Inc., P.S.']/folder[@name='UltiPro']/folder[@name='HRIS Admin']/report[@name='401k Allocation Report V2']\"},\n",
       "       {'ReportName': '401k Allocation Report V2_UKG',\n",
       "        'ReportPath': \"/content/folder[@name='zzzCompany Folders']/folder[@name='Proliance Surgeons, Inc., P.S.']/folder[@name='UltiPro']/folder[@name='HRIS Admin']/report[@name='401k Allocation Report V2_UKG']\"},\n",
       "       {'ReportName': '401k Allocation Report V3_UKG',\n",
       "        'ReportPath': \"/content/folder[@name='zzzCompany Folders']/folder[@name='Proliance Surgeons, Inc., P.S.']/folder[@name='UltiPro']/folder[@name='HRIS Admin']/report[@name='401k Allocation Report V3_UKG']\"},\n",
       "       {'ReportName': '401k Allocation Report V3_UKG v2',\n",
       "        'ReportPath': \"/content/folder[@name='zzzCompany Folders']/folder[@name='Proliance Surgeons, Inc., P.S.']/folder[@name='UltiPro']/folder[@name='HRIS Admin']/report[@name='401k Allocation Report V3_UKG v2']\"},\n",
       "       {'ReportName': '401k Allocation Report V3_UKG v4',\n",
       "        'ReportPath': \"/content/folder[@name='zzzCompany Folders']/folder[@name='Proliance Surgeons, Inc., P.S.']/folder[@name='UltiPro']/folder[@name='HRIS Admin']/report[@name='401k Allocation Report V3_UKG v4']\"},\n",
       "       {'ReportName': '5 Level Supervisors',\n",
       "        'ReportPath': \"/content/folder[@name='zzzCompany Folders']/folder[@name='Proliance Surgeons, Inc., P.S.']/folder[@name='UltiPro']/folder[@name='TEST Reports']/report[@name='5 Level Supervisors']\"},\n",
       "       {'ReportName': 'Active EE_DD List',\n",
       "        'ReportPath': \"/content/folder[@name='zzzCompany Folders']/folder[@name='Proliance Surgeons, Inc., P.S.']/folder[@name='UltiPro']/folder[@name='Payroll Coordinator']/folder[@name='Pay Period']/report[@name='Active EE_DD List']\"},\n",
       "       {'ReportName': 'Allocated Hours FTE by Date',\n",
       "        'ReportPath': \"/content/folder[@name='zzzCompany Folders']/folder[@name='Proliance Surgeons, Inc., P.S.']/folder[@name='UltiPro']/folder[@name='HRIS Admin']/report[@name='Allocated Hours FTE by Date']\"},\n",
       "       {'ReportName': 'Allocated Hours FTE by Month',\n",
       "        'ReportPath': \"/content/folder[@name='zzzCompany Folders']/folder[@name='Proliance Surgeons, Inc., P.S.']/folder[@name='UltiPro']/folder[@name='HRIS Admin']/report[@name='Allocated Hours FTE by Month']\"},\n",
       "       {'ReportName': 'Annual Earnings',\n",
       "        'ReportPath': \"/content/folder[@name='zzzCompany Folders']/folder[@name='Proliance Surgeons, Inc., P.S.']/folder[@name='UltiPro']/report[@name='Annual Earnings']\"},\n",
       "       {'ReportName': 'Audit Report with Time vs Pay Matrix Tables',\n",
       "        'ReportPath': \"/content/folder[@name='zzzCompany Folders']/folder[@name='Proliance Surgeons, Inc., P.S.']/folder[@name='UltiPro']/folder[@name='TEST Reports']/folder[@name='Time Management Reports']/report[@name='Audit Report with Time vs Pay Matrix Tables']\"},\n",
       "       {'ReportName': 'Comp Project V3',\n",
       "        'ReportPath': \"/content/folder[@name='zzzCompany Folders']/folder[@name='Proliance Surgeons, Inc., P.S.']/folder[@name='UltiPro']/folder[@name='HRIS Admin']/report[@name='Comp Project V3']\"},\n",
       "       {'ReportName': 'Configuration Validation',\n",
       "        'ReportPath': \"/content/folder[@name='zzzCompany Folders']/folder[@name='Proliance Surgeons, Inc., P.S.']/folder[@name='UltiPro']/report[@name='Configuration Validation']\"},\n",
       "       {'ReportName': 'Counts by Location',\n",
       "        'ReportPath': \"/content/folder[@name='zzzCompany Folders']/folder[@name='Proliance Surgeons, Inc., P.S.']/folder[@name='UltiPro']/folder[@name='HRIS Admin']/report[@name='Counts by Location']\"},\n",
       "       {'ReportName': 'Current Employee Deductions and Benefits',\n",
       "        'ReportPath': \"/content/folder[@name='zzzCompany Folders']/folder[@name='Proliance Surgeons, Inc., P.S.']/folder[@name='UltiPro']/folder[@name='TEST Reports']/report[@name='Current Employee Deductions and Benefits']\"},\n",
       "       {'ReportName': \"David's Report\",\n",
       "        'ReportPath': '/content/folder[@name=\\'zzzCompany Folders\\']/folder[@name=\\'Proliance Surgeons, Inc., P.S.\\']/folder[@name=\\'UltiPro\\']/folder[@name=\\'HRIS Admin\\']/report[@name=\"David\\'s Report\"]'},\n",
       "       {'ReportName': \"David's Report V2\",\n",
       "        'ReportPath': '/content/folder[@name=\\'zzzCompany Folders\\']/folder[@name=\\'Proliance Surgeons, Inc., P.S.\\']/folder[@name=\\'UltiPro\\']/folder[@name=\\'HRIS Admin\\']/report[@name=\"David\\'s Report V2\"]'},\n",
       "       {'ReportName': 'Deduction list',\n",
       "        'ReportPath': \"/content/folder[@name='zzzCompany Folders']/folder[@name='Proliance Surgeons, Inc., P.S.']/folder[@name='UltiPro']/folder[@name='TEST Reports']/report[@name='Deduction list']\"},\n",
       "       {'ReportName': 'Deduction Pay History By Deduction For EmployeesUKG',\n",
       "        'ReportPath': \"/content/folder[@name='zzzCompany Folders']/folder[@name='Proliance Surgeons, Inc., P.S.']/folder[@name='UltiPro']/report[@name='Deduction Pay History By Deduction For EmployeesUKG']\"},\n",
       "       {'ReportName': 'Deductions in Arrears V2',\n",
       "        'ReportPath': \"/content/folder[@name='zzzCompany Folders']/folder[@name='Proliance Surgeons, Inc., P.S.']/folder[@name='UltiPro']/folder[@name='TEST Reports']/report[@name='Deductions in Arrears V2']\"},\n",
       "       {'ReportName': 'Deferred Comp Wages and Hours_UKG',\n",
       "        'ReportPath': \"/content/folder[@name='zzzCompany Folders']/folder[@name='Proliance Surgeons, Inc., P.S.']/folder[@name='UltiPro']/report[@name='Deferred Comp Wages and Hours_UKG']\"},\n",
       "       {'ReportName': 'Dependents by Employee and Plan test',\n",
       "        'ReportPath': \"/content/folder[@name='zzzCompany Folders']/folder[@name='Proliance Surgeons, Inc., P.S.']/folder[@name='UltiPro']/folder[@name='Customs']/report[@name='Dependents by Employee and Plan test']\"},\n",
       "       {'ReportName': 'Document Category Report',\n",
       "        'ReportPath': \"/content/folder[@name='zzzCompany Folders']/folder[@name='Proliance Surgeons, Inc., P.S.']/folder[@name='UltiPro']/report[@name='Document Category Report']\"},\n",
       "       {'ReportName': 'DSHS_New Hires',\n",
       "        'ReportPath': \"/content/folder[@name='zzzCompany Folders']/folder[@name='Proliance Surgeons, Inc., P.S.']/folder[@name='UltiPro']/folder[@name='Payroll Coordinator']/folder[@name='Pay Period']/report[@name='DSHS_New Hires']\"},\n",
       "       {'ReportName': 'Earning Codes Table',\n",
       "        'ReportPath': \"/content/folder[@name='zzzCompany Folders']/folder[@name='Proliance Surgeons, Inc., P.S.']/folder[@name='UltiPro']/folder[@name='Export to SQL']/report[@name='Earning Codes Table']\"},\n",
       "       {'ReportName': 'Earnings Pay History By Earning Code For Employees_ULTI',\n",
       "        'ReportPath': \"/content/folder[@name='zzzCompany Folders']/folder[@name='Proliance Surgeons, Inc., P.S.']/folder[@name='UltiPro']/report[@name='Earnings Pay History By Earning Code For Employees_ULTI']\"},\n",
       "       {'ReportName': 'Earnings_by_Code',\n",
       "        'ReportPath': \"/content/folder[@name='zzzCompany Folders']/folder[@name='Proliance Surgeons, Inc., P.S.']/folder[@name='UltiPro']/folder[@name='Export to SQL']/report[@name='Earnings_by_Code']\"},\n",
       "       {'ReportName': 'Earnings_with_PayPeriodID_TEST',\n",
       "        'ReportPath': \"/content/folder[@name='zzzCompany Folders']/folder[@name='Proliance Surgeons, Inc., P.S.']/folder[@name='UltiPro']/folder[@name='Customs']/report[@name='Earnings_with_PayPeriodID_TEST']\"},\n",
       "       {'ReportName': 'EE Holiday List',\n",
       "        'ReportPath': \"/content/folder[@name='zzzCompany Folders']/folder[@name='Proliance Surgeons, Inc., P.S.']/folder[@name='UltiPro']/folder[@name='Payroll Coordinator']/report[@name='EE Holiday List']\"},\n",
       "       {'ReportName': 'EE Location List',\n",
       "        'ReportPath': \"/content/folder[@name='zzzCompany Folders']/folder[@name='Proliance Surgeons, Inc., P.S.']/folder[@name='UltiPro']/folder[@name='Payroll Coordinator']/report[@name='EE Location List']\"},\n",
       "       {'ReportName': 'Employee job history report',\n",
       "        'ReportPath': \"/content/folder[@name='zzzCompany Folders']/folder[@name='Proliance Surgeons, Inc., P.S.']/folder[@name='UltiPro']/folder[@name='TEST Reports']/report[@name='Employee job history report']\"},\n",
       "       {'ReportName': 'Employee List',\n",
       "        'ReportPath': \"/content/folder[@name='zzzCompany Folders']/folder[@name='Proliance Surgeons, Inc., P.S.']/folder[@name='UltiPro']/folder[@name='Export to SQL']/report[@name='Employee List']\"},\n",
       "       {'ReportName': 'Employee Location Changes v2',\n",
       "        'ReportPath': \"/content/folder[@name='zzzCompany Folders']/folder[@name='Proliance Surgeons, Inc., P.S.']/folder[@name='UltiPro']/folder[@name='HRIS Admin']/report[@name='Employee Location Changes v2']\"},\n",
       "       {'ReportName': 'Employee PTO History - Balances - Updated 2',\n",
       "        'ReportPath': \"/content/folder[@name='zzzCompany Folders']/folder[@name='Proliance Surgeons, Inc., P.S.']/folder[@name='UltiPro']/folder[@name='HRIS Admin']/report[@name='Employee PTO History - Balances - Updated 2']\"},\n",
       "       {'ReportName': 'Employee Waived Deductions',\n",
       "        'ReportPath': \"/content/folder[@name='zzzCompany Folders']/folder[@name='Proliance Surgeons, Inc., P.S.']/folder[@name='UltiPro']/report[@name='Employee Waived Deductions']\"},\n",
       "       {'ReportName': 'EmployeeAllocation',\n",
       "        'ReportPath': \"/content/folder[@name='zzzCompany Folders']/folder[@name='Proliance Surgeons, Inc., P.S.']/folder[@name='UltiPro']/folder[@name='Export to SQL']/report[@name='EmployeeAllocation']\"},\n",
       "       {'ReportName': 'Employees Not Clocked In for the Day',\n",
       "        'ReportPath': \"/content/folder[@name='zzzCompany Folders']/folder[@name='Proliance Surgeons, Inc., P.S.']/folder[@name='UltiPro']/folder[@name='TEST Reports']/folder[@name='Time Management Reports']/report[@name='Employees Not Clocked In for the Day']\"},\n",
       "       {'ReportName': 'FSA EE Contribution Report - ded-payroll stop utility',\n",
       "        'ReportPath': \"/content/folder[@name='zzzCompany Folders']/folder[@name='Proliance Surgeons, Inc., P.S.']/folder[@name='UltiPro']/folder[@name='TEST Reports']/report[@name='FSA EE Contribution Report - ded-payroll stop utility']\"},\n",
       "       {'ReportName': 'HASER Contributions v2',\n",
       "        'ReportPath': \"/content/folder[@name='zzzCompany Folders']/folder[@name='Proliance Surgeons, Inc., P.S.']/folder[@name='UltiPro']/folder[@name='HRIS Admin']/report[@name='HASER Contributions v2']\"},\n",
       "       {'ReportName': 'Job Code',\n",
       "        'ReportPath': \"/content/folder[@name='zzzCompany Folders']/folder[@name='Proliance Surgeons, Inc., P.S.']/folder[@name='UltiPro']/folder[@name='Export to SQL']/report[@name='Job Code']\"},\n",
       "       {'ReportName': 'Joel Report',\n",
       "        'ReportPath': \"/content/folder[@name='zzzCompany Folders']/folder[@name='Proliance Surgeons, Inc., P.S.']/folder[@name='UltiPro']/report[@name='Joel Report']\"},\n",
       "       {'ReportName': 'Labels - New Hires',\n",
       "        'ReportPath': \"/content/folder[@name='zzzCompany Folders']/folder[@name='Proliance Surgeons, Inc., P.S.']/folder[@name='UltiPro']/folder[@name='Payroll Coordinator']/folder[@name='Pay Period']/report[@name='Labels - New Hires']\"},\n",
       "       {'ReportName': 'Labor Distribution',\n",
       "        'ReportPath': \"/content/folder[@name='zzzCompany Folders']/folder[@name='Proliance Surgeons, Inc., P.S.']/folder[@name='UltiPro']/folder[@name='Payroll Coordinator']/folder[@name='Pay Period']/report[@name='Labor Distribution']\"},\n",
       "       {'ReportName': 'Labor Distribution by EE',\n",
       "        'ReportPath': \"/content/folder[@name='zzzCompany Folders']/folder[@name='Proliance Surgeons, Inc., P.S.']/folder[@name='UltiPro']/folder[@name='Payroll Coordinator']/folder[@name='Pay Period']/report[@name='Labor Distribution by EE']\"},\n",
       "       {'ReportName': 'Locations',\n",
       "        'ReportPath': \"/content/folder[@name='zzzCompany Folders']/folder[@name='Proliance Surgeons, Inc., P.S.']/folder[@name='UltiPro']/folder[@name='TEST Reports']/report[@name='Locations']\"},\n",
       "       {'ReportName': 'Locations',\n",
       "        'ReportPath': \"/content/folder[@name='zzzCompany Folders']/folder[@name='Proliance Surgeons, Inc., P.S.']/folder[@name='UltiPro']/folder[@name='TEST Reports']/folder[@name='PS']/report[@name='Locations']\"},\n",
       "       {'ReportName': 'Locations',\n",
       "        'ReportPath': \"/content/folder[@name='zzzCompany Folders']/folder[@name='Proliance Surgeons, Inc., P.S.']/folder[@name='UltiPro']/folder[@name='Export to SQL']/report[@name='Locations']\"},\n",
       "       {'ReportName': 'Locations Address',\n",
       "        'ReportPath': \"/content/folder[@name='zzzCompany Folders']/folder[@name='Proliance Surgeons, Inc., P.S.']/folder[@name='UltiPro']/folder[@name='Export to SQL']/report[@name='Locations Address']\"},\n",
       "       {'ReportName': 'Org levels (business units)',\n",
       "        'ReportPath': \"/content/folder[@name='zzzCompany Folders']/folder[@name='Proliance Surgeons, Inc., P.S.']/folder[@name='UltiPro']/report[@name='Org levels (business units)']\"},\n",
       "       {'ReportName': 'Organizational Levels',\n",
       "        'ReportPath': \"/content/folder[@name='zzzCompany Folders']/folder[@name='Proliance Surgeons, Inc., P.S.']/folder[@name='UltiPro']/folder[@name='Export to SQL']/report[@name='Organizational Levels']\"},\n",
       "       {'ReportName': 'Overtime Report',\n",
       "        'ReportPath': \"/content/folder[@name='zzzCompany Folders']/folder[@name='Proliance Surgeons, Inc., P.S.']/folder[@name='UltiPro']/folder[@name='Payroll Coordinator']/folder[@name='Pay Period']/report[@name='Overtime Report']\"},\n",
       "       {'ReportName': 'Pay Period',\n",
       "        'ReportPath': \"/content/folder[@name='zzzCompany Folders']/folder[@name='Proliance Surgeons, Inc., P.S.']/folder[@name='UltiPro']/folder[@name='Export to SQL']/report[@name='Pay Period']\"},\n",
       "       {'ReportName': 'Pay Period (1)',\n",
       "        'ReportPath': \"/content/folder[@name='zzzCompany Folders']/folder[@name='Proliance Surgeons, Inc., P.S.']/folder[@name='UltiPro']/folder[@name='Export to SQL']/report[@name='Pay Period (1)']\"},\n",
       "       {'ReportName': 'PayCheck summary TEST',\n",
       "        'ReportPath': \"/content/folder[@name='zzzCompany Folders']/folder[@name='Proliance Surgeons, Inc., P.S.']/folder[@name='UltiPro']/folder[@name='TEST Reports']/report[@name='PayCheck summary TEST']\"},\n",
       "       {'ReportName': 'Pending Requests',\n",
       "        'ReportPath': \"/content/folder[@name='zzzCompany Folders']/folder[@name='Proliance Surgeons, Inc., P.S.']/folder[@name='UltiPro']/folder[@name='HRIS Admin']/report[@name='Pending Requests']\"},\n",
       "       {'ReportName': 'Point In TimeUKG',\n",
       "        'ReportPath': \"/content/folder[@name='zzzCompany Folders']/folder[@name='Proliance Surgeons, Inc., P.S.']/folder[@name='UltiPro']/report[@name='Point In TimeUKG']\"},\n",
       "       {'ReportName': 'Pre-Check Deduction',\n",
       "        'ReportPath': \"/content/folder[@name='zzzCompany Folders']/folder[@name='Proliance Surgeons, Inc., P.S.']/folder[@name='UltiPro']/folder[@name='Export to SQL']/report[@name='Pre-Check Deduction']\"},\n",
       "       {'ReportName': 'Pre-Check Earnings',\n",
       "        'ReportPath': \"/content/folder[@name='zzzCompany Folders']/folder[@name='Proliance Surgeons, Inc., P.S.']/folder[@name='UltiPro']/folder[@name='Export to SQL']/report[@name='Pre-Check Earnings']\"},\n",
       "       {'ReportName': 'Pre-Check Master',\n",
       "        'ReportPath': \"/content/folder[@name='zzzCompany Folders']/folder[@name='Proliance Surgeons, Inc., P.S.']/folder[@name='UltiPro']/folder[@name='Export to SQL']/report[@name='Pre-Check Master']\"},\n",
       "       {'ReportName': 'Pre-Check Payroll Register',\n",
       "        'ReportPath': \"/content/folder[@name='zzzCompany Folders']/folder[@name='Proliance Surgeons, Inc., P.S.']/folder[@name='UltiPro']/folder[@name='TEST Reports']/report[@name='Pre-Check Payroll Register']\"},\n",
       "       {'ReportName': 'Pre-Check Tax',\n",
       "        'ReportPath': \"/content/folder[@name='zzzCompany Folders']/folder[@name='Proliance Surgeons, Inc., P.S.']/folder[@name='UltiPro']/folder[@name='Export to SQL']/report[@name='Pre-Check Tax']\"},\n",
       "       {'ReportName': 'Prenote',\n",
       "        'ReportPath': \"/content/folder[@name='zzzCompany Folders']/folder[@name='Proliance Surgeons, Inc., P.S.']/folder[@name='UltiPro']/folder[@name='Payroll Coordinator']/folder[@name='Pay Period']/report[@name='Prenote']\"},\n",
       "       {'ReportName': 'Pro-rate for Salaried New',\n",
       "        'ReportPath': \"/content/folder[@name='zzzCompany Folders']/folder[@name='Proliance Surgeons, Inc., P.S.']/folder[@name='UltiPro']/folder[@name='Payroll Coordinator']/folder[@name='Pay Period']/report[@name='Pro-rate for Salaried New']\"},\n",
       "       {'ReportName': 'Pro-rate for Salaried Term',\n",
       "        'ReportPath': \"/content/folder[@name='zzzCompany Folders']/folder[@name='Proliance Surgeons, Inc., P.S.']/folder[@name='UltiPro']/folder[@name='Payroll Coordinator']/folder[@name='Pay Period']/report[@name='Pro-rate for Salaried Term']\"},\n",
       "       {'ReportName': 'Report with Declined Coverage Reason',\n",
       "        'ReportPath': \"/content/folder[@name='zzzCompany Folders']/folder[@name='Proliance Surgeons, Inc., P.S.']/folder[@name='UltiPro']/report[@name='Report with Declined Coverage Reason']\"},\n",
       "       {'ReportName': 'Report with Declined Coverage Reason with Term',\n",
       "        'ReportPath': \"/content/folder[@name='zzzCompany Folders']/folder[@name='Proliance Surgeons, Inc., P.S.']/folder[@name='UltiPro']/report[@name='Report with Declined Coverage Reason with Term']\"},\n",
       "       {'ReportName': 'SSN Verification',\n",
       "        'ReportPath': \"/content/folder[@name='zzzCompany Folders']/folder[@name='Proliance Surgeons, Inc., P.S.']/folder[@name='UltiPro']/folder[@name='Payroll Coordinator']/folder[@name='Monthly']/report[@name='SSN Verification']\"},\n",
       "       {'ReportName': 'Test didactions',\n",
       "        'ReportPath': \"/content/folder[@name='zzzCompany Folders']/folder[@name='Proliance Surgeons, Inc., P.S.']/folder[@name='UltiPro']/folder[@name='TEST Reports']/report[@name='Test didactions']\"},\n",
       "       {'ReportName': 'Test enrollments',\n",
       "        'ReportPath': \"/content/folder[@name='zzzCompany Folders']/folder[@name='Proliance Surgeons, Inc., P.S.']/folder[@name='UltiPro']/folder[@name='TEST Reports']/report[@name='Test enrollments']\"},\n",
       "       {'ReportName': 'UNUM Benefit Billing By Provider Report',\n",
       "        'ReportPath': \"/content/folder[@name='zzzCompany Folders']/folder[@name='Proliance Surgeons, Inc., P.S.']/folder[@name='UltiPro']/folder[@name='Customs']/report[@name='UNUM Benefit Billing By Provider Report']\"},\n",
       "       {'ReportName': 'Active Benefits (1)',\n",
       "        'ReportPath': \"/content/folder[@name='zzzCompany Folders']/folder[@name='Proliance Surgeons, Inc., P.S.']/folder[@name='UltiPro']/folder[@name='TEST Reports']/query[@name='Active Benefits (1)']\"},\n",
       "       {'ReportName': 'HSA Contribution Report',\n",
       "        'ReportPath': \"/content/folder[@name='zzzCompany Folders']/folder[@name='Proliance Surgeons, Inc., P.S.']/folder[@name='UltiPro']/folder[@name='TEST Reports']/query[@name='HSA Contribution Report']\"}]},\n",
       "     'Status': 'Success',\n",
       "     'StatusMessage': None}}}}}"
      ]
     },
     "execution_count": 132,
     "metadata": {},
     "output_type": "execute_result"
    }
   ],
   "source": [
    "#Turn the JSON data into a Python dictionary\n",
    "a_dict = json.loads(json_data)\n",
    "a_dict"
   ]
  },
  {
   "cell_type": "code",
   "execution_count": 133,
   "id": "5c4b5530",
   "metadata": {},
   "outputs": [
    {
     "data": {
      "text/plain": [
       "[{'ReportName': '_Current Employee Deductions and Benefits',\n",
       "  'ReportPath': \"/content/folder[@name='zzzCompany Folders']/folder[@name='Proliance Surgeons, Inc., P.S.']/folder[@name='UltiPro']/report[@name='_Current Employee Deductions and Benefits']\"},\n",
       " {'ReportName': '2013-03-05T21:47:40.188Z',\n",
       "  'ReportPath': \"/content/folder[@name='UltiPro BI Content']/folder[@name='UltiPro BI for Core HR and Payroll']/folder[@name='_UltiPro Delivered Packages']/package[@name='Open Enrollment Reporting Package']/agentDefinition[@name='Open Enrollment Session Available - NEW']/report[@name='2013-03-05T21:47:40.188Z']\"},\n",
       " {'ReportName': '2020-10-26T18:25:32.678Z',\n",
       "  'ReportPath': \"/content/folder[@name='zzzCompany Folders']/folder[@name='Proliance Surgeons, Inc., P.S.']/folder[@name='UltiPro']/folder[@name='Customs']/agentDefinition[@name='Benefit Eligibility Alert']/report[@name='2020-10-26T18:25:32.678Z']\"},\n",
       " {'ReportName': '2021 Allocation Report (1)',\n",
       "  'ReportPath': \"/content/folder[@name='zzzCompany Folders']/folder[@name='Proliance Surgeons, Inc., P.S.']/folder[@name='UltiPro']/folder[@name='HRIS Admin']/report[@name='2021 Allocation Report (1)']\"},\n",
       " {'ReportName': '401k Allocation Report V1',\n",
       "  'ReportPath': \"/content/folder[@name='zzzCompany Folders']/folder[@name='Proliance Surgeons, Inc., P.S.']/folder[@name='UltiPro']/folder[@name='HRIS Admin']/report[@name='401k Allocation Report V1']\"},\n",
       " {'ReportName': '401k Allocation Report V2',\n",
       "  'ReportPath': \"/content/folder[@name='zzzCompany Folders']/folder[@name='Proliance Surgeons, Inc., P.S.']/folder[@name='UltiPro']/folder[@name='HRIS Admin']/report[@name='401k Allocation Report V2']\"},\n",
       " {'ReportName': '401k Allocation Report V2_UKG',\n",
       "  'ReportPath': \"/content/folder[@name='zzzCompany Folders']/folder[@name='Proliance Surgeons, Inc., P.S.']/folder[@name='UltiPro']/folder[@name='HRIS Admin']/report[@name='401k Allocation Report V2_UKG']\"},\n",
       " {'ReportName': '401k Allocation Report V3_UKG',\n",
       "  'ReportPath': \"/content/folder[@name='zzzCompany Folders']/folder[@name='Proliance Surgeons, Inc., P.S.']/folder[@name='UltiPro']/folder[@name='HRIS Admin']/report[@name='401k Allocation Report V3_UKG']\"},\n",
       " {'ReportName': '401k Allocation Report V3_UKG v2',\n",
       "  'ReportPath': \"/content/folder[@name='zzzCompany Folders']/folder[@name='Proliance Surgeons, Inc., P.S.']/folder[@name='UltiPro']/folder[@name='HRIS Admin']/report[@name='401k Allocation Report V3_UKG v2']\"},\n",
       " {'ReportName': '401k Allocation Report V3_UKG v4',\n",
       "  'ReportPath': \"/content/folder[@name='zzzCompany Folders']/folder[@name='Proliance Surgeons, Inc., P.S.']/folder[@name='UltiPro']/folder[@name='HRIS Admin']/report[@name='401k Allocation Report V3_UKG v4']\"},\n",
       " {'ReportName': '5 Level Supervisors',\n",
       "  'ReportPath': \"/content/folder[@name='zzzCompany Folders']/folder[@name='Proliance Surgeons, Inc., P.S.']/folder[@name='UltiPro']/folder[@name='TEST Reports']/report[@name='5 Level Supervisors']\"},\n",
       " {'ReportName': 'Active EE_DD List',\n",
       "  'ReportPath': \"/content/folder[@name='zzzCompany Folders']/folder[@name='Proliance Surgeons, Inc., P.S.']/folder[@name='UltiPro']/folder[@name='Payroll Coordinator']/folder[@name='Pay Period']/report[@name='Active EE_DD List']\"},\n",
       " {'ReportName': 'Allocated Hours FTE by Date',\n",
       "  'ReportPath': \"/content/folder[@name='zzzCompany Folders']/folder[@name='Proliance Surgeons, Inc., P.S.']/folder[@name='UltiPro']/folder[@name='HRIS Admin']/report[@name='Allocated Hours FTE by Date']\"},\n",
       " {'ReportName': 'Allocated Hours FTE by Month',\n",
       "  'ReportPath': \"/content/folder[@name='zzzCompany Folders']/folder[@name='Proliance Surgeons, Inc., P.S.']/folder[@name='UltiPro']/folder[@name='HRIS Admin']/report[@name='Allocated Hours FTE by Month']\"},\n",
       " {'ReportName': 'Annual Earnings',\n",
       "  'ReportPath': \"/content/folder[@name='zzzCompany Folders']/folder[@name='Proliance Surgeons, Inc., P.S.']/folder[@name='UltiPro']/report[@name='Annual Earnings']\"},\n",
       " {'ReportName': 'Audit Report with Time vs Pay Matrix Tables',\n",
       "  'ReportPath': \"/content/folder[@name='zzzCompany Folders']/folder[@name='Proliance Surgeons, Inc., P.S.']/folder[@name='UltiPro']/folder[@name='TEST Reports']/folder[@name='Time Management Reports']/report[@name='Audit Report with Time vs Pay Matrix Tables']\"},\n",
       " {'ReportName': 'Comp Project V3',\n",
       "  'ReportPath': \"/content/folder[@name='zzzCompany Folders']/folder[@name='Proliance Surgeons, Inc., P.S.']/folder[@name='UltiPro']/folder[@name='HRIS Admin']/report[@name='Comp Project V3']\"},\n",
       " {'ReportName': 'Configuration Validation',\n",
       "  'ReportPath': \"/content/folder[@name='zzzCompany Folders']/folder[@name='Proliance Surgeons, Inc., P.S.']/folder[@name='UltiPro']/report[@name='Configuration Validation']\"},\n",
       " {'ReportName': 'Counts by Location',\n",
       "  'ReportPath': \"/content/folder[@name='zzzCompany Folders']/folder[@name='Proliance Surgeons, Inc., P.S.']/folder[@name='UltiPro']/folder[@name='HRIS Admin']/report[@name='Counts by Location']\"},\n",
       " {'ReportName': 'Current Employee Deductions and Benefits',\n",
       "  'ReportPath': \"/content/folder[@name='zzzCompany Folders']/folder[@name='Proliance Surgeons, Inc., P.S.']/folder[@name='UltiPro']/folder[@name='TEST Reports']/report[@name='Current Employee Deductions and Benefits']\"},\n",
       " {'ReportName': \"David's Report\",\n",
       "  'ReportPath': '/content/folder[@name=\\'zzzCompany Folders\\']/folder[@name=\\'Proliance Surgeons, Inc., P.S.\\']/folder[@name=\\'UltiPro\\']/folder[@name=\\'HRIS Admin\\']/report[@name=\"David\\'s Report\"]'},\n",
       " {'ReportName': \"David's Report V2\",\n",
       "  'ReportPath': '/content/folder[@name=\\'zzzCompany Folders\\']/folder[@name=\\'Proliance Surgeons, Inc., P.S.\\']/folder[@name=\\'UltiPro\\']/folder[@name=\\'HRIS Admin\\']/report[@name=\"David\\'s Report V2\"]'},\n",
       " {'ReportName': 'Deduction list',\n",
       "  'ReportPath': \"/content/folder[@name='zzzCompany Folders']/folder[@name='Proliance Surgeons, Inc., P.S.']/folder[@name='UltiPro']/folder[@name='TEST Reports']/report[@name='Deduction list']\"},\n",
       " {'ReportName': 'Deduction Pay History By Deduction For EmployeesUKG',\n",
       "  'ReportPath': \"/content/folder[@name='zzzCompany Folders']/folder[@name='Proliance Surgeons, Inc., P.S.']/folder[@name='UltiPro']/report[@name='Deduction Pay History By Deduction For EmployeesUKG']\"},\n",
       " {'ReportName': 'Deductions in Arrears V2',\n",
       "  'ReportPath': \"/content/folder[@name='zzzCompany Folders']/folder[@name='Proliance Surgeons, Inc., P.S.']/folder[@name='UltiPro']/folder[@name='TEST Reports']/report[@name='Deductions in Arrears V2']\"},\n",
       " {'ReportName': 'Deferred Comp Wages and Hours_UKG',\n",
       "  'ReportPath': \"/content/folder[@name='zzzCompany Folders']/folder[@name='Proliance Surgeons, Inc., P.S.']/folder[@name='UltiPro']/report[@name='Deferred Comp Wages and Hours_UKG']\"},\n",
       " {'ReportName': 'Dependents by Employee and Plan test',\n",
       "  'ReportPath': \"/content/folder[@name='zzzCompany Folders']/folder[@name='Proliance Surgeons, Inc., P.S.']/folder[@name='UltiPro']/folder[@name='Customs']/report[@name='Dependents by Employee and Plan test']\"},\n",
       " {'ReportName': 'Document Category Report',\n",
       "  'ReportPath': \"/content/folder[@name='zzzCompany Folders']/folder[@name='Proliance Surgeons, Inc., P.S.']/folder[@name='UltiPro']/report[@name='Document Category Report']\"},\n",
       " {'ReportName': 'DSHS_New Hires',\n",
       "  'ReportPath': \"/content/folder[@name='zzzCompany Folders']/folder[@name='Proliance Surgeons, Inc., P.S.']/folder[@name='UltiPro']/folder[@name='Payroll Coordinator']/folder[@name='Pay Period']/report[@name='DSHS_New Hires']\"},\n",
       " {'ReportName': 'Earning Codes Table',\n",
       "  'ReportPath': \"/content/folder[@name='zzzCompany Folders']/folder[@name='Proliance Surgeons, Inc., P.S.']/folder[@name='UltiPro']/folder[@name='Export to SQL']/report[@name='Earning Codes Table']\"},\n",
       " {'ReportName': 'Earnings Pay History By Earning Code For Employees_ULTI',\n",
       "  'ReportPath': \"/content/folder[@name='zzzCompany Folders']/folder[@name='Proliance Surgeons, Inc., P.S.']/folder[@name='UltiPro']/report[@name='Earnings Pay History By Earning Code For Employees_ULTI']\"},\n",
       " {'ReportName': 'Earnings_by_Code',\n",
       "  'ReportPath': \"/content/folder[@name='zzzCompany Folders']/folder[@name='Proliance Surgeons, Inc., P.S.']/folder[@name='UltiPro']/folder[@name='Export to SQL']/report[@name='Earnings_by_Code']\"},\n",
       " {'ReportName': 'Earnings_with_PayPeriodID_TEST',\n",
       "  'ReportPath': \"/content/folder[@name='zzzCompany Folders']/folder[@name='Proliance Surgeons, Inc., P.S.']/folder[@name='UltiPro']/folder[@name='Customs']/report[@name='Earnings_with_PayPeriodID_TEST']\"},\n",
       " {'ReportName': 'EE Holiday List',\n",
       "  'ReportPath': \"/content/folder[@name='zzzCompany Folders']/folder[@name='Proliance Surgeons, Inc., P.S.']/folder[@name='UltiPro']/folder[@name='Payroll Coordinator']/report[@name='EE Holiday List']\"},\n",
       " {'ReportName': 'EE Location List',\n",
       "  'ReportPath': \"/content/folder[@name='zzzCompany Folders']/folder[@name='Proliance Surgeons, Inc., P.S.']/folder[@name='UltiPro']/folder[@name='Payroll Coordinator']/report[@name='EE Location List']\"},\n",
       " {'ReportName': 'Employee job history report',\n",
       "  'ReportPath': \"/content/folder[@name='zzzCompany Folders']/folder[@name='Proliance Surgeons, Inc., P.S.']/folder[@name='UltiPro']/folder[@name='TEST Reports']/report[@name='Employee job history report']\"},\n",
       " {'ReportName': 'Employee List',\n",
       "  'ReportPath': \"/content/folder[@name='zzzCompany Folders']/folder[@name='Proliance Surgeons, Inc., P.S.']/folder[@name='UltiPro']/folder[@name='Export to SQL']/report[@name='Employee List']\"},\n",
       " {'ReportName': 'Employee Location Changes v2',\n",
       "  'ReportPath': \"/content/folder[@name='zzzCompany Folders']/folder[@name='Proliance Surgeons, Inc., P.S.']/folder[@name='UltiPro']/folder[@name='HRIS Admin']/report[@name='Employee Location Changes v2']\"},\n",
       " {'ReportName': 'Employee PTO History - Balances - Updated 2',\n",
       "  'ReportPath': \"/content/folder[@name='zzzCompany Folders']/folder[@name='Proliance Surgeons, Inc., P.S.']/folder[@name='UltiPro']/folder[@name='HRIS Admin']/report[@name='Employee PTO History - Balances - Updated 2']\"},\n",
       " {'ReportName': 'Employee Waived Deductions',\n",
       "  'ReportPath': \"/content/folder[@name='zzzCompany Folders']/folder[@name='Proliance Surgeons, Inc., P.S.']/folder[@name='UltiPro']/report[@name='Employee Waived Deductions']\"},\n",
       " {'ReportName': 'EmployeeAllocation',\n",
       "  'ReportPath': \"/content/folder[@name='zzzCompany Folders']/folder[@name='Proliance Surgeons, Inc., P.S.']/folder[@name='UltiPro']/folder[@name='Export to SQL']/report[@name='EmployeeAllocation']\"},\n",
       " {'ReportName': 'Employees Not Clocked In for the Day',\n",
       "  'ReportPath': \"/content/folder[@name='zzzCompany Folders']/folder[@name='Proliance Surgeons, Inc., P.S.']/folder[@name='UltiPro']/folder[@name='TEST Reports']/folder[@name='Time Management Reports']/report[@name='Employees Not Clocked In for the Day']\"},\n",
       " {'ReportName': 'FSA EE Contribution Report - ded-payroll stop utility',\n",
       "  'ReportPath': \"/content/folder[@name='zzzCompany Folders']/folder[@name='Proliance Surgeons, Inc., P.S.']/folder[@name='UltiPro']/folder[@name='TEST Reports']/report[@name='FSA EE Contribution Report - ded-payroll stop utility']\"},\n",
       " {'ReportName': 'HASER Contributions v2',\n",
       "  'ReportPath': \"/content/folder[@name='zzzCompany Folders']/folder[@name='Proliance Surgeons, Inc., P.S.']/folder[@name='UltiPro']/folder[@name='HRIS Admin']/report[@name='HASER Contributions v2']\"},\n",
       " {'ReportName': 'Job Code',\n",
       "  'ReportPath': \"/content/folder[@name='zzzCompany Folders']/folder[@name='Proliance Surgeons, Inc., P.S.']/folder[@name='UltiPro']/folder[@name='Export to SQL']/report[@name='Job Code']\"},\n",
       " {'ReportName': 'Joel Report',\n",
       "  'ReportPath': \"/content/folder[@name='zzzCompany Folders']/folder[@name='Proliance Surgeons, Inc., P.S.']/folder[@name='UltiPro']/report[@name='Joel Report']\"},\n",
       " {'ReportName': 'Labels - New Hires',\n",
       "  'ReportPath': \"/content/folder[@name='zzzCompany Folders']/folder[@name='Proliance Surgeons, Inc., P.S.']/folder[@name='UltiPro']/folder[@name='Payroll Coordinator']/folder[@name='Pay Period']/report[@name='Labels - New Hires']\"},\n",
       " {'ReportName': 'Labor Distribution',\n",
       "  'ReportPath': \"/content/folder[@name='zzzCompany Folders']/folder[@name='Proliance Surgeons, Inc., P.S.']/folder[@name='UltiPro']/folder[@name='Payroll Coordinator']/folder[@name='Pay Period']/report[@name='Labor Distribution']\"},\n",
       " {'ReportName': 'Labor Distribution by EE',\n",
       "  'ReportPath': \"/content/folder[@name='zzzCompany Folders']/folder[@name='Proliance Surgeons, Inc., P.S.']/folder[@name='UltiPro']/folder[@name='Payroll Coordinator']/folder[@name='Pay Period']/report[@name='Labor Distribution by EE']\"},\n",
       " {'ReportName': 'Locations',\n",
       "  'ReportPath': \"/content/folder[@name='zzzCompany Folders']/folder[@name='Proliance Surgeons, Inc., P.S.']/folder[@name='UltiPro']/folder[@name='TEST Reports']/report[@name='Locations']\"},\n",
       " {'ReportName': 'Locations',\n",
       "  'ReportPath': \"/content/folder[@name='zzzCompany Folders']/folder[@name='Proliance Surgeons, Inc., P.S.']/folder[@name='UltiPro']/folder[@name='TEST Reports']/folder[@name='PS']/report[@name='Locations']\"},\n",
       " {'ReportName': 'Locations',\n",
       "  'ReportPath': \"/content/folder[@name='zzzCompany Folders']/folder[@name='Proliance Surgeons, Inc., P.S.']/folder[@name='UltiPro']/folder[@name='Export to SQL']/report[@name='Locations']\"},\n",
       " {'ReportName': 'Locations Address',\n",
       "  'ReportPath': \"/content/folder[@name='zzzCompany Folders']/folder[@name='Proliance Surgeons, Inc., P.S.']/folder[@name='UltiPro']/folder[@name='Export to SQL']/report[@name='Locations Address']\"},\n",
       " {'ReportName': 'Org levels (business units)',\n",
       "  'ReportPath': \"/content/folder[@name='zzzCompany Folders']/folder[@name='Proliance Surgeons, Inc., P.S.']/folder[@name='UltiPro']/report[@name='Org levels (business units)']\"},\n",
       " {'ReportName': 'Organizational Levels',\n",
       "  'ReportPath': \"/content/folder[@name='zzzCompany Folders']/folder[@name='Proliance Surgeons, Inc., P.S.']/folder[@name='UltiPro']/folder[@name='Export to SQL']/report[@name='Organizational Levels']\"},\n",
       " {'ReportName': 'Overtime Report',\n",
       "  'ReportPath': \"/content/folder[@name='zzzCompany Folders']/folder[@name='Proliance Surgeons, Inc., P.S.']/folder[@name='UltiPro']/folder[@name='Payroll Coordinator']/folder[@name='Pay Period']/report[@name='Overtime Report']\"},\n",
       " {'ReportName': 'Pay Period',\n",
       "  'ReportPath': \"/content/folder[@name='zzzCompany Folders']/folder[@name='Proliance Surgeons, Inc., P.S.']/folder[@name='UltiPro']/folder[@name='Export to SQL']/report[@name='Pay Period']\"},\n",
       " {'ReportName': 'Pay Period (1)',\n",
       "  'ReportPath': \"/content/folder[@name='zzzCompany Folders']/folder[@name='Proliance Surgeons, Inc., P.S.']/folder[@name='UltiPro']/folder[@name='Export to SQL']/report[@name='Pay Period (1)']\"},\n",
       " {'ReportName': 'PayCheck summary TEST',\n",
       "  'ReportPath': \"/content/folder[@name='zzzCompany Folders']/folder[@name='Proliance Surgeons, Inc., P.S.']/folder[@name='UltiPro']/folder[@name='TEST Reports']/report[@name='PayCheck summary TEST']\"},\n",
       " {'ReportName': 'Pending Requests',\n",
       "  'ReportPath': \"/content/folder[@name='zzzCompany Folders']/folder[@name='Proliance Surgeons, Inc., P.S.']/folder[@name='UltiPro']/folder[@name='HRIS Admin']/report[@name='Pending Requests']\"},\n",
       " {'ReportName': 'Point In TimeUKG',\n",
       "  'ReportPath': \"/content/folder[@name='zzzCompany Folders']/folder[@name='Proliance Surgeons, Inc., P.S.']/folder[@name='UltiPro']/report[@name='Point In TimeUKG']\"},\n",
       " {'ReportName': 'Pre-Check Deduction',\n",
       "  'ReportPath': \"/content/folder[@name='zzzCompany Folders']/folder[@name='Proliance Surgeons, Inc., P.S.']/folder[@name='UltiPro']/folder[@name='Export to SQL']/report[@name='Pre-Check Deduction']\"},\n",
       " {'ReportName': 'Pre-Check Earnings',\n",
       "  'ReportPath': \"/content/folder[@name='zzzCompany Folders']/folder[@name='Proliance Surgeons, Inc., P.S.']/folder[@name='UltiPro']/folder[@name='Export to SQL']/report[@name='Pre-Check Earnings']\"},\n",
       " {'ReportName': 'Pre-Check Master',\n",
       "  'ReportPath': \"/content/folder[@name='zzzCompany Folders']/folder[@name='Proliance Surgeons, Inc., P.S.']/folder[@name='UltiPro']/folder[@name='Export to SQL']/report[@name='Pre-Check Master']\"},\n",
       " {'ReportName': 'Pre-Check Payroll Register',\n",
       "  'ReportPath': \"/content/folder[@name='zzzCompany Folders']/folder[@name='Proliance Surgeons, Inc., P.S.']/folder[@name='UltiPro']/folder[@name='TEST Reports']/report[@name='Pre-Check Payroll Register']\"},\n",
       " {'ReportName': 'Pre-Check Tax',\n",
       "  'ReportPath': \"/content/folder[@name='zzzCompany Folders']/folder[@name='Proliance Surgeons, Inc., P.S.']/folder[@name='UltiPro']/folder[@name='Export to SQL']/report[@name='Pre-Check Tax']\"},\n",
       " {'ReportName': 'Prenote',\n",
       "  'ReportPath': \"/content/folder[@name='zzzCompany Folders']/folder[@name='Proliance Surgeons, Inc., P.S.']/folder[@name='UltiPro']/folder[@name='Payroll Coordinator']/folder[@name='Pay Period']/report[@name='Prenote']\"},\n",
       " {'ReportName': 'Pro-rate for Salaried New',\n",
       "  'ReportPath': \"/content/folder[@name='zzzCompany Folders']/folder[@name='Proliance Surgeons, Inc., P.S.']/folder[@name='UltiPro']/folder[@name='Payroll Coordinator']/folder[@name='Pay Period']/report[@name='Pro-rate for Salaried New']\"},\n",
       " {'ReportName': 'Pro-rate for Salaried Term',\n",
       "  'ReportPath': \"/content/folder[@name='zzzCompany Folders']/folder[@name='Proliance Surgeons, Inc., P.S.']/folder[@name='UltiPro']/folder[@name='Payroll Coordinator']/folder[@name='Pay Period']/report[@name='Pro-rate for Salaried Term']\"},\n",
       " {'ReportName': 'Report with Declined Coverage Reason',\n",
       "  'ReportPath': \"/content/folder[@name='zzzCompany Folders']/folder[@name='Proliance Surgeons, Inc., P.S.']/folder[@name='UltiPro']/report[@name='Report with Declined Coverage Reason']\"},\n",
       " {'ReportName': 'Report with Declined Coverage Reason with Term',\n",
       "  'ReportPath': \"/content/folder[@name='zzzCompany Folders']/folder[@name='Proliance Surgeons, Inc., P.S.']/folder[@name='UltiPro']/report[@name='Report with Declined Coverage Reason with Term']\"},\n",
       " {'ReportName': 'SSN Verification',\n",
       "  'ReportPath': \"/content/folder[@name='zzzCompany Folders']/folder[@name='Proliance Surgeons, Inc., P.S.']/folder[@name='UltiPro']/folder[@name='Payroll Coordinator']/folder[@name='Monthly']/report[@name='SSN Verification']\"},\n",
       " {'ReportName': 'Test didactions',\n",
       "  'ReportPath': \"/content/folder[@name='zzzCompany Folders']/folder[@name='Proliance Surgeons, Inc., P.S.']/folder[@name='UltiPro']/folder[@name='TEST Reports']/report[@name='Test didactions']\"},\n",
       " {'ReportName': 'Test enrollments',\n",
       "  'ReportPath': \"/content/folder[@name='zzzCompany Folders']/folder[@name='Proliance Surgeons, Inc., P.S.']/folder[@name='UltiPro']/folder[@name='TEST Reports']/report[@name='Test enrollments']\"},\n",
       " {'ReportName': 'UNUM Benefit Billing By Provider Report',\n",
       "  'ReportPath': \"/content/folder[@name='zzzCompany Folders']/folder[@name='Proliance Surgeons, Inc., P.S.']/folder[@name='UltiPro']/folder[@name='Customs']/report[@name='UNUM Benefit Billing By Provider Report']\"},\n",
       " {'ReportName': 'Active Benefits (1)',\n",
       "  'ReportPath': \"/content/folder[@name='zzzCompany Folders']/folder[@name='Proliance Surgeons, Inc., P.S.']/folder[@name='UltiPro']/folder[@name='TEST Reports']/query[@name='Active Benefits (1)']\"},\n",
       " {'ReportName': 'HSA Contribution Report',\n",
       "  'ReportPath': \"/content/folder[@name='zzzCompany Folders']/folder[@name='Proliance Surgeons, Inc., P.S.']/folder[@name='UltiPro']/folder[@name='TEST Reports']/query[@name='HSA Contribution Report']\"}]"
      ]
     },
     "execution_count": 133,
     "metadata": {},
     "output_type": "execute_result"
    }
   ],
   "source": [
    "#Index the Python dictionary \n",
    "emp_dict = a_dict['s:Envelope']['s:Body']['GetReportListResponse']['GetReportListResult']['Reports']['Report']\n",
    "emp_dict"
   ]
  },
  {
   "cell_type": "code",
   "execution_count": 134,
   "id": "41be88fb",
   "metadata": {},
   "outputs": [
    {
     "data": {
      "text/html": [
       "<div>\n",
       "<style scoped>\n",
       "    .dataframe tbody tr th:only-of-type {\n",
       "        vertical-align: middle;\n",
       "    }\n",
       "\n",
       "    .dataframe tbody tr th {\n",
       "        vertical-align: top;\n",
       "    }\n",
       "\n",
       "    .dataframe thead th {\n",
       "        text-align: right;\n",
       "    }\n",
       "</style>\n",
       "<table border=\"1\" class=\"dataframe\">\n",
       "  <thead>\n",
       "    <tr style=\"text-align: right;\">\n",
       "      <th></th>\n",
       "      <th>ReportName</th>\n",
       "      <th>ReportPath</th>\n",
       "    </tr>\n",
       "  </thead>\n",
       "  <tbody>\n",
       "    <tr>\n",
       "      <th>0</th>\n",
       "      <td>_Current Employee Deductions and Benefits</td>\n",
       "      <td>/content/folder[@name='zzzCompany Folders']/fo...</td>\n",
       "    </tr>\n",
       "    <tr>\n",
       "      <th>1</th>\n",
       "      <td>2013-03-05T21:47:40.188Z</td>\n",
       "      <td>/content/folder[@name='UltiPro BI Content']/fo...</td>\n",
       "    </tr>\n",
       "    <tr>\n",
       "      <th>2</th>\n",
       "      <td>2020-10-26T18:25:32.678Z</td>\n",
       "      <td>/content/folder[@name='zzzCompany Folders']/fo...</td>\n",
       "    </tr>\n",
       "    <tr>\n",
       "      <th>3</th>\n",
       "      <td>2021 Allocation Report (1)</td>\n",
       "      <td>/content/folder[@name='zzzCompany Folders']/fo...</td>\n",
       "    </tr>\n",
       "    <tr>\n",
       "      <th>4</th>\n",
       "      <td>401k Allocation Report V1</td>\n",
       "      <td>/content/folder[@name='zzzCompany Folders']/fo...</td>\n",
       "    </tr>\n",
       "    <tr>\n",
       "      <th>...</th>\n",
       "      <td>...</td>\n",
       "      <td>...</td>\n",
       "    </tr>\n",
       "    <tr>\n",
       "      <th>72</th>\n",
       "      <td>Test didactions</td>\n",
       "      <td>/content/folder[@name='zzzCompany Folders']/fo...</td>\n",
       "    </tr>\n",
       "    <tr>\n",
       "      <th>73</th>\n",
       "      <td>Test enrollments</td>\n",
       "      <td>/content/folder[@name='zzzCompany Folders']/fo...</td>\n",
       "    </tr>\n",
       "    <tr>\n",
       "      <th>74</th>\n",
       "      <td>UNUM Benefit Billing By Provider Report</td>\n",
       "      <td>/content/folder[@name='zzzCompany Folders']/fo...</td>\n",
       "    </tr>\n",
       "    <tr>\n",
       "      <th>75</th>\n",
       "      <td>Active Benefits (1)</td>\n",
       "      <td>/content/folder[@name='zzzCompany Folders']/fo...</td>\n",
       "    </tr>\n",
       "    <tr>\n",
       "      <th>76</th>\n",
       "      <td>HSA Contribution Report</td>\n",
       "      <td>/content/folder[@name='zzzCompany Folders']/fo...</td>\n",
       "    </tr>\n",
       "  </tbody>\n",
       "</table>\n",
       "<p>77 rows × 2 columns</p>\n",
       "</div>"
      ],
      "text/plain": [
       "                                   ReportName  \\\n",
       "0   _Current Employee Deductions and Benefits   \n",
       "1                    2013-03-05T21:47:40.188Z   \n",
       "2                    2020-10-26T18:25:32.678Z   \n",
       "3                  2021 Allocation Report (1)   \n",
       "4                   401k Allocation Report V1   \n",
       "..                                        ...   \n",
       "72                            Test didactions   \n",
       "73                           Test enrollments   \n",
       "74    UNUM Benefit Billing By Provider Report   \n",
       "75                        Active Benefits (1)   \n",
       "76                    HSA Contribution Report   \n",
       "\n",
       "                                           ReportPath  \n",
       "0   /content/folder[@name='zzzCompany Folders']/fo...  \n",
       "1   /content/folder[@name='UltiPro BI Content']/fo...  \n",
       "2   /content/folder[@name='zzzCompany Folders']/fo...  \n",
       "3   /content/folder[@name='zzzCompany Folders']/fo...  \n",
       "4   /content/folder[@name='zzzCompany Folders']/fo...  \n",
       "..                                                ...  \n",
       "72  /content/folder[@name='zzzCompany Folders']/fo...  \n",
       "73  /content/folder[@name='zzzCompany Folders']/fo...  \n",
       "74  /content/folder[@name='zzzCompany Folders']/fo...  \n",
       "75  /content/folder[@name='zzzCompany Folders']/fo...  \n",
       "76  /content/folder[@name='zzzCompany Folders']/fo...  \n",
       "\n",
       "[77 rows x 2 columns]"
      ]
     },
     "execution_count": 134,
     "metadata": {},
     "output_type": "execute_result"
    }
   ],
   "source": [
    "#Normalize the dictionary, and convert into a pandas dataframe\n",
    "df = pd.DataFrame.from_dict(pd.json_normalize(emp_dict), orient='columns')\n",
    "\n",
    "df"
   ]
  },
  {
   "cell_type": "code",
   "execution_count": 135,
   "id": "a05669d4",
   "metadata": {},
   "outputs": [
    {
     "data": {
      "text/plain": [
       "['_Current Employee Deductions and Benefits',\n",
       " '2013-03-05T21:47:40.188Z',\n",
       " '2020-10-26T18:25:32.678Z',\n",
       " '2021 Allocation Report (1)',\n",
       " '401k Allocation Report V1',\n",
       " '401k Allocation Report V2',\n",
       " '401k Allocation Report V2_UKG',\n",
       " '401k Allocation Report V3_UKG',\n",
       " '401k Allocation Report V3_UKG v2',\n",
       " '401k Allocation Report V3_UKG v4',\n",
       " '5 Level Supervisors',\n",
       " 'Active EE_DD List',\n",
       " 'Allocated Hours FTE by Date',\n",
       " 'Allocated Hours FTE by Month',\n",
       " 'Annual Earnings',\n",
       " 'Audit Report with Time vs Pay Matrix Tables',\n",
       " 'Comp Project V3',\n",
       " 'Configuration Validation',\n",
       " 'Counts by Location',\n",
       " 'Current Employee Deductions and Benefits',\n",
       " \"David's Report\",\n",
       " \"David's Report V2\",\n",
       " 'Deduction list',\n",
       " 'Deduction Pay History By Deduction For EmployeesUKG',\n",
       " 'Deductions in Arrears V2',\n",
       " 'Deferred Comp Wages and Hours_UKG',\n",
       " 'Dependents by Employee and Plan test',\n",
       " 'Document Category Report',\n",
       " 'DSHS_New Hires',\n",
       " 'Earning Codes Table',\n",
       " 'Earnings Pay History By Earning Code For Employees_ULTI',\n",
       " 'Earnings_by_Code',\n",
       " 'Earnings_with_PayPeriodID_TEST',\n",
       " 'EE Holiday List',\n",
       " 'EE Location List',\n",
       " 'Employee job history report',\n",
       " 'Employee List',\n",
       " 'Employee Location Changes v2',\n",
       " 'Employee PTO History - Balances - Updated 2',\n",
       " 'Employee Waived Deductions',\n",
       " 'EmployeeAllocation',\n",
       " 'Employees Not Clocked In for the Day',\n",
       " 'FSA EE Contribution Report - ded-payroll stop utility',\n",
       " 'HASER Contributions v2',\n",
       " 'Job Code',\n",
       " 'Joel Report',\n",
       " 'Labels - New Hires',\n",
       " 'Labor Distribution',\n",
       " 'Labor Distribution by EE',\n",
       " 'Locations',\n",
       " 'Locations',\n",
       " 'Locations',\n",
       " 'Locations Address',\n",
       " 'Org levels (business units)',\n",
       " 'Organizational Levels',\n",
       " 'Overtime Report',\n",
       " 'Pay Period',\n",
       " 'Pay Period (1)',\n",
       " 'PayCheck summary TEST',\n",
       " 'Pending Requests',\n",
       " 'Point In TimeUKG',\n",
       " 'Pre-Check Deduction',\n",
       " 'Pre-Check Earnings',\n",
       " 'Pre-Check Master',\n",
       " 'Pre-Check Payroll Register',\n",
       " 'Pre-Check Tax',\n",
       " 'Prenote',\n",
       " 'Pro-rate for Salaried New',\n",
       " 'Pro-rate for Salaried Term',\n",
       " 'Report with Declined Coverage Reason',\n",
       " 'Report with Declined Coverage Reason with Term',\n",
       " 'SSN Verification',\n",
       " 'Test didactions',\n",
       " 'Test enrollments',\n",
       " 'UNUM Benefit Billing By Provider Report',\n",
       " 'Active Benefits (1)',\n",
       " 'HSA Contribution Report']"
      ]
     },
     "execution_count": 135,
     "metadata": {},
     "output_type": "execute_result"
    }
   ],
   "source": [
    "#View report names as a list\n",
    "list(df['ReportName'])"
   ]
  },
  {
   "cell_type": "markdown",
   "id": "f12e2826",
   "metadata": {},
   "source": [
    "## Step 3: Use the ExecuteReport endpoint to get the report key"
   ]
  },
  {
   "cell_type": "code",
   "execution_count": 136,
   "id": "cfb303f0",
   "metadata": {},
   "outputs": [],
   "source": [
    "body = \"\"\"   \n",
    "  <s:Envelope xmlns:s=\"http://www.w3.org/2003/05/soap-envelope\" xmlns:a=\"http://www.w3.org/2005/08/addressing\">\n",
    "\n",
    "  <s:Header>\n",
    "\n",
    "<a:Action s:mustUnderstand=\"1\">http://www.ultipro.com/dataservices/bidata/2/IBIDataService/ExecuteReport</a:Action>\n",
    "\n",
    "<a:To s:mustUnderstand=\"1\">https://servicehost/services/BiDataService</a:To>\n",
    "\n",
    "</s:Header>\n",
    "\n",
    "  <s:Body>\n",
    "\n",
    "  <ExecuteReport xmlns=\"http://www.ultipro.com/dataservices/bidata/2\">\n",
    "\n",
    "  <request xmlns:i=\"http://www.w3.org/2001/XMLSchema-instance\">\n",
    "\n",
    "<ReportPath>/content/folder[@name='zzzCompany Folders']/folder[@name='Proliance Surgeons, Inc., P.S.']/folder[@name='UltiPro']/folder[@name='Export to SQL']/report[@name='Pre-Check Deduction']</ReportPath>\n",
    "\n",
    "  <ReportParameters>\n",
    "\n",
    "  <ReportParameter>\n",
    "\n",
    "<Name>Month</Name>\n",
    "\n",
    "<Value>1</Value>\n",
    "\n",
    "<Required>false</Required>\n",
    "\n",
    "<DataType>xsdDouble</DataType>\n",
    "\n",
    "<MultiValued>true</MultiValued>\n",
    "\n",
    "</ReportParameter>\n",
    "\n",
    "</ReportParameters>\n",
    "\n",
    "</request>\n",
    "\n",
    "  <context xmlns:i=\"http://www.w3.org/2001/XMLSchema-instance\">\n",
    "\n",
    "<ServiceId>3ccd26d5-94b2-4c0f-b88a-5ccfbe3d7fb0</ServiceId>\n",
    "\n",
    "<ClientAccessKey>PLAB4</ClientAccessKey>\n",
    "\n",
    "<Token>\"\"\" + token + \"\"\"</Token>\n",
    "\n",
    "<Status>Ok</Status>\n",
    "\n",
    "<StatusMessage i:nil=\"true\" />\n",
    "\n",
    "<InstanceKey>\"\"\" + instance_key + \"\"\"</InstanceKey>\n",
    "\n",
    "</context>\n",
    "\n",
    "</ExecuteReport>\n",
    "\n",
    "</s:Body>\n",
    "\n",
    "</s:Envelope> \"\"\""
   ]
  },
  {
   "cell_type": "code",
   "execution_count": 137,
   "id": "c8e49b50",
   "metadata": {},
   "outputs": [
    {
     "name": "stdout",
     "output_type": "stream",
     "text": [
      "<Response [200]>\n",
      "<s:Envelope xmlns:s=\"http://www.w3.org/2003/05/soap-envelope\" xmlns:a=\"http://www.w3.org/2005/08/addressing\"><s:Header><a:Action s:mustUnderstand=\"1\">http://www.ultipro.com/dataservices/bidata/2/IBIDataService/ExecuteReportResponse</a:Action></s:Header><s:Body><ExecuteReportResponse xmlns=\"http://www.ultipro.com/dataservices/bidata/2\"><ExecuteReportResult xmlns:i=\"http://www.w3.org/2001/XMLSchema-instance\"><ReportKey>982fea7a-f828-4ec2-8b0c-27511ff120bd</ReportKey><ReportRetrievalUri>https://service5.ultipro.com/services/BIStreamingService</ReportRetrievalUri><Status>Success</Status><StatusMessage i:nil=\"true\"/></ExecuteReportResult></ExecuteReportResponse></s:Body></s:Envelope>\n"
     ]
    }
   ],
   "source": [
    "#Get the report key\n",
    "response = requests.post(url, headers=headers, data=body)\n",
    "print (response)\n",
    "print (response.text)"
   ]
  },
  {
   "cell_type": "code",
   "execution_count": 138,
   "id": "bbdaff2a",
   "metadata": {},
   "outputs": [
    {
     "data": {
      "text/plain": [
       "687"
      ]
     },
     "execution_count": 138,
     "metadata": {},
     "output_type": "execute_result"
    }
   ],
   "source": [
    "#Write the response to a file\n",
    "open(\"file.xml\", \"w\").write(response.text)"
   ]
  },
  {
   "cell_type": "code",
   "execution_count": 139,
   "id": "fddd6577",
   "metadata": {},
   "outputs": [],
   "source": [
    "#Open the file as an ElementTree object\n",
    "tree = ET.parse('file.xml')\n",
    "root = tree.getroot()"
   ]
  },
  {
   "cell_type": "code",
   "execution_count": 140,
   "id": "d9dc197b",
   "metadata": {},
   "outputs": [
    {
     "data": {
      "text/plain": [
       "['{http://www.w3.org/2003/05/soap-envelope}Envelope',\n",
       " '{http://www.w3.org/2003/05/soap-envelope}Header',\n",
       " '{http://www.w3.org/2005/08/addressing}Action',\n",
       " '{http://www.w3.org/2003/05/soap-envelope}Body',\n",
       " '{http://www.ultipro.com/dataservices/bidata/2}ExecuteReportResponse',\n",
       " '{http://www.ultipro.com/dataservices/bidata/2}ExecuteReportResult',\n",
       " '{http://www.ultipro.com/dataservices/bidata/2}ReportKey',\n",
       " '{http://www.ultipro.com/dataservices/bidata/2}ReportRetrievalUri',\n",
       " '{http://www.ultipro.com/dataservices/bidata/2}Status',\n",
       " '{http://www.ultipro.com/dataservices/bidata/2}StatusMessage']"
      ]
     },
     "execution_count": 140,
     "metadata": {},
     "output_type": "execute_result"
    }
   ],
   "source": [
    "#Show all the elements in the tree\n",
    "[elem.tag for elem in root.iter()]"
   ]
  },
  {
   "cell_type": "code",
   "execution_count": 141,
   "id": "4e177335",
   "metadata": {},
   "outputs": [],
   "source": [
    "#Get the report key from the \"ReportKey\" element in the tree\n",
    "for each in root.iter('{http://www.ultipro.com/dataservices/bidata/2}ReportKey'):\n",
    "    report_key = each.text"
   ]
  },
  {
   "cell_type": "code",
   "execution_count": 142,
   "id": "589d6030",
   "metadata": {},
   "outputs": [
    {
     "name": "stdout",
     "output_type": "stream",
     "text": [
      "982fea7a-f828-4ec2-8b0c-27511ff120bd\n"
     ]
    }
   ],
   "source": [
    "#View the report key\n",
    "print(report_key)"
   ]
  },
  {
   "cell_type": "markdown",
   "id": "7c016dbb",
   "metadata": {},
   "source": [
    "# Step 4: Use the RetrieveReport method to retrieve the report"
   ]
  },
  {
   "cell_type": "code",
   "execution_count": 143,
   "id": "c38bf4ab",
   "metadata": {},
   "outputs": [],
   "source": [
    "#Our endpoint\n",
    "url=\"https://service5.ultipro.com/services/BIStreamingService\"\n",
    "\n",
    "#The below headers variable specifies that we are sending the request to a SOAP API\n",
    "headers = {\"content-type\": \"application/soap+xml\", \n",
    "           \"charset\": \"utf-8\",\n",
    "           \"SOAPAction\": \"http://www.ultipro.com/dataservices/bistream/2/IBIStreamService/RetrieveReport\"}"
   ]
  },
  {
   "cell_type": "code",
   "execution_count": 144,
   "id": "6a95ac66",
   "metadata": {},
   "outputs": [],
   "source": [
    "body = \"\"\"<s:Envelope xmlns:s=\"http://www.w3.org/2003/05/soap-envelope\" xmlns:a=\"http://www.w3.org/2005/08/addressing\">\n",
    "\t<s:Header>\n",
    "\t\t<a:Action s:mustUnderstand=\"1\">http://www.ultipro.com/dataservices/bistream/2/IBIStreamService/RetrieveReport</a:Action>\n",
    "\t\t<h:ReportKey xmlns:h=\"http://www.ultipro.com/dataservices/bistream/2\" xmlns=\"http://www.ultipro.com/dataservices/bistream/2\">\"\"\" + report_key + \"\"\"</h:ReportKey>\n",
    "\t\t<a:MessageID>urn:uuid:8332571f-3a89-4442-ac80-27195b397b4d</a:MessageID>\n",
    "\t\t<a:ReplyTo>\n",
    "\t\t\t<a:Address>http://www.w3.org/2005/08/addressing/anonymous</a:Address>\n",
    "\t\t</a:ReplyTo>\n",
    "\t\t<a:To s:mustUnderstand=\"1\">https://service5.ultipro.com/services/BIStreamingService</a:To>\n",
    "\t</s:Header>\n",
    "\t<s:Body xmlns:xsi=\"http://www.w3.org/2001/XMLSchema-instance\" xmlns:xsd=\"http://www.w3.org/2001/XMLSchema\">\n",
    "\t\t<RetrieveReportRequest xmlns=\"http://www.ultipro.com/dataservices/bistream/2\"/>\n",
    "\t</s:Body>\n",
    "</s:Envelope>\"\"\""
   ]
  },
  {
   "cell_type": "code",
   "execution_count": 145,
   "id": "4becc378",
   "metadata": {},
   "outputs": [
    {
     "name": "stdout",
     "output_type": "stream",
     "text": [
      "<Response [200]>\n",
      "<s:Envelope xmlns:s=\"http://www.w3.org/2003/05/soap-envelope\" xmlns:a=\"http://www.w3.org/2005/08/addressing\"><s:Header><a:Action s:mustUnderstand=\"1\">http://www.ultipro.com/dataservices/bistream/2/IBIStreamService/RetrieveReportResponse</a:Action><h:Status xmlns:h=\"http://www.ultipro.com/dataservices/bistream/2\">Completed</h:Status><h:StatusMessage i:nil=\"true\" xmlns:h=\"http://www.ultipro.com/dataservices/bistream/2\" xmlns:i=\"http://www.w3.org/2001/XMLSchema-instance\"/><a:RelatesTo>urn:uuid:8332571f-3a89-4442-ac80-27195b397b4d</a:RelatesTo></s:Header><s:Body><StreamReportResponse xmlns=\"http://www.ultipro.com/dataservices/bistream/2\"><ReportStream>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</ReportStream></StreamReportResponse></s:Body></s:Envelope>\n"
     ]
    }
   ],
   "source": [
    "#Retrieve the report\n",
    "response = requests.post(url, headers=headers, data=body)\n",
    "print (response)\n",
    "print (response.text)"
   ]
  },
  {
   "cell_type": "code",
   "execution_count": 146,
   "id": "bbdaff2a",
   "metadata": {},
   "outputs": [
    {
     "data": {
      "text/plain": [
       "2948"
      ]
     },
     "execution_count": 146,
     "metadata": {},
     "output_type": "execute_result"
    }
   ],
   "source": [
    "#Write the response to a file\n",
    "open(\"file.xml\", \"w\").write(response.text)"
   ]
  },
  {
   "cell_type": "code",
   "execution_count": 147,
   "id": "fddd6577",
   "metadata": {},
   "outputs": [],
   "source": [
    "#Open the file as an ElementTree object\n",
    "tree = ET.parse('file.xml')\n",
    "root = tree.getroot()"
   ]
  },
  {
   "cell_type": "code",
   "execution_count": 148,
   "id": "d9dc197b",
   "metadata": {},
   "outputs": [
    {
     "data": {
      "text/plain": [
       "['{http://www.w3.org/2003/05/soap-envelope}Envelope',\n",
       " '{http://www.w3.org/2003/05/soap-envelope}Header',\n",
       " '{http://www.w3.org/2005/08/addressing}Action',\n",
       " '{http://www.ultipro.com/dataservices/bistream/2}Status',\n",
       " '{http://www.ultipro.com/dataservices/bistream/2}StatusMessage',\n",
       " '{http://www.w3.org/2005/08/addressing}RelatesTo',\n",
       " '{http://www.w3.org/2003/05/soap-envelope}Body',\n",
       " '{http://www.ultipro.com/dataservices/bistream/2}StreamReportResponse',\n",
       " '{http://www.ultipro.com/dataservices/bistream/2}ReportStream']"
      ]
     },
     "execution_count": 148,
     "metadata": {},
     "output_type": "execute_result"
    }
   ],
   "source": [
    "#Show all the elements in the tree\n",
    "[elem.tag for elem in root.iter()]"
   ]
  },
  {
   "cell_type": "code",
   "execution_count": 149,
   "id": "4e177335",
   "metadata": {},
   "outputs": [],
   "source": [
    "#Get the token from the \"Token\" element in the tree\n",
    "for each in root.iter('{http://www.ultipro.com/dataservices/bistream/2}ReportStream'):\n",
    "    encoded_report = each.text "
   ]
  },
  {
   "cell_type": "code",
   "execution_count": 150,
   "id": "353f0aad",
   "metadata": {},
   "outputs": [
    {
     "data": {
      "text/plain": [
       "'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'"
      ]
     },
     "execution_count": 150,
     "metadata": {},
     "output_type": "execute_result"
    }
   ],
   "source": [
    "#View the encoded report\n",
    "encoded_report"
   ]
  },
  {
   "cell_type": "markdown",
   "id": "240c771d",
   "metadata": {},
   "source": [
    "The report is encoded in base 64, so we  need to decode it."
   ]
  },
  {
   "cell_type": "code",
   "execution_count": 151,
   "id": "53d3878e",
   "metadata": {},
   "outputs": [
    {
     "data": {
      "text/plain": [
       "'<?xml version=\"1.0\" encoding=\"utf-8\"?>\\n<dataset  xmlns=\"http://developer.cognos.com/schemas/xmldata/1/\"  xmlns:xs=\"http://www.w3.org/2001/XMLSchema-instance\">\\n<!--\\n<dataset\\n    xmlns=\"http://developer.cognos.com/schemas/xmldata/1/\"\\n    xmlns:xs=\"http://www.w3.org/2001/XMLSchema-instance\"\\n    xs:schemaLocation=\"http://developer.cognos.com/schemas/xmldata/1/ xmldata.xsd\"\\n>\\n-->\\n    <metadata>\\n          <item name=\"Period Control Date\" type=\"xs:dateTime\"/>\\n          <item name=\"Employee Number\" type=\"xs:string\" length=\"20\"/>\\n          <item name=\"Deduction/Benefit Code\" type=\"xs:string\" length=\"12\"/>\\n          <item name=\"Deduction/Benefit (Stub)\" type=\"xs:string\" length=\"32\"/>\\n          <item name=\"Current Amount (Employee)\" type=\"xs:decimal\" scale=\"4\" precision=\"19\"/>\\n          <item name=\"Current Amount (Employer)\" type=\"xs:decimal\" scale=\"4\" precision=\"19\"/>\\n    </metadata>\\n    <data>\\n        <row>\\n            <value>2022-11-25T00:00:00</value>\\n            <value>001000827</value>\\n            <value>401K </value>\\n            <value>401k           </value>\\n            <value>755.95</value>\\n            <value>755.95</value>\\n        </row>\\n        <row>\\n            <value>2022-11-25T00:00:00</value>\\n            <value>001006748</value>\\n            <value>OFFC </value>\\n            <value>Off-Cycle Check</value>\\n            <value>0</value>\\n            <value>0</value>\\n        </row>\\n        <row>\\n            <value>2022-11-25T00:00:00</value>\\n            <value>001007611</value>\\n            <value>OFFC </value>\\n            <value>Off-Cycle Check</value>\\n            <value>0</value>\\n            <value>0</value>\\n        </row>\\n    </data>\\n</dataset>\\n'"
      ]
     },
     "execution_count": 151,
     "metadata": {},
     "output_type": "execute_result"
    }
   ],
   "source": [
    "decoded = base64.b64decode(encoded_report).decode('utf-8')\n",
    "decoded"
   ]
  },
  {
   "cell_type": "code",
   "execution_count": 152,
   "id": "9458fb4d",
   "metadata": {},
   "outputs": [
    {
     "data": {
      "text/plain": [
       "'{\"dataset\": {\"@xmlns\": \"http://developer.cognos.com/schemas/xmldata/1/\", \"@xmlns:xs\": \"http://www.w3.org/2001/XMLSchema-instance\", \"metadata\": {\"item\": [{\"@name\": \"Period Control Date\", \"@type\": \"xs:dateTime\"}, {\"@name\": \"Employee Number\", \"@type\": \"xs:string\", \"@length\": \"20\"}, {\"@name\": \"Deduction/Benefit Code\", \"@type\": \"xs:string\", \"@length\": \"12\"}, {\"@name\": \"Deduction/Benefit (Stub)\", \"@type\": \"xs:string\", \"@length\": \"32\"}, {\"@name\": \"Current Amount (Employee)\", \"@type\": \"xs:decimal\", \"@scale\": \"4\", \"@precision\": \"19\"}, {\"@name\": \"Current Amount (Employer)\", \"@type\": \"xs:decimal\", \"@scale\": \"4\", \"@precision\": \"19\"}]}, \"data\": {\"row\": [{\"value\": [\"2022-11-25T00:00:00\", \"001000827\", \"401K\", \"401k\", \"755.95\", \"755.95\"]}, {\"value\": [\"2022-11-25T00:00:00\", \"001006748\", \"OFFC\", \"Off-Cycle Check\", \"0\", \"0\"]}, {\"value\": [\"2022-11-25T00:00:00\", \"001007611\", \"OFFC\", \"Off-Cycle Check\", \"0\", \"0\"]}]}}}'"
      ]
     },
     "execution_count": 152,
     "metadata": {},
     "output_type": "execute_result"
    }
   ],
   "source": [
    "#Convert XML results to JSON\n",
    "o = xmltodict.parse(decoded)\n",
    "json_data = json.dumps(o)\n",
    "json_data"
   ]
  },
  {
   "cell_type": "code",
   "execution_count": 153,
   "id": "cc2979e1",
   "metadata": {},
   "outputs": [
    {
     "data": {
      "text/plain": [
       "{'dataset': {'@xmlns': 'http://developer.cognos.com/schemas/xmldata/1/',\n",
       "  '@xmlns:xs': 'http://www.w3.org/2001/XMLSchema-instance',\n",
       "  'metadata': {'item': [{'@name': 'Period Control Date',\n",
       "     '@type': 'xs:dateTime'},\n",
       "    {'@name': 'Employee Number', '@type': 'xs:string', '@length': '20'},\n",
       "    {'@name': 'Deduction/Benefit Code', '@type': 'xs:string', '@length': '12'},\n",
       "    {'@name': 'Deduction/Benefit (Stub)',\n",
       "     '@type': 'xs:string',\n",
       "     '@length': '32'},\n",
       "    {'@name': 'Current Amount (Employee)',\n",
       "     '@type': 'xs:decimal',\n",
       "     '@scale': '4',\n",
       "     '@precision': '19'},\n",
       "    {'@name': 'Current Amount (Employer)',\n",
       "     '@type': 'xs:decimal',\n",
       "     '@scale': '4',\n",
       "     '@precision': '19'}]},\n",
       "  'data': {'row': [{'value': ['2022-11-25T00:00:00',\n",
       "      '001000827',\n",
       "      '401K',\n",
       "      '401k',\n",
       "      '755.95',\n",
       "      '755.95']},\n",
       "    {'value': ['2022-11-25T00:00:00',\n",
       "      '001006748',\n",
       "      'OFFC',\n",
       "      'Off-Cycle Check',\n",
       "      '0',\n",
       "      '0']},\n",
       "    {'value': ['2022-11-25T00:00:00',\n",
       "      '001007611',\n",
       "      'OFFC',\n",
       "      'Off-Cycle Check',\n",
       "      '0',\n",
       "      '0']}]}}}"
      ]
     },
     "execution_count": 153,
     "metadata": {},
     "output_type": "execute_result"
    }
   ],
   "source": [
    "#Turn the JSON data into a Python dictionary\n",
    "a_dict = json.loads(json_data)\n",
    "a_dict"
   ]
  },
  {
   "cell_type": "code",
   "execution_count": 154,
   "id": "5c4b5530",
   "metadata": {},
   "outputs": [
    {
     "data": {
      "text/plain": [
       "[{'value': ['2022-11-25T00:00:00',\n",
       "   '001000827',\n",
       "   '401K',\n",
       "   '401k',\n",
       "   '755.95',\n",
       "   '755.95']},\n",
       " {'value': ['2022-11-25T00:00:00',\n",
       "   '001006748',\n",
       "   'OFFC',\n",
       "   'Off-Cycle Check',\n",
       "   '0',\n",
       "   '0']},\n",
       " {'value': ['2022-11-25T00:00:00',\n",
       "   '001007611',\n",
       "   'OFFC',\n",
       "   'Off-Cycle Check',\n",
       "   '0',\n",
       "   '0']}]"
      ]
     },
     "execution_count": 154,
     "metadata": {},
     "output_type": "execute_result"
    }
   ],
   "source": [
    "#Index the Python dictionary so we can retrieve the data\n",
    "report_dict = a_dict['dataset']['data']['row']\n",
    "report_dict"
   ]
  },
  {
   "cell_type": "code",
   "execution_count": 155,
   "id": "e7643160",
   "metadata": {},
   "outputs": [
    {
     "name": "stdout",
     "output_type": "stream",
     "text": [
      "[['2022-11-25T00:00:00', '001000827', '401K', '401k', '755.95', '755.95'], ['2022-11-25T00:00:00', '001006748', 'OFFC', 'Off-Cycle Check', '0', '0'], ['2022-11-25T00:00:00', '001007611', 'OFFC', 'Off-Cycle Check', '0', '0']]\n"
     ]
    }
   ],
   "source": [
    "#Put the data into a list of lists\n",
    "list_o_lst = []\n",
    "for each in report_dict:\n",
    "    list_o_lst.append(each['value'])\n",
    "\n",
    "print(list_o_lst)"
   ]
  },
  {
   "cell_type": "code",
   "execution_count": 156,
   "id": "c38f9e6d",
   "metadata": {},
   "outputs": [
    {
     "data": {
      "text/html": [
       "<div>\n",
       "<style scoped>\n",
       "    .dataframe tbody tr th:only-of-type {\n",
       "        vertical-align: middle;\n",
       "    }\n",
       "\n",
       "    .dataframe tbody tr th {\n",
       "        vertical-align: top;\n",
       "    }\n",
       "\n",
       "    .dataframe thead th {\n",
       "        text-align: right;\n",
       "    }\n",
       "</style>\n",
       "<table border=\"1\" class=\"dataframe\">\n",
       "  <thead>\n",
       "    <tr style=\"text-align: right;\">\n",
       "      <th></th>\n",
       "      <th>0</th>\n",
       "      <th>1</th>\n",
       "      <th>2</th>\n",
       "      <th>3</th>\n",
       "      <th>4</th>\n",
       "      <th>5</th>\n",
       "    </tr>\n",
       "  </thead>\n",
       "  <tbody>\n",
       "    <tr>\n",
       "      <th>0</th>\n",
       "      <td>2022-11-25T00:00:00</td>\n",
       "      <td>001000827</td>\n",
       "      <td>401K</td>\n",
       "      <td>401k</td>\n",
       "      <td>755.95</td>\n",
       "      <td>755.95</td>\n",
       "    </tr>\n",
       "    <tr>\n",
       "      <th>1</th>\n",
       "      <td>2022-11-25T00:00:00</td>\n",
       "      <td>001006748</td>\n",
       "      <td>OFFC</td>\n",
       "      <td>Off-Cycle Check</td>\n",
       "      <td>0</td>\n",
       "      <td>0</td>\n",
       "    </tr>\n",
       "    <tr>\n",
       "      <th>2</th>\n",
       "      <td>2022-11-25T00:00:00</td>\n",
       "      <td>001007611</td>\n",
       "      <td>OFFC</td>\n",
       "      <td>Off-Cycle Check</td>\n",
       "      <td>0</td>\n",
       "      <td>0</td>\n",
       "    </tr>\n",
       "  </tbody>\n",
       "</table>\n",
       "</div>"
      ],
      "text/plain": [
       "                     0          1     2                3       4       5\n",
       "0  2022-11-25T00:00:00  001000827  401K             401k  755.95  755.95\n",
       "1  2022-11-25T00:00:00  001006748  OFFC  Off-Cycle Check       0       0\n",
       "2  2022-11-25T00:00:00  001007611  OFFC  Off-Cycle Check       0       0"
      ]
     },
     "execution_count": 156,
     "metadata": {},
     "output_type": "execute_result"
    }
   ],
   "source": [
    "#Turn the list of lists into a dataframe\n",
    "df = pd.DataFrame(list_o_lst)\n",
    "df"
   ]
  },
  {
   "cell_type": "code",
   "execution_count": 157,
   "id": "8913b727",
   "metadata": {},
   "outputs": [
    {
     "data": {
      "text/html": [
       "<div>\n",
       "<style scoped>\n",
       "    .dataframe tbody tr th:only-of-type {\n",
       "        vertical-align: middle;\n",
       "    }\n",
       "\n",
       "    .dataframe tbody tr th {\n",
       "        vertical-align: top;\n",
       "    }\n",
       "\n",
       "    .dataframe thead th {\n",
       "        text-align: right;\n",
       "    }\n",
       "</style>\n",
       "<table border=\"1\" class=\"dataframe\">\n",
       "  <thead>\n",
       "    <tr style=\"text-align: right;\">\n",
       "      <th></th>\n",
       "      <th>Date</th>\n",
       "      <th>Employee Number</th>\n",
       "      <th>Deduction/Benefit Code</th>\n",
       "      <th>Deduction/Benefit (Stub)</th>\n",
       "      <th>Current Amount (Employee)</th>\n",
       "      <th>Current Amount (Employer)</th>\n",
       "    </tr>\n",
       "  </thead>\n",
       "  <tbody>\n",
       "    <tr>\n",
       "      <th>0</th>\n",
       "      <td>2022-11-25T00:00:00</td>\n",
       "      <td>001000827</td>\n",
       "      <td>401K</td>\n",
       "      <td>401k</td>\n",
       "      <td>755.95</td>\n",
       "      <td>755.95</td>\n",
       "    </tr>\n",
       "    <tr>\n",
       "      <th>1</th>\n",
       "      <td>2022-11-25T00:00:00</td>\n",
       "      <td>001006748</td>\n",
       "      <td>OFFC</td>\n",
       "      <td>Off-Cycle Check</td>\n",
       "      <td>0</td>\n",
       "      <td>0</td>\n",
       "    </tr>\n",
       "    <tr>\n",
       "      <th>2</th>\n",
       "      <td>2022-11-25T00:00:00</td>\n",
       "      <td>001007611</td>\n",
       "      <td>OFFC</td>\n",
       "      <td>Off-Cycle Check</td>\n",
       "      <td>0</td>\n",
       "      <td>0</td>\n",
       "    </tr>\n",
       "  </tbody>\n",
       "</table>\n",
       "</div>"
      ],
      "text/plain": [
       "                  Date Employee Number Deduction/Benefit Code  \\\n",
       "0  2022-11-25T00:00:00       001000827                   401K   \n",
       "1  2022-11-25T00:00:00       001006748                   OFFC   \n",
       "2  2022-11-25T00:00:00       001007611                   OFFC   \n",
       "\n",
       "  Deduction/Benefit (Stub) Current Amount (Employee) Current Amount (Employer)  \n",
       "0                     401k                    755.95                    755.95  \n",
       "1          Off-Cycle Check                         0                         0  \n",
       "2          Off-Cycle Check                         0                         0  "
      ]
     },
     "execution_count": 157,
     "metadata": {},
     "output_type": "execute_result"
    }
   ],
   "source": [
    "#Rename the columns in the dataframe\n",
    "df.rename(columns={0: 'Date', 1: 'Employee Number', 2: 'Deduction/Benefit Code', 3: 'Deduction/Benefit (Stub)', 4:'Current Amount (Employee)', 5: 'Current Amount (Employer)'}, inplace=True)\n",
    "df"
   ]
  },
  {
   "cell_type": "code",
   "execution_count": 158,
   "id": "3c55c4ab",
   "metadata": {},
   "outputs": [],
   "source": [
    "#Clean date column\n",
    "df['Date'] = df['Date'].str.replace('T', ' ')"
   ]
  },
  {
   "cell_type": "code",
   "execution_count": 160,
   "id": "83e28c07",
   "metadata": {},
   "outputs": [],
   "source": [
    "#Export the dataframe as a CSV file\n",
    "#df.to_csv(r'C:\\Users\\zanarkin\\Documents\\Data Team\\exported.csv')"
   ]
  },
  {
   "cell_type": "markdown",
   "id": "0f4407f9",
   "metadata": {},
   "source": [
    "# Step 5: Insert the data into BiSQL2"
   ]
  },
  {
   "cell_type": "code",
   "execution_count": 161,
   "id": "9c5857ae",
   "metadata": {},
   "outputs": [],
   "source": [
    "import pyodbc\n",
    "import sqlalchemy as sal\n",
    "from sqlalchemy import create_engine\n"
   ]
  },
  {
   "cell_type": "code",
   "execution_count": 162,
   "id": "5285fa92",
   "metadata": {},
   "outputs": [],
   "source": [
    "#Create SQL alchemy engine\n",
    "engine = sal.create_engine('mssql+pyodbc://DC-BISQL01/BIData2?driver=SQL Server?Trusted_Connection=yes')"
   ]
  },
  {
   "cell_type": "code",
   "execution_count": 163,
   "id": "a09488b1",
   "metadata": {},
   "outputs": [],
   "source": [
    "conn = engine.connect()"
   ]
  },
  {
   "cell_type": "markdown",
   "id": "7df9ef23",
   "metadata": {},
   "source": [
    "#Create our connection object\n",
    "conn = pyodbc.connect('Driver={SQL Server};'\n",
    "                      'Server=DC-BISQL01;'\n",
    "                      'Database=BIData2;'\n",
    "                      'Trusted_Connection=yes;')\n",
    "\n",
    "cursor = conn.cursor()"
   ]
  },
  {
   "cell_type": "code",
   "execution_count": 164,
   "id": "be442f74",
   "metadata": {},
   "outputs": [],
   "source": [
    "#See a sample from dbo.STG_PreCheck_Deduction table to test our database connection\n",
    "#df = pd.read_sql_query('SELECT top 2 * FROM dbo.STG_PreCheck_Deduction', engine)\n",
    "#df"
   ]
  },
  {
   "cell_type": "code",
   "execution_count": 165,
   "id": "f60961b1",
   "metadata": {},
   "outputs": [
    {
     "data": {
      "text/plain": [
       "<sqlalchemy.engine.cursor.LegacyCursorResult at 0x2a461e1afd0>"
      ]
     },
     "execution_count": 165,
     "metadata": {},
     "output_type": "execute_result"
    }
   ],
   "source": [
    "#Drop table if it exists already\n",
    "engine.execute('DROP TABLE ZZ_TEST_PreCheck_Deduction')"
   ]
  },
  {
   "cell_type": "code",
   "execution_count": 166,
   "id": "ac7e806d",
   "metadata": {},
   "outputs": [
    {
     "data": {
      "text/plain": [
       "<sqlalchemy.engine.cursor.LegacyCursorResult at 0x2a461d5d490>"
      ]
     },
     "execution_count": 166,
     "metadata": {},
     "output_type": "execute_result"
    }
   ],
   "source": [
    "#Create a table in BiData2\n",
    "engine.execute('CREATE TABLE ZZ_TEST_PreCheck_Deduction(period_control_date DATETIME,employee_number NVARCHAR(255),deduction_benefit_code NVARCHAR(255),current_amount_employee NVARCHAR(255),current_amount_employer NVARCHAR(255))')"
   ]
  },
  {
   "cell_type": "code",
   "execution_count": 167,
   "id": "94721448",
   "metadata": {},
   "outputs": [],
   "source": [
    "#Add the data to our newly created table\n",
    "df.to_sql('ZZ_TEST_PreCheck_Deduction', engine, if_exists='replace')"
   ]
  },
  {
   "cell_type": "code",
   "execution_count": 168,
   "id": "a243533c",
   "metadata": {},
   "outputs": [
    {
     "ename": "AttributeError",
     "evalue": "'Connection' object has no attribute 'commit'",
     "output_type": "error",
     "traceback": [
      "\u001b[1;31m---------------------------------------------------------------------------\u001b[0m",
      "\u001b[1;31mAttributeError\u001b[0m                            Traceback (most recent call last)",
      "\u001b[1;32m<ipython-input-168-9fe488f40aa1>\u001b[0m in \u001b[0;36m<module>\u001b[1;34m\u001b[0m\n\u001b[0;32m      1\u001b[0m \u001b[1;31m#Commit changes to BiData2\u001b[0m\u001b[1;33m\u001b[0m\u001b[1;33m\u001b[0m\u001b[1;33m\u001b[0m\u001b[0m\n\u001b[1;32m----> 2\u001b[1;33m \u001b[0mconn\u001b[0m\u001b[1;33m.\u001b[0m\u001b[0mcommit\u001b[0m\u001b[1;33m(\u001b[0m\u001b[1;33m)\u001b[0m\u001b[1;33m\u001b[0m\u001b[1;33m\u001b[0m\u001b[0m\n\u001b[0m",
      "\u001b[1;31mAttributeError\u001b[0m: 'Connection' object has no attribute 'commit'"
     ]
    }
   ],
   "source": [
    "#Commit changes to BiData2\n",
    "#conn.commit()"
   ]
  },
  {
   "cell_type": "code",
   "execution_count": null,
   "id": "fc8fac1f",
   "metadata": {},
   "outputs": [],
   "source": [
    "#Close the connection to BiData2\n",
    "conn.close()"
   ]
  },
  {
   "cell_type": "code",
   "execution_count": null,
   "id": "fd271eb3",
   "metadata": {},
   "outputs": [],
   "source": [
    "#Close the connection to the API"
   ]
  }
 ],
 "metadata": {
  "kernelspec": {
   "display_name": "Python 3.8.8 ('base')",
   "language": "python",
   "name": "python3"
  },
  "language_info": {
   "codemirror_mode": {
    "name": "ipython",
    "version": 3
   },
   "file_extension": ".py",
   "mimetype": "text/x-python",
   "name": "python",
   "nbconvert_exporter": "python",
   "pygments_lexer": "ipython3",
   "version": "3.8.8"
  },
  "vscode": {
   "interpreter": {
    "hash": "9cfcfd0c462811a718b92b54b11dc93a8d89f92b914ba928aed6a2da6468b424"
   }
  }
 },
 "nbformat": 4,
 "nbformat_minor": 5
}
