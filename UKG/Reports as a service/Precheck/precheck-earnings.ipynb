{
 "cells": [
  {
   "cell_type": "code",
   "execution_count": 1,
   "id": "517a86e6",
   "metadata": {},
   "outputs": [],
   "source": [
    "#Import our libraries\n",
    "import time\n",
    "import requests\n",
    "import json\n",
    "import xml.etree.ElementTree as ET  # for parsing XML\n",
    "import xmltodict\n",
    "import pandas as pd\n",
    "import csv\n",
    "import base64 \n",
    "import sqlalchemy\n",
    "\n",
    "#Import our helper functions\n",
    "import helper_functions"
   ]
  },
  {
   "cell_type": "markdown",
   "id": "6a6b3155",
   "metadata": {},
   "source": [
    "# Step 1: View the list of reports available"
   ]
  },
  {
   "cell_type": "code",
   "execution_count": 2,
   "metadata": {},
   "outputs": [],
   "source": [
    "report_lst = helper_functions.get_available_reports()"
   ]
  },
  {
   "cell_type": "code",
   "execution_count": 3,
   "metadata": {},
   "outputs": [
    {
     "data": {
      "text/plain": [
       "['_Current Employee Deductions and Benefits',\n",
       " '2013-03-05T21:47:40.188Z',\n",
       " '2020-10-26T18:25:32.678Z',\n",
       " '2021 Allocation Report (1)',\n",
       " '401k Allocation Report V1',\n",
       " '401k Allocation Report V2',\n",
       " '401k Allocation Report V2_UKG',\n",
       " '401k Allocation Report V3_UKG',\n",
       " '401k Allocation Report V3_UKG v2',\n",
       " '401k Allocation Report V3_UKG v4',\n",
       " '5 Level Supervisors',\n",
       " 'Active EE_DD List',\n",
       " 'Allocated Hours FTE by Date',\n",
       " 'Allocated Hours FTE by Month',\n",
       " 'Annual Earnings',\n",
       " 'Audit Report with Time vs Pay Matrix Tables',\n",
       " 'Comp Project V3',\n",
       " 'Configuration Validation',\n",
       " 'Counts by Location',\n",
       " 'Current Employee Deductions and Benefits',\n",
       " 'Current Employee Deductions and Benefits v2',\n",
       " 'Current Employee Deductions and Benefits.TEST',\n",
       " \"David's Report\",\n",
       " \"David's Report V2\",\n",
       " 'Deduction list',\n",
       " 'Deduction Pay History By Deduction For EmployeesUKG',\n",
       " 'Deductions in Arrears V2',\n",
       " 'Deferred Comp Wages and Hours_UKG',\n",
       " 'Dependents by Employee and Plan test',\n",
       " 'Document Category Report',\n",
       " 'DSHS_New Hires',\n",
       " 'Earning Codes Table',\n",
       " 'Earnings Pay History By Earning Code For Employees_ULTI',\n",
       " 'Earnings_by_Code',\n",
       " 'Earnings_with_PayPeriodID_TEST',\n",
       " 'EE Holiday List',\n",
       " 'EE Location List',\n",
       " 'Employee job history report',\n",
       " 'Employee List',\n",
       " 'Employee Location Changes v2',\n",
       " 'Employee PTO History - Balances - Updated 2',\n",
       " 'Employee Waived Deductions',\n",
       " 'EmployeeAllocation',\n",
       " 'Employees Not Clocked In for the Day',\n",
       " 'FSA EE Contribution Report - ded-payroll stop utility',\n",
       " 'FTE List',\n",
       " 'HASER Contributions v2',\n",
       " 'Job Code',\n",
       " 'Joel Report',\n",
       " 'Labels - New Hires',\n",
       " 'Labor Distribution',\n",
       " 'Labor Distribution by EE',\n",
       " 'Locations',\n",
       " 'Locations',\n",
       " 'Locations',\n",
       " 'Locations Address',\n",
       " 'Org levels (business units)',\n",
       " 'Organizational Levels',\n",
       " 'Overtime Report',\n",
       " 'Pay Period',\n",
       " 'Pay Period (1)',\n",
       " 'PayCheck summary TEST',\n",
       " 'Pending Requests',\n",
       " 'Point In TimeUKG',\n",
       " 'Pre-Check Deduction',\n",
       " 'Pre-Check Earnings',\n",
       " 'Pre-Check Master',\n",
       " 'Pre-Check Payroll Register',\n",
       " 'Pre-Check Tax',\n",
       " 'Prenote',\n",
       " 'Pro-rate for Salaried New',\n",
       " 'Pro-rate for Salaried Term',\n",
       " 'Report with Declined Coverage Reason',\n",
       " 'Report with Declined Coverage Reason with Term',\n",
       " 'SSN Verification',\n",
       " 'Test didactions',\n",
       " 'Test enrollments',\n",
       " \"Todd's Report 1\",\n",
       " 'UNUM Benefit Billing By Provider Report',\n",
       " 'ZZ_Deductions Enrolment',\n",
       " 'Active Benefits (1)',\n",
       " 'HSA Contribution Report']"
      ]
     },
     "execution_count": 3,
     "metadata": {},
     "output_type": "execute_result"
    }
   ],
   "source": [
    "#Turn it into a list to see all of them\n",
    "list(report_lst['ReportName'])"
   ]
  },
  {
   "cell_type": "code",
   "execution_count": 4,
   "metadata": {},
   "outputs": [
    {
     "data": {
      "text/html": [
       "<div>\n",
       "<style scoped>\n",
       "    .dataframe tbody tr th:only-of-type {\n",
       "        vertical-align: middle;\n",
       "    }\n",
       "\n",
       "    .dataframe tbody tr th {\n",
       "        vertical-align: top;\n",
       "    }\n",
       "\n",
       "    .dataframe thead th {\n",
       "        text-align: right;\n",
       "    }\n",
       "</style>\n",
       "<table border=\"1\" class=\"dataframe\">\n",
       "  <thead>\n",
       "    <tr style=\"text-align: right;\">\n",
       "      <th></th>\n",
       "      <th>ReportName</th>\n",
       "      <th>ReportPath</th>\n",
       "    </tr>\n",
       "  </thead>\n",
       "  <tbody>\n",
       "    <tr>\n",
       "      <th>64</th>\n",
       "      <td>Pre-Check Deduction</td>\n",
       "      <td>/content/folder[@name='zzzCompany Folders']/fo...</td>\n",
       "    </tr>\n",
       "    <tr>\n",
       "      <th>65</th>\n",
       "      <td>Pre-Check Earnings</td>\n",
       "      <td>/content/folder[@name='zzzCompany Folders']/fo...</td>\n",
       "    </tr>\n",
       "    <tr>\n",
       "      <th>66</th>\n",
       "      <td>Pre-Check Master</td>\n",
       "      <td>/content/folder[@name='zzzCompany Folders']/fo...</td>\n",
       "    </tr>\n",
       "    <tr>\n",
       "      <th>67</th>\n",
       "      <td>Pre-Check Payroll Register</td>\n",
       "      <td>/content/folder[@name='zzzCompany Folders']/fo...</td>\n",
       "    </tr>\n",
       "    <tr>\n",
       "      <th>68</th>\n",
       "      <td>Pre-Check Tax</td>\n",
       "      <td>/content/folder[@name='zzzCompany Folders']/fo...</td>\n",
       "    </tr>\n",
       "    <tr>\n",
       "      <th>69</th>\n",
       "      <td>Prenote</td>\n",
       "      <td>/content/folder[@name='zzzCompany Folders']/fo...</td>\n",
       "    </tr>\n",
       "  </tbody>\n",
       "</table>\n",
       "</div>"
      ],
      "text/plain": [
       "                    ReportName  \\\n",
       "64         Pre-Check Deduction   \n",
       "65          Pre-Check Earnings   \n",
       "66            Pre-Check Master   \n",
       "67  Pre-Check Payroll Register   \n",
       "68               Pre-Check Tax   \n",
       "69                     Prenote   \n",
       "\n",
       "                                           ReportPath  \n",
       "64  /content/folder[@name='zzzCompany Folders']/fo...  \n",
       "65  /content/folder[@name='zzzCompany Folders']/fo...  \n",
       "66  /content/folder[@name='zzzCompany Folders']/fo...  \n",
       "67  /content/folder[@name='zzzCompany Folders']/fo...  \n",
       "68  /content/folder[@name='zzzCompany Folders']/fo...  \n",
       "69  /content/folder[@name='zzzCompany Folders']/fo...  "
      ]
     },
     "execution_count": 4,
     "metadata": {},
     "output_type": "execute_result"
    }
   ],
   "source": [
    "#Get the precheck deduction report pathname\n",
    "report_lst[report_lst['ReportName'].str.contains('pre', regex=True, case=False)]"
   ]
  },
  {
   "cell_type": "code",
   "execution_count": 5,
   "metadata": {},
   "outputs": [
    {
     "data": {
      "text/plain": [
       "\"/content/folder[@name='zzzCompany Folders']/folder[@name='Proliance Surgeons, Inc., P.S.']/folder[@name='UltiPro']/folder[@name='Export to SQL']/report[@name='Pre-Check Earnings']\""
      ]
     },
     "execution_count": 5,
     "metadata": {},
     "output_type": "execute_result"
    }
   ],
   "source": [
    "report_path = report_lst[report_lst['ReportName'] == 'Pre-Check Earnings']['ReportPath'].loc[65]\n",
    "report_path"
   ]
  },
  {
   "cell_type": "markdown",
   "id": "f12e2826",
   "metadata": {},
   "source": [
    "## Step 2: Retrieve the report"
   ]
  },
  {
   "cell_type": "code",
   "execution_count": 6,
   "metadata": {},
   "outputs": [
    {
     "name": "stderr",
     "output_type": "stream",
     "text": [
      "c:\\UKG\\Reports as a service\\Precheck\\helper_functions.py:367: FutureWarning: The default value of regex will change from True to False in a future version. In addition, single character regular expressions will *not* be treated as literal strings when regex=True.\n",
      "  df[col] = df[col].astype(str).str.replace('{', '')\n",
      "c:\\UKG\\Reports as a service\\Precheck\\helper_functions.py:368: FutureWarning: The default value of regex will change from True to False in a future version. In addition, single character regular expressions will *not* be treated as literal strings when regex=True.\n",
      "  df[col] = df[col].astype(str).str.replace('}', '')\n",
      "c:\\UKG\\Reports as a service\\Precheck\\helper_functions.py:369: FutureWarning: The default value of regex will change from True to False in a future version. In addition, single character regular expressions will *not* be treated as literal strings when regex=True.\n",
      "  df[col] = df[col].astype(str).str.replace('[', '')\n",
      "c:\\UKG\\Reports as a service\\Precheck\\helper_functions.py:370: FutureWarning: The default value of regex will change from True to False in a future version. In addition, single character regular expressions will *not* be treated as literal strings when regex=True.\n",
      "  df[col] = df[col].astype(str).str.replace(']', '')\n"
     ]
    },
    {
     "data": {
      "text/html": [
       "<div>\n",
       "<style scoped>\n",
       "    .dataframe tbody tr th:only-of-type {\n",
       "        vertical-align: middle;\n",
       "    }\n",
       "\n",
       "    .dataframe tbody tr th {\n",
       "        vertical-align: top;\n",
       "    }\n",
       "\n",
       "    .dataframe thead th {\n",
       "        text-align: right;\n",
       "    }\n",
       "</style>\n",
       "<table border=\"1\" class=\"dataframe\">\n",
       "  <thead>\n",
       "    <tr style=\"text-align: right;\">\n",
       "      <th></th>\n",
       "      <th>period_control_date</th>\n",
       "      <th>employee_number</th>\n",
       "      <th>earnings_code</th>\n",
       "      <th>earnings_(stub)</th>\n",
       "      <th>current_amount</th>\n",
       "      <th>current_hours</th>\n",
       "      <th>job_code</th>\n",
       "      <th>job_title</th>\n",
       "      <th>location_code</th>\n",
       "      <th>base_amount</th>\n",
       "      <th>hourly_pay_rate</th>\n",
       "      <th>ytd_amount</th>\n",
       "      <th>pay_rate</th>\n",
       "    </tr>\n",
       "  </thead>\n",
       "  <tbody>\n",
       "    <tr>\n",
       "      <th>0</th>\n",
       "      <td>2023-02-17T00:00:00</td>\n",
       "      <td>001004225</td>\n",
       "      <td>REG</td>\n",
       "      <td>Regular Pay</td>\n",
       "      <td>866.76</td>\n",
       "      <td>31</td>\n",
       "      <td>110005</td>\n",
       "      <td>MA Supervisor</td>\n",
       "      <td>001500</td>\n",
       "      <td>866.76</td>\n",
       "      <td>27.96</td>\n",
       "      <td>1344.32</td>\n",
       "      <td>27.96</td>\n",
       "    </tr>\n",
       "    <tr>\n",
       "      <th>1</th>\n",
       "      <td>2023-02-17T00:00:00</td>\n",
       "      <td>001005225</td>\n",
       "      <td>BONUS</td>\n",
       "      <td>Bonus</td>\n",
       "      <td>1466.1</td>\n",
       "      <td>'@xs:nil': 'true'</td>\n",
       "      <td>110001</td>\n",
       "      <td>MA</td>\n",
       "      <td>008040</td>\n",
       "      <td>1466.1</td>\n",
       "      <td>23.45</td>\n",
       "      <td>2932.2</td>\n",
       "      <td>0</td>\n",
       "    </tr>\n",
       "  </tbody>\n",
       "</table>\n",
       "</div>"
      ],
      "text/plain": [
       "   period_control_date employee_number earnings_code earnings_(stub)  \\\n",
       "0  2023-02-17T00:00:00       001004225           REG     Regular Pay   \n",
       "1  2023-02-17T00:00:00       001005225         BONUS           Bonus   \n",
       "\n",
       "  current_amount      current_hours job_code      job_title location_code  \\\n",
       "0         866.76                 31   110005  MA Supervisor        001500   \n",
       "1         1466.1  '@xs:nil': 'true'   110001             MA        008040   \n",
       "\n",
       "  base_amount hourly_pay_rate ytd_amount pay_rate  \n",
       "0      866.76           27.96    1344.32    27.96  \n",
       "1      1466.1           23.45     2932.2        0  "
      ]
     },
     "execution_count": 6,
     "metadata": {},
     "output_type": "execute_result"
    }
   ],
   "source": [
    "df = helper_functions.retrieve_report(report_path) \n",
    "df"
   ]
  },
  {
   "cell_type": "code",
   "execution_count": 7,
   "metadata": {},
   "outputs": [
    {
     "data": {
      "text/html": [
       "<div>\n",
       "<style scoped>\n",
       "    .dataframe tbody tr th:only-of-type {\n",
       "        vertical-align: middle;\n",
       "    }\n",
       "\n",
       "    .dataframe tbody tr th {\n",
       "        vertical-align: top;\n",
       "    }\n",
       "\n",
       "    .dataframe thead th {\n",
       "        text-align: right;\n",
       "    }\n",
       "</style>\n",
       "<table border=\"1\" class=\"dataframe\">\n",
       "  <thead>\n",
       "    <tr style=\"text-align: right;\">\n",
       "      <th></th>\n",
       "      <th>period_control_date</th>\n",
       "      <th>employee_number</th>\n",
       "      <th>earnings_code</th>\n",
       "      <th>earnings_(stub)</th>\n",
       "      <th>current_amount</th>\n",
       "      <th>current_hours</th>\n",
       "      <th>job_code</th>\n",
       "      <th>job_title</th>\n",
       "      <th>location_code</th>\n",
       "      <th>base_amount</th>\n",
       "      <th>hourly_pay_rate</th>\n",
       "      <th>ytd_amount</th>\n",
       "      <th>pay_rate</th>\n",
       "    </tr>\n",
       "  </thead>\n",
       "  <tbody>\n",
       "    <tr>\n",
       "      <th>0</th>\n",
       "      <td>2023-02-17 00:00:00</td>\n",
       "      <td>001004225</td>\n",
       "      <td>REG</td>\n",
       "      <td>Regular Pay</td>\n",
       "      <td>866.76</td>\n",
       "      <td>31</td>\n",
       "      <td>110005</td>\n",
       "      <td>MA Supervisor</td>\n",
       "      <td>001500</td>\n",
       "      <td>866.76</td>\n",
       "      <td>27.96</td>\n",
       "      <td>1344.32</td>\n",
       "      <td>27.96</td>\n",
       "    </tr>\n",
       "    <tr>\n",
       "      <th>1</th>\n",
       "      <td>2023-02-17 00:00:00</td>\n",
       "      <td>001005225</td>\n",
       "      <td>BONUS</td>\n",
       "      <td>Bonus</td>\n",
       "      <td>1466.1</td>\n",
       "      <td>'@xs:nil': 'true'</td>\n",
       "      <td>110001</td>\n",
       "      <td>MA</td>\n",
       "      <td>008040</td>\n",
       "      <td>1466.1</td>\n",
       "      <td>23.45</td>\n",
       "      <td>2932.2</td>\n",
       "      <td>0</td>\n",
       "    </tr>\n",
       "  </tbody>\n",
       "</table>\n",
       "</div>"
      ],
      "text/plain": [
       "   period_control_date employee_number earnings_code earnings_(stub)  \\\n",
       "0  2023-02-17 00:00:00       001004225           REG     Regular Pay   \n",
       "1  2023-02-17 00:00:00       001005225         BONUS           Bonus   \n",
       "\n",
       "  current_amount      current_hours job_code      job_title location_code  \\\n",
       "0         866.76                 31   110005  MA Supervisor        001500   \n",
       "1         1466.1  '@xs:nil': 'true'   110001             MA        008040   \n",
       "\n",
       "  base_amount hourly_pay_rate ytd_amount pay_rate  \n",
       "0      866.76           27.96    1344.32    27.96  \n",
       "1      1466.1           23.45     2932.2        0  "
      ]
     },
     "execution_count": 7,
     "metadata": {},
     "output_type": "execute_result"
    }
   ],
   "source": [
    "#Clean the columns\n",
    "df['period_control_date'] = df['period_control_date'].str.replace('T', ' ')\n",
    "\n",
    "#View the results\n",
    "df"
   ]
  },
  {
   "cell_type": "markdown",
   "metadata": {},
   "source": [
    "# Step 3: Export the report as a CSV"
   ]
  },
  {
   "cell_type": "code",
   "execution_count": 8,
   "metadata": {},
   "outputs": [],
   "source": [
    "#df.to_csv('ukg_bulk_insert.csv', index=False)"
   ]
  },
  {
   "cell_type": "markdown",
   "id": "7c016dbb",
   "metadata": {},
   "source": [
    "# Step 4: Insert the report into BiData2 as a table"
   ]
  },
  {
   "cell_type": "code",
   "execution_count": 9,
   "metadata": {},
   "outputs": [],
   "source": [
    "#helper_functions.create_sql_table_v2('STG_PreCheck_Earnings')"
   ]
  },
  {
   "cell_type": "markdown",
   "metadata": {},
   "source": [
    "# Step 5: Close the API connection"
   ]
  },
  {
   "cell_type": "code",
   "execution_count": 10,
   "metadata": {},
   "outputs": [
    {
     "data": {
      "text/plain": [
       "'<s:Envelope xmlns:s=\"http://www.w3.org/2003/05/soap-envelope\" xmlns:a=\"http://www.w3.org/2005/08/addressing\"><s:Header><a:Action s:mustUnderstand=\"1\">http://www.ultipro.com/dataservices/bidata/2/IBIDataService/LogOffResponse</a:Action></s:Header><s:Body><LogOffResponse xmlns=\"http://www.ultipro.com/dataservices/bidata/2\"><LogOffResult xmlns:i=\"http://www.w3.org/2001/XMLSchema-instance\"><ServiceId i:nil=\"true\"/><ClientAccessKey>PLAB4</ClientAccessKey><Token i:nil=\"true\"/><Status>LoggedOff</Status><StatusMessage i:nil=\"true\"/><InstanceKey i:nil=\"true\"/></LogOffResult></LogOffResponse></s:Body></s:Envelope>'"
      ]
     },
     "execution_count": 10,
     "metadata": {},
     "output_type": "execute_result"
    }
   ],
   "source": [
    "helper_functions.close_api_connection()"
   ]
  },
  {
   "cell_type": "code",
   "execution_count": null,
   "metadata": {},
   "outputs": [],
   "source": []
  }
 ],
 "metadata": {
  "kernelspec": {
   "display_name": "Python 3.9.13 ('base')",
   "language": "python",
   "name": "python3"
  },
  "language_info": {
   "codemirror_mode": {
    "name": "ipython",
    "version": 3
   },
   "file_extension": ".py",
   "mimetype": "text/x-python",
   "name": "python",
   "nbconvert_exporter": "python",
   "pygments_lexer": "ipython3",
   "version": "3.9.13"
  },
  "orig_nbformat": 4,
  "vscode": {
   "interpreter": {
    "hash": "ad2bdc8ecc057115af97d19610ffacc2b4e99fae6737bb82f5d7fb13d2f2c186"
   }
  }
 },
 "nbformat": 4,
 "nbformat_minor": 2
}
