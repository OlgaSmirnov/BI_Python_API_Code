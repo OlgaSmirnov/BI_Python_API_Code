{
 "cells": [
  {
   "cell_type": "code",
   "execution_count": 1,
   "id": "517a86e6",
   "metadata": {},
   "outputs": [],
   "source": [
    "#Import our libraries\n",
    "import time\n",
    "import requests\n",
    "import json\n",
    "import xml.etree.ElementTree as ET  # for parsing XML\n",
    "import xmltodict\n",
    "import pandas as pd\n",
    "import csv\n",
    "import base64 \n",
    "import sqlalchemy\n",
    "\n",
    "#Import our helper functions\n",
    "import helper_functions_labor_distribution"
   ]
  },
  {
   "attachments": {},
   "cell_type": "markdown",
   "id": "6a6b3155",
   "metadata": {},
   "source": [
    "# Step 1: Get file path of report"
   ]
  },
  {
   "cell_type": "code",
   "execution_count": 2,
   "metadata": {},
   "outputs": [
    {
     "data": {
      "text/plain": [
       "\"/content/folder[@name='zzzCompany Folders']/folder[@name='Proliance Surgeons, Inc., P.S.']/folder[@name='UltiPro']/folder[@name='Export to SQL']/report[@name='Locations']\""
      ]
     },
     "execution_count": 2,
     "metadata": {},
     "output_type": "execute_result"
    }
   ],
   "source": [
    "#Pick the one from the \"Export to SQL\" folder\n",
    "#report_path = report_lst[report_lst['ReportName'] == 'Locations']['ReportPath'].loc[52]\n",
    "report_path = helper_functions_labor_distribution.get_report_file_path('Locations')\n",
    "\n",
    "report_path "
   ]
  },
  {
   "cell_type": "markdown",
   "id": "f12e2826",
   "metadata": {},
   "source": [
    "## Step 2: Retrieve the report and export as a CSV"
   ]
  },
  {
   "cell_type": "code",
   "execution_count": 3,
   "metadata": {},
   "outputs": [
    {
     "data": {
      "text/html": [
       "<div>\n",
       "<style scoped>\n",
       "    .dataframe tbody tr th:only-of-type {\n",
       "        vertical-align: middle;\n",
       "    }\n",
       "\n",
       "    .dataframe tbody tr th {\n",
       "        vertical-align: top;\n",
       "    }\n",
       "\n",
       "    .dataframe thead th {\n",
       "        text-align: right;\n",
       "    }\n",
       "</style>\n",
       "<table border=\"1\" class=\"dataframe\">\n",
       "  <thead>\n",
       "    <tr style=\"text-align: right;\">\n",
       "      <th></th>\n",
       "      <th>location_code</th>\n",
       "      <th>location</th>\n",
       "      <th>inactivation_date</th>\n",
       "      <th>inactive</th>\n",
       "    </tr>\n",
       "  </thead>\n",
       "  <tbody>\n",
       "    <tr>\n",
       "      <th>0</th>\n",
       "      <td>000000</td>\n",
       "      <td>Z-DO NOT USE</td>\n",
       "      <td>2016-01-01T00:00:00</td>\n",
       "      <td>Y</td>\n",
       "    </tr>\n",
       "    <tr>\n",
       "      <th>1</th>\n",
       "      <td>000100</td>\n",
       "      <td>CSO</td>\n",
       "      <td>'@xs:nil': 'true'</td>\n",
       "      <td>N</td>\n",
       "    </tr>\n",
       "    <tr>\n",
       "      <th>2</th>\n",
       "      <td>000101</td>\n",
       "      <td>CSOJV - OSC Managers</td>\n",
       "      <td>'@xs:nil': 'true'</td>\n",
       "      <td>N</td>\n",
       "    </tr>\n",
       "    <tr>\n",
       "      <th>3</th>\n",
       "      <td>000104</td>\n",
       "      <td>CSO - TN Finance</td>\n",
       "      <td>'@xs:nil': 'true'</td>\n",
       "      <td>N</td>\n",
       "    </tr>\n",
       "    <tr>\n",
       "      <th>4</th>\n",
       "      <td>000105</td>\n",
       "      <td>CSO - Finance</td>\n",
       "      <td>'@xs:nil': 'true'</td>\n",
       "      <td>N</td>\n",
       "    </tr>\n",
       "    <tr>\n",
       "      <th>...</th>\n",
       "      <td>...</td>\n",
       "      <td>...</td>\n",
       "      <td>...</td>\n",
       "      <td>...</td>\n",
       "    </tr>\n",
       "    <tr>\n",
       "      <th>548</th>\n",
       "      <td>AC0199</td>\n",
       "      <td>CSO - Ops Leadership</td>\n",
       "      <td>'@xs:nil': 'true'</td>\n",
       "      <td>N</td>\n",
       "    </tr>\n",
       "    <tr>\n",
       "      <th>549</th>\n",
       "      <td>AD0182</td>\n",
       "      <td>CSO - Credit Resolution</td>\n",
       "      <td>'@xs:nil': 'true'</td>\n",
       "      <td>N</td>\n",
       "    </tr>\n",
       "    <tr>\n",
       "      <th>550</th>\n",
       "      <td>AD0183</td>\n",
       "      <td>CSO - Central Bus Svs</td>\n",
       "      <td>'@xs:nil': 'true'</td>\n",
       "      <td>N</td>\n",
       "    </tr>\n",
       "    <tr>\n",
       "      <th>551</th>\n",
       "      <td>AD0196</td>\n",
       "      <td>CSO - IT</td>\n",
       "      <td>'@xs:nil': 'true'</td>\n",
       "      <td>N</td>\n",
       "    </tr>\n",
       "    <tr>\n",
       "      <th>552</th>\n",
       "      <td>AD1900</td>\n",
       "      <td>OPA - TX</td>\n",
       "      <td>'@xs:nil': 'true'</td>\n",
       "      <td>N</td>\n",
       "    </tr>\n",
       "  </tbody>\n",
       "</table>\n",
       "<p>553 rows × 4 columns</p>\n",
       "</div>"
      ],
      "text/plain": [
       "    location_code                 location    inactivation_date inactive\n",
       "0          000000             Z-DO NOT USE  2016-01-01T00:00:00        Y\n",
       "1          000100                      CSO    '@xs:nil': 'true'        N\n",
       "2          000101     CSOJV - OSC Managers    '@xs:nil': 'true'        N\n",
       "3          000104         CSO - TN Finance    '@xs:nil': 'true'        N\n",
       "4          000105            CSO - Finance    '@xs:nil': 'true'        N\n",
       "..            ...                      ...                  ...      ...\n",
       "548        AC0199     CSO - Ops Leadership    '@xs:nil': 'true'        N\n",
       "549        AD0182  CSO - Credit Resolution    '@xs:nil': 'true'        N\n",
       "550        AD0183    CSO - Central Bus Svs    '@xs:nil': 'true'        N\n",
       "551        AD0196                 CSO - IT    '@xs:nil': 'true'        N\n",
       "552        AD1900                 OPA - TX    '@xs:nil': 'true'        N\n",
       "\n",
       "[553 rows x 4 columns]"
      ]
     },
     "execution_count": 3,
     "metadata": {},
     "output_type": "execute_result"
    }
   ],
   "source": [
    "df = helper_functions_labor_distribution.retrieve_report(report_path) \n",
    "df "
   ]
  },
  {
   "cell_type": "code",
   "execution_count": 4,
   "metadata": {},
   "outputs": [],
   "source": [
    "#Remove the null values so that they say 0 instead\n",
    "df['location_code'] = df['location_code'].astype(str).replace(\"'@xs:nil': 'true'\", '0')"
   ]
  },
  {
   "cell_type": "markdown",
   "metadata": {},
   "source": [
    "# Step 3: Export the report as a CSV"
   ]
  },
  {
   "cell_type": "code",
   "execution_count": 5,
   "metadata": {},
   "outputs": [],
   "source": [
    "df.to_csv('ukg_bulk_insert.csv', index=False)"
   ]
  },
  {
   "cell_type": "markdown",
   "id": "7c016dbb",
   "metadata": {},
   "source": [
    "# Step 4: Insert the report into BiData2 as a table"
   ]
  },
  {
   "cell_type": "code",
   "execution_count": 6,
   "metadata": {},
   "outputs": [],
   "source": [
    "helper_functions_labor_distribution.create_sql_table_v2('ZZ_TEST_Location')"
   ]
  },
  {
   "cell_type": "markdown",
   "metadata": {},
   "source": [
    "# Step 5: Close the API connection"
   ]
  },
  {
   "cell_type": "code",
   "execution_count": 7,
   "metadata": {},
   "outputs": [
    {
     "data": {
      "text/plain": [
       "'<s:Envelope xmlns:s=\"http://www.w3.org/2003/05/soap-envelope\" xmlns:a=\"http://www.w3.org/2005/08/addressing\"><s:Header><a:Action s:mustUnderstand=\"1\">http://www.ultipro.com/dataservices/bidata/2/IBIDataService/LogOffResponse</a:Action></s:Header><s:Body><LogOffResponse xmlns=\"http://www.ultipro.com/dataservices/bidata/2\"><LogOffResult xmlns:i=\"http://www.w3.org/2001/XMLSchema-instance\"><ServiceId i:nil=\"true\"/><ClientAccessKey>PLAB4</ClientAccessKey><Token i:nil=\"true\"/><Status>LoggedOff</Status><StatusMessage i:nil=\"true\"/><InstanceKey i:nil=\"true\"/></LogOffResult></LogOffResponse></s:Body></s:Envelope>'"
      ]
     },
     "execution_count": 7,
     "metadata": {},
     "output_type": "execute_result"
    }
   ],
   "source": [
    "helper_functions_labor_distribution.close_api_connection()"
   ]
  },
  {
   "attachments": {},
   "cell_type": "markdown",
   "metadata": {},
   "source": [
    "Code to create the table: \n",
    "\n",
    "CREATE TABLE ZZ_TEST_Location(\n",
    "\tLocation_Code NVARCHAR(255),\n",
    "\tLocation NVARCHAR(255),\n",
    "\tInactivation_Date NVARCHAR(255),\n",
    "\tInactive NVARCHAR(255))"
   ]
  },
  {
   "cell_type": "markdown",
   "metadata": {},
   "source": []
  }
 ],
 "metadata": {
  "kernelspec": {
   "display_name": "Python 3.9.13 ('base')",
   "language": "python",
   "name": "python3"
  },
  "language_info": {
   "codemirror_mode": {
    "name": "ipython",
    "version": 3
   },
   "file_extension": ".py",
   "mimetype": "text/x-python",
   "name": "python",
   "nbconvert_exporter": "python",
   "pygments_lexer": "ipython3",
   "version": "3.9.13"
  },
  "orig_nbformat": 4,
  "vscode": {
   "interpreter": {
    "hash": "ad2bdc8ecc057115af97d19610ffacc2b4e99fae6737bb82f5d7fb13d2f2c186"
   }
  }
 },
 "nbformat": 4,
 "nbformat_minor": 2
}
