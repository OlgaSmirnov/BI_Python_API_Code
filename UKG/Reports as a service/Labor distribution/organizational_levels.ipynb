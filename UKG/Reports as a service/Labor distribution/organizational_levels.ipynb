{
 "cells": [
  {
   "cell_type": "code",
   "execution_count": 1,
   "id": "517a86e6",
   "metadata": {},
   "outputs": [],
   "source": [
    "#Import our libraries\n",
    "import time\n",
    "import requests\n",
    "import json\n",
    "import xml.etree.ElementTree as ET  # for parsing XML\n",
    "import xmltodict\n",
    "import pandas as pd\n",
    "import csv\n",
    "import base64 \n",
    "import sqlalchemy\n",
    "\n",
    "#Import our helper functions\n",
    "import helper_functions_labor_distribution"
   ]
  },
  {
   "attachments": {},
   "cell_type": "markdown",
   "id": "6a6b3155",
   "metadata": {},
   "source": [
    "# Step 1: Get report path"
   ]
  },
  {
   "cell_type": "code",
   "execution_count": 2,
   "metadata": {},
   "outputs": [
    {
     "data": {
      "text/plain": [
       "\"/content/folder[@name='zzzCompany Folders']/folder[@name='Proliance Surgeons, Inc., P.S.']/folder[@name='UltiPro']/folder[@name='Export to SQL']/report[@name='Organizational Levels']\""
      ]
     },
     "execution_count": 2,
     "metadata": {},
     "output_type": "execute_result"
    }
   ],
   "source": [
    "#report_path = report_lst[report_lst['ReportName'] == 'Organizational Levels']['ReportPath'].loc[57]\n",
    "report_path = helper_functions_labor_distribution.get_report_file_path('Organizational Levels')\n",
    "\n",
    "report_path "
   ]
  },
  {
   "cell_type": "markdown",
   "id": "f12e2826",
   "metadata": {},
   "source": [
    "## Step 2: Retrieve the report and export as a CSV"
   ]
  },
  {
   "cell_type": "code",
   "execution_count": 3,
   "metadata": {},
   "outputs": [
    {
     "data": {
      "text/html": [
       "<div>\n",
       "<style scoped>\n",
       "    .dataframe tbody tr th:only-of-type {\n",
       "        vertical-align: middle;\n",
       "    }\n",
       "\n",
       "    .dataframe tbody tr th {\n",
       "        vertical-align: top;\n",
       "    }\n",
       "\n",
       "    .dataframe thead th {\n",
       "        text-align: right;\n",
       "    }\n",
       "</style>\n",
       "<table border=\"1\" class=\"dataframe\">\n",
       "  <thead>\n",
       "    <tr style=\"text-align: right;\">\n",
       "      <th></th>\n",
       "      <th>gl_segment</th>\n",
       "      <th>level</th>\n",
       "      <th>manager_(last_suffix,_first_mi)</th>\n",
       "      <th>manager's_alternate_email</th>\n",
       "      <th>manager's_email</th>\n",
       "      <th>organization_code</th>\n",
       "      <th>organization</th>\n",
       "      <th>status_code</th>\n",
       "      <th>status</th>\n",
       "    </tr>\n",
       "  </thead>\n",
       "  <tbody>\n",
       "    <tr>\n",
       "      <th>0</th>\n",
       "      <td>ENT</td>\n",
       "      <td>1</td>\n",
       "      <td>Lenart_ Sylvia B.</td>\n",
       "      <td>'@xs:nil': 'true'</td>\n",
       "      <td>S.Lenart@proliancesurgeons.com</td>\n",
       "      <td>007010</td>\n",
       "      <td>PEENT - CFED</td>\n",
       "      <td>A</td>\n",
       "      <td>Active</td>\n",
       "    </tr>\n",
       "    <tr>\n",
       "      <th>1</th>\n",
       "      <td>ENT</td>\n",
       "      <td>1</td>\n",
       "      <td>Lenart_ Sylvia B.</td>\n",
       "      <td>'@xs:nil': 'true'</td>\n",
       "      <td>S.Lenart@proliancesurgeons.com</td>\n",
       "      <td>007019</td>\n",
       "      <td>PEENT - CFED Optical</td>\n",
       "      <td>A</td>\n",
       "      <td>Active</td>\n",
       "    </tr>\n",
       "    <tr>\n",
       "      <th>2</th>\n",
       "      <td>EVS</td>\n",
       "      <td>1</td>\n",
       "      <td>Wilson_ Carmen M.</td>\n",
       "      <td>'@xs:nil': 'true'</td>\n",
       "      <td>C.Wilson@proliancesurgeons.com</td>\n",
       "      <td>005100</td>\n",
       "      <td>PESC - ASC</td>\n",
       "      <td>A</td>\n",
       "      <td>Active</td>\n",
       "    </tr>\n",
       "    <tr>\n",
       "      <th>3</th>\n",
       "      <td>MNJ</td>\n",
       "      <td>1</td>\n",
       "      <td>Perdue_ Debra L.</td>\n",
       "      <td>'@xs:nil': 'true'</td>\n",
       "      <td>D.Perdue@proliancesurgeons.com</td>\n",
       "      <td>003922</td>\n",
       "      <td>MJSS - Podiatry Bellevue</td>\n",
       "      <td>I</td>\n",
       "      <td>Inactive</td>\n",
       "    </tr>\n",
       "    <tr>\n",
       "      <th>4</th>\n",
       "      <td>MNJ</td>\n",
       "      <td>1</td>\n",
       "      <td>Perdue_ Debra L.</td>\n",
       "      <td>'@xs:nil': 'true'</td>\n",
       "      <td>D.Perdue@proliancesurgeons.com</td>\n",
       "      <td>003923</td>\n",
       "      <td>MJSS - Podiatry Issaquah</td>\n",
       "      <td>I</td>\n",
       "      <td>Inactive</td>\n",
       "    </tr>\n",
       "    <tr>\n",
       "      <th>...</th>\n",
       "      <td>...</td>\n",
       "      <td>...</td>\n",
       "      <td>...</td>\n",
       "      <td>...</td>\n",
       "      <td>...</td>\n",
       "      <td>...</td>\n",
       "      <td>...</td>\n",
       "      <td>...</td>\n",
       "      <td>...</td>\n",
       "    </tr>\n",
       "    <tr>\n",
       "      <th>3258</th>\n",
       "      <td>OCW</td>\n",
       "      <td>1</td>\n",
       "      <td>'@xs:nil': 'true'</td>\n",
       "      <td>'@xs:nil': 'true'</td>\n",
       "      <td>'@xs:nil': 'true'</td>\n",
       "      <td>001902</td>\n",
       "      <td>OPA - MRI</td>\n",
       "      <td>A</td>\n",
       "      <td>Active</td>\n",
       "    </tr>\n",
       "    <tr>\n",
       "      <th>3259</th>\n",
       "      <td>STE</td>\n",
       "      <td>1</td>\n",
       "      <td>'@xs:nil': 'true'</td>\n",
       "      <td>'@xs:nil': 'true'</td>\n",
       "      <td>'@xs:nil': 'true'</td>\n",
       "      <td>002500</td>\n",
       "      <td>EDOC</td>\n",
       "      <td>A</td>\n",
       "      <td>Active</td>\n",
       "    </tr>\n",
       "    <tr>\n",
       "      <th>3260</th>\n",
       "      <td>STE</td>\n",
       "      <td>1</td>\n",
       "      <td>'@xs:nil': 'true'</td>\n",
       "      <td>'@xs:nil': 'true'</td>\n",
       "      <td>'@xs:nil': 'true'</td>\n",
       "      <td>002501</td>\n",
       "      <td>EDOC - COSJS</td>\n",
       "      <td>A</td>\n",
       "      <td>Active</td>\n",
       "    </tr>\n",
       "    <tr>\n",
       "      <th>3261</th>\n",
       "      <td>CPT</td>\n",
       "      <td>1</td>\n",
       "      <td>'@xs:nil': 'true'</td>\n",
       "      <td>'@xs:nil': 'true'</td>\n",
       "      <td>'@xs:nil': 'true'</td>\n",
       "      <td>006900</td>\n",
       "      <td>COHT</td>\n",
       "      <td>A</td>\n",
       "      <td>Active</td>\n",
       "    </tr>\n",
       "    <tr>\n",
       "      <th>3262</th>\n",
       "      <td>STE</td>\n",
       "      <td>1</td>\n",
       "      <td>'@xs:nil': 'true'</td>\n",
       "      <td>'@xs:nil': 'true'</td>\n",
       "      <td>'@xs:nil': 'true'</td>\n",
       "      <td>002502</td>\n",
       "      <td>EDOC - NPSMRI</td>\n",
       "      <td>A</td>\n",
       "      <td>Active</td>\n",
       "    </tr>\n",
       "  </tbody>\n",
       "</table>\n",
       "<p>3263 rows × 9 columns</p>\n",
       "</div>"
      ],
      "text/plain": [
       "     gl_segment level manager_(last_suffix,_first_mi)  \\\n",
       "0           ENT     1               Lenart_ Sylvia B.   \n",
       "1           ENT     1               Lenart_ Sylvia B.   \n",
       "2           EVS     1               Wilson_ Carmen M.   \n",
       "3           MNJ     1                Perdue_ Debra L.   \n",
       "4           MNJ     1                Perdue_ Debra L.   \n",
       "...         ...   ...                             ...   \n",
       "3258        OCW     1               '@xs:nil': 'true'   \n",
       "3259        STE     1               '@xs:nil': 'true'   \n",
       "3260        STE     1               '@xs:nil': 'true'   \n",
       "3261        CPT     1               '@xs:nil': 'true'   \n",
       "3262        STE     1               '@xs:nil': 'true'   \n",
       "\n",
       "     manager's_alternate_email                 manager's_email  \\\n",
       "0            '@xs:nil': 'true'  S.Lenart@proliancesurgeons.com   \n",
       "1            '@xs:nil': 'true'  S.Lenart@proliancesurgeons.com   \n",
       "2            '@xs:nil': 'true'  C.Wilson@proliancesurgeons.com   \n",
       "3            '@xs:nil': 'true'  D.Perdue@proliancesurgeons.com   \n",
       "4            '@xs:nil': 'true'  D.Perdue@proliancesurgeons.com   \n",
       "...                        ...                             ...   \n",
       "3258         '@xs:nil': 'true'               '@xs:nil': 'true'   \n",
       "3259         '@xs:nil': 'true'               '@xs:nil': 'true'   \n",
       "3260         '@xs:nil': 'true'               '@xs:nil': 'true'   \n",
       "3261         '@xs:nil': 'true'               '@xs:nil': 'true'   \n",
       "3262         '@xs:nil': 'true'               '@xs:nil': 'true'   \n",
       "\n",
       "     organization_code              organization status_code    status  \n",
       "0               007010              PEENT - CFED           A    Active  \n",
       "1               007019      PEENT - CFED Optical           A    Active  \n",
       "2               005100                PESC - ASC           A    Active  \n",
       "3               003922  MJSS - Podiatry Bellevue           I  Inactive  \n",
       "4               003923  MJSS - Podiatry Issaquah           I  Inactive  \n",
       "...                ...                       ...         ...       ...  \n",
       "3258            001902                 OPA - MRI           A    Active  \n",
       "3259            002500                      EDOC           A    Active  \n",
       "3260            002501              EDOC - COSJS           A    Active  \n",
       "3261            006900                      COHT           A    Active  \n",
       "3262            002502             EDOC - NPSMRI           A    Active  \n",
       "\n",
       "[3263 rows x 9 columns]"
      ]
     },
     "execution_count": 3,
     "metadata": {},
     "output_type": "execute_result"
    }
   ],
   "source": [
    "df = helper_functions_labor_distribution.retrieve_report(report_path) \n",
    "df "
   ]
  },
  {
   "cell_type": "code",
   "execution_count": 4,
   "metadata": {},
   "outputs": [
    {
     "data": {
      "text/plain": [
       "Index(['gl_segment', 'level', 'manager_(last_suffix,_first_mi)',\n",
       "       'manager's_alternate_email', 'manager's_email', 'organization_code',\n",
       "       'organization', 'status_code', 'status'],\n",
       "      dtype='object')"
      ]
     },
     "execution_count": 4,
     "metadata": {},
     "output_type": "execute_result"
    }
   ],
   "source": [
    "df.columns"
   ]
  },
  {
   "cell_type": "code",
   "execution_count": 5,
   "metadata": {},
   "outputs": [],
   "source": [
    "#Remove the null values so that they say 0 instead\n",
    "df['level'] = df['level'].astype(str).replace(\"'@xs:nil': 'true'\", '0')\n",
    "df['organization_code'] = df['organization_code'].astype(str).replace(\"'@xs:nil': 'true'\", '0')"
   ]
  },
  {
   "cell_type": "markdown",
   "metadata": {},
   "source": [
    "# Step 3: Export the report as a CSV"
   ]
  },
  {
   "cell_type": "code",
   "execution_count": 6,
   "metadata": {},
   "outputs": [],
   "source": [
    "df.to_csv('ukg_bulk_insert.csv', index=False)"
   ]
  },
  {
   "cell_type": "markdown",
   "id": "7c016dbb",
   "metadata": {},
   "source": [
    "# Step 4: Insert the report into BiData2 as a table"
   ]
  },
  {
   "cell_type": "code",
   "execution_count": 7,
   "metadata": {},
   "outputs": [],
   "source": [
    "helper_functions_labor_distribution.create_sql_table_v2('ZZ_TEST_OrgLevel')"
   ]
  },
  {
   "cell_type": "markdown",
   "metadata": {},
   "source": [
    "# Step 5: Close the API connection"
   ]
  },
  {
   "cell_type": "code",
   "execution_count": 8,
   "metadata": {},
   "outputs": [
    {
     "data": {
      "text/plain": [
       "'<s:Envelope xmlns:s=\"http://www.w3.org/2003/05/soap-envelope\" xmlns:a=\"http://www.w3.org/2005/08/addressing\"><s:Header><a:Action s:mustUnderstand=\"1\">http://www.ultipro.com/dataservices/bidata/2/IBIDataService/LogOffResponse</a:Action></s:Header><s:Body><LogOffResponse xmlns=\"http://www.ultipro.com/dataservices/bidata/2\"><LogOffResult xmlns:i=\"http://www.w3.org/2001/XMLSchema-instance\"><ServiceId i:nil=\"true\"/><ClientAccessKey>PLAB4</ClientAccessKey><Token i:nil=\"true\"/><Status>LoggedOff</Status><StatusMessage i:nil=\"true\"/><InstanceKey i:nil=\"true\"/></LogOffResult></LogOffResponse></s:Body></s:Envelope>'"
      ]
     },
     "execution_count": 8,
     "metadata": {},
     "output_type": "execute_result"
    }
   ],
   "source": [
    "helper_functions_labor_distribution.close_api_connection()"
   ]
  },
  {
   "attachments": {},
   "cell_type": "markdown",
   "metadata": {},
   "source": [
    "The code to create the SQL table:\n",
    "CREATE TABLE ZZ_TEST_Organizational_Levels(\n",
    "\tgl_segement VARCHAR(255),\n",
    "\tlevel_ VARCHAR(255),\n",
    "\tmanager_name VARCHAR(255),\n",
    "\tmanager_alternate_email VARCHAR(255),\n",
    "\tmanager_email VARCHAR(255),\n",
    "\torganization_code VARCHAR(255),\n",
    "\torganization VARCHAR(255),\n",
    "\tstatus_code VARCHAR(255),\n",
    "\tstatus_ VARCHAR(255))"
   ]
  },
  {
   "cell_type": "markdown",
   "metadata": {},
   "source": []
  }
 ],
 "metadata": {
  "kernelspec": {
   "display_name": "Python 3.9.13 ('base')",
   "language": "python",
   "name": "python3"
  },
  "language_info": {
   "codemirror_mode": {
    "name": "ipython",
    "version": 3
   },
   "file_extension": ".py",
   "mimetype": "text/x-python",
   "name": "python",
   "nbconvert_exporter": "python",
   "pygments_lexer": "ipython3",
   "version": "3.9.13"
  },
  "orig_nbformat": 4,
  "vscode": {
   "interpreter": {
    "hash": "ad2bdc8ecc057115af97d19610ffacc2b4e99fae6737bb82f5d7fb13d2f2c186"
   }
  }
 },
 "nbformat": 4,
 "nbformat_minor": 2
}
