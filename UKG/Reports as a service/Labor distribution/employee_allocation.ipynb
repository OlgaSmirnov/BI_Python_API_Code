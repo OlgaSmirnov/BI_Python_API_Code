{
 "cells": [
  {
   "cell_type": "code",
   "execution_count": 1,
   "id": "517a86e6",
   "metadata": {},
   "outputs": [],
   "source": [
    "#Import our libraries\n",
    "import time\n",
    "import requests\n",
    "import json\n",
    "import xml.etree.ElementTree as ET  # for parsing XML\n",
    "import xmltodict\n",
    "import pandas as pd\n",
    "import csv\n",
    "import base64 \n",
    "import sqlalchemy\n",
    "\n",
    "#Import our helper functions\n",
    "import helper_functions_labor_distribution"
   ]
  },
  {
   "attachments": {},
   "cell_type": "markdown",
   "id": "6a6b3155",
   "metadata": {},
   "source": [
    "# Step 1: Get the file path"
   ]
  },
  {
   "cell_type": "code",
   "execution_count": 2,
   "metadata": {},
   "outputs": [
    {
     "data": {
      "text/plain": [
       "\"/content/folder[@name='zzzCompany Folders']/folder[@name='Proliance Surgeons, Inc., P.S.']/folder[@name='UltiPro']/folder[@name='Export to SQL']/report[@name='EmployeeAllocation']\""
      ]
     },
     "execution_count": 2,
     "metadata": {},
     "output_type": "execute_result"
    }
   ],
   "source": [
    "report_path = helper_functions_labor_distribution.get_report_file_path('EmployeeAllocation')\n",
    "\n",
    "report_path "
   ]
  },
  {
   "cell_type": "markdown",
   "id": "f12e2826",
   "metadata": {},
   "source": [
    "## Step 2: Retrieve the report and export as a CSV"
   ]
  },
  {
   "cell_type": "code",
   "execution_count": 3,
   "metadata": {},
   "outputs": [
    {
     "data": {
      "text/html": [
       "<div>\n",
       "<style scoped>\n",
       "    .dataframe tbody tr th:only-of-type {\n",
       "        vertical-align: middle;\n",
       "    }\n",
       "\n",
       "    .dataframe tbody tr th {\n",
       "        vertical-align: top;\n",
       "    }\n",
       "\n",
       "    .dataframe thead th {\n",
       "        text-align: right;\n",
       "    }\n",
       "</style>\n",
       "<table border=\"1\" class=\"dataframe\">\n",
       "  <thead>\n",
       "    <tr style=\"text-align: right;\">\n",
       "      <th></th>\n",
       "      <th>Employee</th>\n",
       "      <th>Employee Name</th>\n",
       "      <th>Job</th>\n",
       "      <th>Pay Group</th>\n",
       "      <th>Location</th>\n",
       "      <th>Location Code</th>\n",
       "      <th>Annual</th>\n",
       "      <th>Hourly</th>\n",
       "      <th>Employment Status</th>\n",
       "      <th>Allocation</th>\n",
       "      <th>Job Code</th>\n",
       "      <th>Location Code2</th>\n",
       "      <th>Location2</th>\n",
       "      <th>Org Level 3 Code</th>\n",
       "      <th>Scheduled Work Hours</th>\n",
       "    </tr>\n",
       "  </thead>\n",
       "  <tbody>\n",
       "    <tr>\n",
       "      <th>0</th>\n",
       "      <td>001007204</td>\n",
       "      <td>Aasal_ Ashley E.</td>\n",
       "      <td>Rev Cycle Pymt Poster</td>\n",
       "      <td>Hourly BiWeekly</td>\n",
       "      <td>CSO - Payment Posting</td>\n",
       "      <td>000181</td>\n",
       "      <td>56284.8</td>\n",
       "      <td>27.06</td>\n",
       "      <td>Active</td>\n",
       "      <td>1</td>\n",
       "      <td>130142</td>\n",
       "      <td>000181</td>\n",
       "      <td>CSO - Payment Posting</td>\n",
       "      <td>000</td>\n",
       "      <td>80</td>\n",
       "    </tr>\n",
       "    <tr>\n",
       "      <th>1</th>\n",
       "      <td>001008549</td>\n",
       "      <td>Abafo_ Johanna A.</td>\n",
       "      <td>ASC Manager</td>\n",
       "      <td>Salaried Biweekly</td>\n",
       "      <td>PRS - ASC</td>\n",
       "      <td>002601</td>\n",
       "      <td>114400</td>\n",
       "      <td>55</td>\n",
       "      <td>Active</td>\n",
       "      <td>1</td>\n",
       "      <td>240001</td>\n",
       "      <td>002601</td>\n",
       "      <td>PRS - ASC</td>\n",
       "      <td>000</td>\n",
       "      <td>80</td>\n",
       "    </tr>\n",
       "    <tr>\n",
       "      <th>2</th>\n",
       "      <td>001005805</td>\n",
       "      <td>Abbott_ Deanna L.</td>\n",
       "      <td>Revenue Cycle Specialist</td>\n",
       "      <td>Hourly BiWeekly</td>\n",
       "      <td>EDOC - Ankle &amp; Foot</td>\n",
       "      <td>002540</td>\n",
       "      <td>31200</td>\n",
       "      <td>25</td>\n",
       "      <td>Active</td>\n",
       "      <td>1</td>\n",
       "      <td>110161</td>\n",
       "      <td>002540</td>\n",
       "      <td>EDOC - Ankle &amp; Foot</td>\n",
       "      <td>000</td>\n",
       "      <td>48</td>\n",
       "    </tr>\n",
       "    <tr>\n",
       "      <th>3</th>\n",
       "      <td>001006511</td>\n",
       "      <td>Abuachi_ Chimaroke I.</td>\n",
       "      <td>RN</td>\n",
       "      <td>Hourly BiWeekly</td>\n",
       "      <td>CSO - Valley ASC</td>\n",
       "      <td>000112</td>\n",
       "      <td>87318.4</td>\n",
       "      <td>41.98</td>\n",
       "      <td>Active</td>\n",
       "      <td>1</td>\n",
       "      <td>120001</td>\n",
       "      <td>000112</td>\n",
       "      <td>CSO - Valley ASC</td>\n",
       "      <td>000</td>\n",
       "      <td>80</td>\n",
       "    </tr>\n",
       "    <tr>\n",
       "      <th>4</th>\n",
       "      <td>001000432</td>\n",
       "      <td>Acosta_ Grace Lynne M.</td>\n",
       "      <td>Revenue Cycle Specialist</td>\n",
       "      <td>Hourly BiWeekly</td>\n",
       "      <td>BENT - Issaquah</td>\n",
       "      <td>007944</td>\n",
       "      <td>0</td>\n",
       "      <td>29.85</td>\n",
       "      <td>Active</td>\n",
       "      <td>0</td>\n",
       "      <td>110161</td>\n",
       "      <td>007944</td>\n",
       "      <td>BENT - Issaquah</td>\n",
       "      <td>000</td>\n",
       "      <td>0</td>\n",
       "    </tr>\n",
       "    <tr>\n",
       "      <th>...</th>\n",
       "      <td>...</td>\n",
       "      <td>...</td>\n",
       "      <td>...</td>\n",
       "      <td>...</td>\n",
       "      <td>...</td>\n",
       "      <td>...</td>\n",
       "      <td>...</td>\n",
       "      <td>...</td>\n",
       "      <td>...</td>\n",
       "      <td>...</td>\n",
       "      <td>...</td>\n",
       "      <td>...</td>\n",
       "      <td>...</td>\n",
       "      <td>...</td>\n",
       "      <td>...</td>\n",
       "    </tr>\n",
       "    <tr>\n",
       "      <th>2553</th>\n",
       "      <td>001006953</td>\n",
       "      <td>Zanavich_ David D.</td>\n",
       "      <td>Radiology Technologist</td>\n",
       "      <td>Hourly BiWeekly</td>\n",
       "      <td>PHSC</td>\n",
       "      <td>001100</td>\n",
       "      <td>0</td>\n",
       "      <td>35</td>\n",
       "      <td>Active</td>\n",
       "      <td>1</td>\n",
       "      <td>110311</td>\n",
       "      <td>001100</td>\n",
       "      <td>PHSC</td>\n",
       "      <td>000</td>\n",
       "      <td>0</td>\n",
       "    </tr>\n",
       "    <tr>\n",
       "      <th>2554</th>\n",
       "      <td>001008545</td>\n",
       "      <td>Zhang_ Jasmine L.</td>\n",
       "      <td>RN</td>\n",
       "      <td>Hourly BiWeekly</td>\n",
       "      <td>MJSS - ASC</td>\n",
       "      <td>004000</td>\n",
       "      <td>0</td>\n",
       "      <td>50</td>\n",
       "      <td>Active</td>\n",
       "      <td>1</td>\n",
       "      <td>120001</td>\n",
       "      <td>004000</td>\n",
       "      <td>MJSS - ASC</td>\n",
       "      <td>000</td>\n",
       "      <td>0</td>\n",
       "    </tr>\n",
       "    <tr>\n",
       "      <th>2555</th>\n",
       "      <td>001007823</td>\n",
       "      <td>Zornes_ Cosette M.</td>\n",
       "      <td>LPN</td>\n",
       "      <td>Hourly BiWeekly</td>\n",
       "      <td>ECOS</td>\n",
       "      <td>001000</td>\n",
       "      <td>57954</td>\n",
       "      <td>37.15</td>\n",
       "      <td>Active</td>\n",
       "      <td>1</td>\n",
       "      <td>120011</td>\n",
       "      <td>001000</td>\n",
       "      <td>ECOS</td>\n",
       "      <td>000</td>\n",
       "      <td>60</td>\n",
       "    </tr>\n",
       "    <tr>\n",
       "      <th>2556</th>\n",
       "      <td>001001109</td>\n",
       "      <td>Zundel_ Roger S.</td>\n",
       "      <td>Physician</td>\n",
       "      <td>Doctor BiWeekly</td>\n",
       "      <td>BENT</td>\n",
       "      <td>007900</td>\n",
       "      <td>39648</td>\n",
       "      <td>19.061538</td>\n",
       "      <td>Active</td>\n",
       "      <td>1</td>\n",
       "      <td>300</td>\n",
       "      <td>007900</td>\n",
       "      <td>BENT</td>\n",
       "      <td>3016</td>\n",
       "      <td>80</td>\n",
       "    </tr>\n",
       "    <tr>\n",
       "      <th>2557</th>\n",
       "      <td>001006766</td>\n",
       "      <td>Zwolski_ Jane E.</td>\n",
       "      <td>MA</td>\n",
       "      <td>Hourly BiWeekly</td>\n",
       "      <td>NWWH</td>\n",
       "      <td>004300</td>\n",
       "      <td>54600</td>\n",
       "      <td>26.25</td>\n",
       "      <td>Active</td>\n",
       "      <td>1</td>\n",
       "      <td>110001</td>\n",
       "      <td>004300</td>\n",
       "      <td>NWWH</td>\n",
       "      <td>000</td>\n",
       "      <td>80</td>\n",
       "    </tr>\n",
       "  </tbody>\n",
       "</table>\n",
       "<p>2558 rows × 15 columns</p>\n",
       "</div>"
      ],
      "text/plain": [
       "       Employee           Employee Name                       Job  \\\n",
       "0     001007204        Aasal_ Ashley E.     Rev Cycle Pymt Poster   \n",
       "1     001008549       Abafo_ Johanna A.               ASC Manager   \n",
       "2     001005805       Abbott_ Deanna L.  Revenue Cycle Specialist   \n",
       "3     001006511   Abuachi_ Chimaroke I.                        RN   \n",
       "4     001000432  Acosta_ Grace Lynne M.  Revenue Cycle Specialist   \n",
       "...         ...                     ...                       ...   \n",
       "2553  001006953      Zanavich_ David D.    Radiology Technologist   \n",
       "2554  001008545       Zhang_ Jasmine L.                        RN   \n",
       "2555  001007823      Zornes_ Cosette M.                       LPN   \n",
       "2556  001001109        Zundel_ Roger S.                 Physician   \n",
       "2557  001006766        Zwolski_ Jane E.                        MA   \n",
       "\n",
       "              Pay Group               Location Location Code   Annual  \\\n",
       "0       Hourly BiWeekly  CSO - Payment Posting        000181  56284.8   \n",
       "1     Salaried Biweekly              PRS - ASC        002601   114400   \n",
       "2       Hourly BiWeekly    EDOC - Ankle & Foot        002540    31200   \n",
       "3       Hourly BiWeekly       CSO - Valley ASC        000112  87318.4   \n",
       "4       Hourly BiWeekly        BENT - Issaquah        007944        0   \n",
       "...                 ...                    ...           ...      ...   \n",
       "2553    Hourly BiWeekly                   PHSC        001100        0   \n",
       "2554    Hourly BiWeekly             MJSS - ASC        004000        0   \n",
       "2555    Hourly BiWeekly                   ECOS        001000    57954   \n",
       "2556    Doctor BiWeekly                   BENT        007900    39648   \n",
       "2557    Hourly BiWeekly                   NWWH        004300    54600   \n",
       "\n",
       "         Hourly Employment Status Allocation Job Code Location Code2  \\\n",
       "0         27.06            Active          1   130142         000181   \n",
       "1            55            Active          1   240001         002601   \n",
       "2            25            Active          1   110161         002540   \n",
       "3         41.98            Active          1   120001         000112   \n",
       "4         29.85            Active          0   110161         007944   \n",
       "...         ...               ...        ...      ...            ...   \n",
       "2553         35            Active          1   110311         001100   \n",
       "2554         50            Active          1   120001         004000   \n",
       "2555      37.15            Active          1   120011         001000   \n",
       "2556  19.061538            Active          1      300         007900   \n",
       "2557      26.25            Active          1   110001         004300   \n",
       "\n",
       "                  Location2 Org Level 3 Code Scheduled Work Hours  \n",
       "0     CSO - Payment Posting              000                   80  \n",
       "1                 PRS - ASC              000                   80  \n",
       "2       EDOC - Ankle & Foot              000                   48  \n",
       "3          CSO - Valley ASC              000                   80  \n",
       "4           BENT - Issaquah              000                    0  \n",
       "...                     ...              ...                  ...  \n",
       "2553                   PHSC              000                    0  \n",
       "2554             MJSS - ASC              000                    0  \n",
       "2555                   ECOS              000                   60  \n",
       "2556                   BENT             3016                   80  \n",
       "2557                   NWWH              000                   80  \n",
       "\n",
       "[2558 rows x 15 columns]"
      ]
     },
     "execution_count": 3,
     "metadata": {},
     "output_type": "execute_result"
    }
   ],
   "source": [
    "df = helper_functions_labor_distribution.retrieve_employee_allocation_report(report_path) \n",
    "df "
   ]
  },
  {
   "cell_type": "code",
   "execution_count": 4,
   "metadata": {},
   "outputs": [
    {
     "data": {
      "text/plain": [
       "Index(['Employee', 'Employee Name', 'Job', 'Pay Group', 'Location',\n",
       "       'Location Code', 'Annual', 'Hourly', 'Employment Status', 'Allocation',\n",
       "       'Job Code', 'Location Code2', 'Location2', 'Org Level 3 Code',\n",
       "       'Scheduled Work Hours'],\n",
       "      dtype='object')"
      ]
     },
     "execution_count": 4,
     "metadata": {},
     "output_type": "execute_result"
    }
   ],
   "source": [
    "df.columns"
   ]
  },
  {
   "cell_type": "code",
   "execution_count": 5,
   "metadata": {},
   "outputs": [],
   "source": [
    "#Remove the null values so that they say 0 instead\n",
    "df['Location Code'] = df['Location Code'].astype(str).replace(\"'@xs:nil': 'true'\", '0')\n",
    "df['Annual'] = df['Annual'].astype(str).replace(\"'@xs:nil': 'true'\", '0')\n",
    "df['Hourly'] = df['Hourly'].astype(str).replace(\"'@xs:nil': 'true'\", '0')\n",
    "df['Allocation'] = df['Allocation'].astype(str).replace(\"'@xs:nil': 'true'\", '0')\n",
    "df['Job Code'] = df['Job Code'].astype(str).replace(\"'@xs:nil': 'true'\", '0')\n",
    "df['Location Code2'] = df['Location Code2'].astype(str).replace(\"'@xs:nil': 'true'\", '0')\n",
    "df['Org Level 3 Code'] = df['Org Level 3 Code'].astype(str).replace(\"'@xs:nil': 'true'\", '0')\n",
    "df['Scheduled Work Hours'] = df['Scheduled Work Hours'].astype(str).replace(\"'@xs:nil': 'true'\", '0')"
   ]
  },
  {
   "cell_type": "markdown",
   "metadata": {},
   "source": [
    "# Step 3: Export the report as a CSV"
   ]
  },
  {
   "cell_type": "code",
   "execution_count": 6,
   "metadata": {},
   "outputs": [],
   "source": [
    "df.to_csv('ukg_bulk_insert.csv', index=False)"
   ]
  },
  {
   "cell_type": "markdown",
   "id": "7c016dbb",
   "metadata": {},
   "source": [
    "# Step 4: Insert the report into BiData2 as a table"
   ]
  },
  {
   "cell_type": "code",
   "execution_count": 7,
   "metadata": {},
   "outputs": [],
   "source": [
    "helper_functions_labor_distribution.create_sql_table_v2('ZZ_TEST_EmployeeAllocation')"
   ]
  },
  {
   "cell_type": "markdown",
   "metadata": {},
   "source": [
    "# Step 5: Close the API connection"
   ]
  },
  {
   "cell_type": "code",
   "execution_count": 8,
   "metadata": {},
   "outputs": [
    {
     "data": {
      "text/plain": [
       "'<s:Envelope xmlns:s=\"http://www.w3.org/2003/05/soap-envelope\" xmlns:a=\"http://www.w3.org/2005/08/addressing\"><s:Header><a:Action s:mustUnderstand=\"1\">http://www.ultipro.com/dataservices/bidata/2/IBIDataService/LogOffResponse</a:Action></s:Header><s:Body><LogOffResponse xmlns=\"http://www.ultipro.com/dataservices/bidata/2\"><LogOffResult xmlns:i=\"http://www.w3.org/2001/XMLSchema-instance\"><ServiceId i:nil=\"true\"/><ClientAccessKey>PLAB4</ClientAccessKey><Token i:nil=\"true\"/><Status>LoggedOff</Status><StatusMessage i:nil=\"true\"/><InstanceKey i:nil=\"true\"/></LogOffResult></LogOffResponse></s:Body></s:Envelope>'"
      ]
     },
     "execution_count": 8,
     "metadata": {},
     "output_type": "execute_result"
    }
   ],
   "source": [
    "helper_functions_labor_distribution.close_api_connection()"
   ]
  },
  {
   "attachments": {},
   "cell_type": "markdown",
   "metadata": {},
   "source": [
    "The code to create the SQL Table:\n",
    "CREATE TABLE ZZ_TEST_EmployeeAllocation(\n",
    "\temployee_number NVARCHAR(255), \n",
    "\temployee_name NVARCHAR(255), \n",
    "\tJob NVARCHAR(255), \n",
    "\tpay_group NVARCHAR(255), \n",
    "\tlocation NVARCHAR(255), \n",
    "\tlocation_code NVARCHAR(255), \n",
    "\tannual NVARCHAR(255), \n",
    "\thourly NVARCHAR(255), \n",
    "\temployment_status NVARCHAR(255), \n",
    "\tallocation NVARCHAR(255), \n",
    "\tjob_code NVARCHAR(255), \n",
    "\tlocation_code_2 NVARCHAR(255), \n",
    "\tlocation2 NVARCHAR(255), \n",
    "\torg_level_3_code NVARCHAR(255), \n",
    "\tscheduled_work_hours NVARCHAR(255))"
   ]
  },
  {
   "cell_type": "markdown",
   "metadata": {},
   "source": []
  }
 ],
 "metadata": {
  "kernelspec": {
   "display_name": "Python 3.9.13 ('base')",
   "language": "python",
   "name": "python3"
  },
  "language_info": {
   "codemirror_mode": {
    "name": "ipython",
    "version": 3
   },
   "file_extension": ".py",
   "mimetype": "text/x-python",
   "name": "python",
   "nbconvert_exporter": "python",
   "pygments_lexer": "ipython3",
   "version": "3.9.13"
  },
  "orig_nbformat": 4,
  "vscode": {
   "interpreter": {
    "hash": "ad2bdc8ecc057115af97d19610ffacc2b4e99fae6737bb82f5d7fb13d2f2c186"
   }
  }
 },
 "nbformat": 4,
 "nbformat_minor": 2
}
