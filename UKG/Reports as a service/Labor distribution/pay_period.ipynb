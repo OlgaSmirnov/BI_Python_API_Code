{
 "cells": [
  {
   "cell_type": "code",
   "execution_count": 1,
   "id": "517a86e6",
   "metadata": {},
   "outputs": [],
   "source": [
    "#Import our libraries\n",
    "import time\n",
    "import requests\n",
    "import json\n",
    "import xml.etree.ElementTree as ET  # for parsing XML\n",
    "import xmltodict\n",
    "import pandas as pd\n",
    "import csv\n",
    "import base64 \n",
    "import sqlalchemy\n",
    "\n",
    "#Import our helper functions\n",
    "import helper_functions_labor_distribution"
   ]
  },
  {
   "cell_type": "markdown",
   "id": "6a6b3155",
   "metadata": {},
   "source": [
    "# Step 1: View the list of reports available"
   ]
  },
  {
   "cell_type": "code",
   "execution_count": 2,
   "metadata": {},
   "outputs": [
    {
     "data": {
      "text/plain": [
       "\"/content/folder[@name='zzzCompany Folders']/folder[@name='Proliance Surgeons, Inc., P.S.']/folder[@name='UltiPro']/folder[@name='Export to SQL']/report[@name='Pay Period']\""
      ]
     },
     "execution_count": 2,
     "metadata": {},
     "output_type": "execute_result"
    }
   ],
   "source": [
    "#report_path = report_lst[report_lst['ReportName'] == 'Pay Period']['ReportPath'].loc[59]\n",
    "report_path = helper_functions_labor_distribution.get_report_file_path('Pay Period')\n",
    "\n",
    "report_path "
   ]
  },
  {
   "cell_type": "markdown",
   "id": "f12e2826",
   "metadata": {},
   "source": [
    "## Step 2: Retrieve the report and export as a CSV"
   ]
  },
  {
   "cell_type": "code",
   "execution_count": 3,
   "metadata": {},
   "outputs": [
    {
     "data": {
      "text/html": [
       "<div>\n",
       "<style scoped>\n",
       "    .dataframe tbody tr th:only-of-type {\n",
       "        vertical-align: middle;\n",
       "    }\n",
       "\n",
       "    .dataframe tbody tr th {\n",
       "        vertical-align: top;\n",
       "    }\n",
       "\n",
       "    .dataframe thead th {\n",
       "        text-align: right;\n",
       "    }\n",
       "</style>\n",
       "<table border=\"1\" class=\"dataframe\">\n",
       "  <thead>\n",
       "    <tr style=\"text-align: right;\">\n",
       "      <th></th>\n",
       "      <th>monthly_pay_period_number</th>\n",
       "      <th>mqy-end_flag</th>\n",
       "      <th>pay_date</th>\n",
       "      <th>pay_date_sequence</th>\n",
       "      <th>pay_group_code</th>\n",
       "      <th>pay_group</th>\n",
       "      <th>pay_period_id</th>\n",
       "      <th>period_closed</th>\n",
       "      <th>period_end_date</th>\n",
       "      <th>period_start_date</th>\n",
       "      <th>period_type_code</th>\n",
       "      <th>period_type</th>\n",
       "    </tr>\n",
       "  </thead>\n",
       "  <tbody>\n",
       "    <tr>\n",
       "      <th>0</th>\n",
       "      <td>1</td>\n",
       "      <td>None</td>\n",
       "      <td>2013-06-07T00:00:00</td>\n",
       "      <td>1</td>\n",
       "      <td>SALARY</td>\n",
       "      <td>Salaried Biweekly</td>\n",
       "      <td>970</td>\n",
       "      <td>Y</td>\n",
       "      <td>2013-06-01T00:00:00</td>\n",
       "      <td>2013-05-19T00:00:00</td>\n",
       "      <td>R</td>\n",
       "      <td>Reg</td>\n",
       "    </tr>\n",
       "    <tr>\n",
       "      <th>1</th>\n",
       "      <td>1</td>\n",
       "      <td>None</td>\n",
       "      <td>2013-06-07T00:00:00</td>\n",
       "      <td>1</td>\n",
       "      <td>HOURLY</td>\n",
       "      <td>Hourly BiWeekly</td>\n",
       "      <td>944</td>\n",
       "      <td>Y</td>\n",
       "      <td>2013-06-01T00:00:00</td>\n",
       "      <td>2013-05-19T00:00:00</td>\n",
       "      <td>R</td>\n",
       "      <td>Reg</td>\n",
       "    </tr>\n",
       "    <tr>\n",
       "      <th>2</th>\n",
       "      <td>1</td>\n",
       "      <td>None</td>\n",
       "      <td>2013-06-07T00:00:00</td>\n",
       "      <td>1</td>\n",
       "      <td>DOCTOR</td>\n",
       "      <td>Doctor BiWeekly</td>\n",
       "      <td>996</td>\n",
       "      <td>Y</td>\n",
       "      <td>2013-06-01T00:00:00</td>\n",
       "      <td>2013-05-19T00:00:00</td>\n",
       "      <td>R</td>\n",
       "      <td>Reg</td>\n",
       "    </tr>\n",
       "    <tr>\n",
       "      <th>3</th>\n",
       "      <td>1</td>\n",
       "      <td>None</td>\n",
       "      <td>2013-05-24T00:00:00</td>\n",
       "      <td>1</td>\n",
       "      <td>DOCTM</td>\n",
       "      <td>Doctor Monthly</td>\n",
       "      <td>1016</td>\n",
       "      <td>Y</td>\n",
       "      <td>2013-05-31T00:00:00</td>\n",
       "      <td>2013-05-01T00:00:00</td>\n",
       "      <td>R</td>\n",
       "      <td>Reg</td>\n",
       "    </tr>\n",
       "    <tr>\n",
       "      <th>4</th>\n",
       "      <td>1</td>\n",
       "      <td>None</td>\n",
       "      <td>2013-05-10T00:00:00</td>\n",
       "      <td>1</td>\n",
       "      <td>SALARY</td>\n",
       "      <td>Salaried Biweekly</td>\n",
       "      <td>968</td>\n",
       "      <td>Y</td>\n",
       "      <td>2013-05-04T00:00:00</td>\n",
       "      <td>2013-04-21T00:00:00</td>\n",
       "      <td>R</td>\n",
       "      <td>Reg</td>\n",
       "    </tr>\n",
       "    <tr>\n",
       "      <th>...</th>\n",
       "      <td>...</td>\n",
       "      <td>...</td>\n",
       "      <td>...</td>\n",
       "      <td>...</td>\n",
       "      <td>...</td>\n",
       "      <td>...</td>\n",
       "      <td>...</td>\n",
       "      <td>...</td>\n",
       "      <td>...</td>\n",
       "      <td>...</td>\n",
       "      <td>...</td>\n",
       "      <td>...</td>\n",
       "    </tr>\n",
       "    <tr>\n",
       "      <th>2148</th>\n",
       "      <td>4</td>\n",
       "      <td>Q</td>\n",
       "      <td>2021-06-25T00:00:00</td>\n",
       "      <td>2</td>\n",
       "      <td>DOCTOR</td>\n",
       "      <td>Doctor BiWeekly</td>\n",
       "      <td>1993</td>\n",
       "      <td>Y</td>\n",
       "      <td>2021-06-25T00:00:00</td>\n",
       "      <td>2021-06-25T00:00:00</td>\n",
       "      <td>A</td>\n",
       "      <td>Adj</td>\n",
       "    </tr>\n",
       "    <tr>\n",
       "      <th>2149</th>\n",
       "      <td>4</td>\n",
       "      <td>Q</td>\n",
       "      <td>2021-09-30T00:00:00</td>\n",
       "      <td>4</td>\n",
       "      <td>DOCTOR</td>\n",
       "      <td>Doctor BiWeekly</td>\n",
       "      <td>2105</td>\n",
       "      <td>Y</td>\n",
       "      <td>2021-09-30T00:00:00</td>\n",
       "      <td>2021-09-30T00:00:00</td>\n",
       "      <td>A</td>\n",
       "      <td>Adj</td>\n",
       "    </tr>\n",
       "    <tr>\n",
       "      <th>2150</th>\n",
       "      <td>4</td>\n",
       "      <td>Y</td>\n",
       "      <td>2007-12-31T00:00:00</td>\n",
       "      <td>3</td>\n",
       "      <td>DOCTM</td>\n",
       "      <td>Doctor Monthly</td>\n",
       "      <td>435</td>\n",
       "      <td>Y</td>\n",
       "      <td>2007-12-31T00:00:00</td>\n",
       "      <td>2007-12-31T00:00:00</td>\n",
       "      <td>A</td>\n",
       "      <td>Adj</td>\n",
       "    </tr>\n",
       "    <tr>\n",
       "      <th>2151</th>\n",
       "      <td>4</td>\n",
       "      <td>Y</td>\n",
       "      <td>2017-12-30T00:00:00</td>\n",
       "      <td>3</td>\n",
       "      <td>DOCTOR</td>\n",
       "      <td>Doctor BiWeekly</td>\n",
       "      <td>1580</td>\n",
       "      <td>Y</td>\n",
       "      <td>2017-12-30T00:00:00</td>\n",
       "      <td>2017-12-30T00:00:00</td>\n",
       "      <td>A</td>\n",
       "      <td>Adj</td>\n",
       "    </tr>\n",
       "    <tr>\n",
       "      <th>2152</th>\n",
       "      <td>5</td>\n",
       "      <td>Y</td>\n",
       "      <td>2020-12-31T00:00:00</td>\n",
       "      <td>3</td>\n",
       "      <td>DOCTOR</td>\n",
       "      <td>Doctor BiWeekly</td>\n",
       "      <td>1983</td>\n",
       "      <td>Y</td>\n",
       "      <td>2020-12-31T00:00:00</td>\n",
       "      <td>2020-12-31T00:00:00</td>\n",
       "      <td>A</td>\n",
       "      <td>Adj</td>\n",
       "    </tr>\n",
       "  </tbody>\n",
       "</table>\n",
       "<p>2153 rows × 12 columns</p>\n",
       "</div>"
      ],
      "text/plain": [
       "     monthly_pay_period_number mqy-end_flag             pay_date  \\\n",
       "0                            1         None  2013-06-07T00:00:00   \n",
       "1                            1         None  2013-06-07T00:00:00   \n",
       "2                            1         None  2013-06-07T00:00:00   \n",
       "3                            1         None  2013-05-24T00:00:00   \n",
       "4                            1         None  2013-05-10T00:00:00   \n",
       "...                        ...          ...                  ...   \n",
       "2148                         4            Q  2021-06-25T00:00:00   \n",
       "2149                         4            Q  2021-09-30T00:00:00   \n",
       "2150                         4            Y  2007-12-31T00:00:00   \n",
       "2151                         4            Y  2017-12-30T00:00:00   \n",
       "2152                         5            Y  2020-12-31T00:00:00   \n",
       "\n",
       "     pay_date_sequence pay_group_code          pay_group pay_period_id  \\\n",
       "0                    1         SALARY  Salaried Biweekly           970   \n",
       "1                    1         HOURLY    Hourly BiWeekly           944   \n",
       "2                    1         DOCTOR    Doctor BiWeekly           996   \n",
       "3                    1          DOCTM     Doctor Monthly          1016   \n",
       "4                    1         SALARY  Salaried Biweekly           968   \n",
       "...                ...            ...                ...           ...   \n",
       "2148                 2         DOCTOR    Doctor BiWeekly          1993   \n",
       "2149                 4         DOCTOR    Doctor BiWeekly          2105   \n",
       "2150                 3          DOCTM     Doctor Monthly           435   \n",
       "2151                 3         DOCTOR    Doctor BiWeekly          1580   \n",
       "2152                 3         DOCTOR    Doctor BiWeekly          1983   \n",
       "\n",
       "     period_closed      period_end_date    period_start_date period_type_code  \\\n",
       "0                Y  2013-06-01T00:00:00  2013-05-19T00:00:00                R   \n",
       "1                Y  2013-06-01T00:00:00  2013-05-19T00:00:00                R   \n",
       "2                Y  2013-06-01T00:00:00  2013-05-19T00:00:00                R   \n",
       "3                Y  2013-05-31T00:00:00  2013-05-01T00:00:00                R   \n",
       "4                Y  2013-05-04T00:00:00  2013-04-21T00:00:00                R   \n",
       "...            ...                  ...                  ...              ...   \n",
       "2148             Y  2021-06-25T00:00:00  2021-06-25T00:00:00                A   \n",
       "2149             Y  2021-09-30T00:00:00  2021-09-30T00:00:00                A   \n",
       "2150             Y  2007-12-31T00:00:00  2007-12-31T00:00:00                A   \n",
       "2151             Y  2017-12-30T00:00:00  2017-12-30T00:00:00                A   \n",
       "2152             Y  2020-12-31T00:00:00  2020-12-31T00:00:00                A   \n",
       "\n",
       "     period_type  \n",
       "0            Reg  \n",
       "1            Reg  \n",
       "2            Reg  \n",
       "3            Reg  \n",
       "4            Reg  \n",
       "...          ...  \n",
       "2148         Adj  \n",
       "2149         Adj  \n",
       "2150         Adj  \n",
       "2151         Adj  \n",
       "2152         Adj  \n",
       "\n",
       "[2153 rows x 12 columns]"
      ]
     },
     "execution_count": 3,
     "metadata": {},
     "output_type": "execute_result"
    }
   ],
   "source": [
    "df = helper_functions_labor_distribution.retrieve_report(report_path) \n",
    "df "
   ]
  },
  {
   "cell_type": "code",
   "execution_count": 4,
   "metadata": {},
   "outputs": [
    {
     "data": {
      "text/plain": [
       "Index(['monthly_pay_period_number', 'mqy-end_flag', 'pay_date',\n",
       "       'pay_date_sequence', 'pay_group_code', 'pay_group', 'pay_period_id',\n",
       "       'period_closed', 'period_end_date', 'period_start_date',\n",
       "       'period_type_code', 'period_type'],\n",
       "      dtype='object')"
      ]
     },
     "execution_count": 4,
     "metadata": {},
     "output_type": "execute_result"
    }
   ],
   "source": [
    "df.columns"
   ]
  },
  {
   "cell_type": "code",
   "execution_count": 5,
   "metadata": {},
   "outputs": [],
   "source": [
    "#Remove the null values so that they say 0 instead\n",
    "df['monthly_pay_period_number'] = df['monthly_pay_period_number'].astype(str).replace(\"'@xs:nil': 'true'\", '0')\n",
    "df['pay_date_sequence'] = df['pay_date_sequence'].astype(str).replace(\"'@xs:nil': 'true'\", '0')\n",
    "df['pay_period_id'] = df['pay_period_id'].astype(str).replace(\"'@xs:nil': 'true'\", '0')"
   ]
  },
  {
   "cell_type": "markdown",
   "metadata": {},
   "source": [
    "# Step 3: Export the report as a CSV"
   ]
  },
  {
   "cell_type": "code",
   "execution_count": 6,
   "metadata": {},
   "outputs": [],
   "source": [
    "df.to_csv('ukg_bulk_insert.csv', index=False)"
   ]
  },
  {
   "cell_type": "markdown",
   "id": "7c016dbb",
   "metadata": {},
   "source": [
    "# Step 4: Insert the report into BiData2 as a table"
   ]
  },
  {
   "cell_type": "code",
   "execution_count": 7,
   "metadata": {},
   "outputs": [],
   "source": [
    "helper_functions_labor_distribution.create_sql_table_v2('ZZ_TEST_Payperiod')"
   ]
  },
  {
   "cell_type": "markdown",
   "metadata": {},
   "source": [
    "# Step 5: Close the API connection"
   ]
  },
  {
   "cell_type": "code",
   "execution_count": 8,
   "metadata": {},
   "outputs": [
    {
     "data": {
      "text/plain": [
       "'<s:Envelope xmlns:s=\"http://www.w3.org/2003/05/soap-envelope\" xmlns:a=\"http://www.w3.org/2005/08/addressing\"><s:Header><a:Action s:mustUnderstand=\"1\">http://www.ultipro.com/dataservices/bidata/2/IBIDataService/LogOffResponse</a:Action></s:Header><s:Body><LogOffResponse xmlns=\"http://www.ultipro.com/dataservices/bidata/2\"><LogOffResult xmlns:i=\"http://www.w3.org/2001/XMLSchema-instance\"><ServiceId i:nil=\"true\"/><ClientAccessKey>PLAB4</ClientAccessKey><Token i:nil=\"true\"/><Status>LoggedOff</Status><StatusMessage i:nil=\"true\"/><InstanceKey i:nil=\"true\"/></LogOffResult></LogOffResponse></s:Body></s:Envelope>'"
      ]
     },
     "execution_count": 8,
     "metadata": {},
     "output_type": "execute_result"
    }
   ],
   "source": [
    "helper_functions_labor_distribution.close_api_connection()"
   ]
  },
  {
   "cell_type": "code",
   "execution_count": null,
   "metadata": {},
   "outputs": [],
   "source": []
  }
 ],
 "metadata": {
  "kernelspec": {
   "display_name": "Python 3.9.13 ('base')",
   "language": "python",
   "name": "python3"
  },
  "language_info": {
   "codemirror_mode": {
    "name": "ipython",
    "version": 3
   },
   "file_extension": ".py",
   "mimetype": "text/x-python",
   "name": "python",
   "nbconvert_exporter": "python",
   "pygments_lexer": "ipython3",
   "version": "3.9.13"
  },
  "orig_nbformat": 4,
  "vscode": {
   "interpreter": {
    "hash": "ad2bdc8ecc057115af97d19610ffacc2b4e99fae6737bb82f5d7fb13d2f2c186"
   }
  }
 },
 "nbformat": 4,
 "nbformat_minor": 2
}
